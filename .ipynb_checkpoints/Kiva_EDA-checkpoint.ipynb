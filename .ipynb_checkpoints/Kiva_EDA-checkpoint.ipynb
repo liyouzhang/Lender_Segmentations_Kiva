{
 "cells": [
  {
   "cell_type": "markdown",
   "metadata": {},
   "source": [
    "# Kiva Loan Data EDA and Analysis"
   ]
  },
  {
   "cell_type": "markdown",
   "metadata": {},
   "source": [
    "### About Kiva\n",
    "Kiva is an international nonprofit founded in 2005 with a mission to connect people through lending to alleviate poverty. In June 2018 Kiva was in 85 countries, and had served 2.9 Million borrowers through $ 1.16 Billion worth of loans.\n",
    "\n",
    "### How it works\n",
    "1. A borrower applies for a loan (micro-finance partner, or Kiva directly).\n",
    "2. The loan goes through the underwriting and approval process.\n",
    "3. The loan is posted to Kiva for lenders to support, and a 30-day fundraising period begins.\n",
    "4. Borrowers repay the loans.\n",
    "* Note that Kiva does not collect interest on loans, and Kiva lenders do not receive interest from loans they support on Kiva. However, Field Partners collect interest from borrowers to cover their operation costs.\n",
    "\n",
    "### About Kiva's Data\n",
    "This analysis uses Kiva's Data Snapshot (https://build.kiva.org/docs/data/snapshots) downloaded on June 15th, 2018.\n"
   ]
  },
  {
   "cell_type": "markdown",
   "metadata": {},
   "source": [
    "## Libraries and Data"
   ]
  },
  {
   "cell_type": "code",
   "execution_count": 1,
   "metadata": {},
   "outputs": [],
   "source": [
    "import numpy as np\n",
    "import pandas as pd\n",
    "import matplotlib.pyplot as plt\n",
    "import seaborn as sns\n",
    "import scipy.stats as sts\n",
    "%matplotlib inline"
   ]
  },
  {
   "cell_type": "code",
   "execution_count": 2,
   "metadata": {},
   "outputs": [
    {
     "name": "stdout",
     "output_type": "stream",
     "text": [
      "\u001b[31mlenders.csv\u001b[m\u001b[m       \u001b[31mloans.csv\u001b[m\u001b[m         \u001b[31mloans_lenders.csv\u001b[m\u001b[m\r\n"
     ]
    }
   ],
   "source": [
    "!ls kiva_ds_csv"
   ]
  },
  {
   "cell_type": "code",
   "execution_count": 3,
   "metadata": {},
   "outputs": [],
   "source": [
    "lenders = pd.read_csv('kiva_ds_csv/lenders.csv')"
   ]
  },
  {
   "cell_type": "code",
   "execution_count": null,
   "metadata": {},
   "outputs": [],
   "source": [
    "loans = pd.read_csv('kiva_ds_csv/loans.csv', parse_dates=['POSTED_TIME', 'PLANNED_EXPIRATION_TIME', 'DISBURSE_TIME',\n",
    "       'RAISED_TIME'])"
   ]
  },
  {
   "cell_type": "code",
   "execution_count": 9,
   "metadata": {},
   "outputs": [],
   "source": [
    "loans_lenders = pd.read_csv('kiva_ds_csv/loans_lenders.csv')"
   ]
  },
  {
   "cell_type": "code",
   "execution_count": 5,
   "metadata": {},
   "outputs": [
    {
     "data": {
      "text/plain": [
       "PERMANENT_NAME             0\n",
       "DISPLAY_NAME            2768\n",
       "MAIN_PIC_ID          1590116\n",
       "CITY                 1619306\n",
       "STATE                1713481\n",
       "COUNTRY_CODE         1458635\n",
       "MEMBER_SINCE               0\n",
       "PERSONAL_URL         2189805\n",
       "OCCUPATION           1844514\n",
       "LOAN_BECAUSE         2174852\n",
       "OTHER_INFO           2154640\n",
       "LOAN_PURCHASE_NUM     894281\n",
       "INVITED_BY           1852349\n",
       "NUM_INVITED                0\n",
       "dtype: int64"
      ]
     },
     "execution_count": 5,
     "metadata": {},
     "output_type": "execute_result"
    }
   ],
   "source": [
    "lenders.isnull().sum()"
   ]
  },
  {
   "cell_type": "code",
   "execution_count": 6,
   "metadata": {},
   "outputs": [
    {
     "data": {
      "text/plain": [
       "(2349174, 14)"
      ]
     },
     "execution_count": 6,
     "metadata": {},
     "output_type": "execute_result"
    }
   ],
   "source": [
    "lenders.shape"
   ]
  },
  {
   "cell_type": "code",
   "execution_count": 7,
   "metadata": {},
   "outputs": [
    {
     "data": {
      "text/plain": [
       "(1419607, 34)"
      ]
     },
     "execution_count": 7,
     "metadata": {},
     "output_type": "execute_result"
    }
   ],
   "source": [
    "loans.shape"
   ]
  },
  {
   "cell_type": "code",
   "execution_count": 10,
   "metadata": {},
   "outputs": [
    {
     "data": {
      "text/plain": [
       "(1387432, 2)"
      ]
     },
     "execution_count": 10,
     "metadata": {},
     "output_type": "execute_result"
    }
   ],
   "source": [
    "loans_lenders.shape"
   ]
  },
  {
   "cell_type": "code",
   "execution_count": 11,
   "metadata": {},
   "outputs": [],
   "source": [
    "loans_lenders[\"LENDERS\"] = loans_lenders[\"LENDERS\"].map(lambda x: x.split(','))"
   ]
  },
  {
   "cell_type": "code",
   "execution_count": 12,
   "metadata": {},
   "outputs": [
    {
     "data": {
      "text/html": [
       "<div>\n",
       "<style scoped>\n",
       "    .dataframe tbody tr th:only-of-type {\n",
       "        vertical-align: middle;\n",
       "    }\n",
       "\n",
       "    .dataframe tbody tr th {\n",
       "        vertical-align: top;\n",
       "    }\n",
       "\n",
       "    .dataframe thead th {\n",
       "        text-align: right;\n",
       "    }\n",
       "</style>\n",
       "<table border=\"1\" class=\"dataframe\">\n",
       "  <thead>\n",
       "    <tr style=\"text-align: right;\">\n",
       "      <th></th>\n",
       "      <th>LOAN_ID</th>\n",
       "      <th>LENDERS</th>\n",
       "    </tr>\n",
       "  </thead>\n",
       "  <tbody>\n",
       "    <tr>\n",
       "      <th>0</th>\n",
       "      <td>483693</td>\n",
       "      <td>[muc888,  sam4326,  camaran3922,  lachheb1865,...</td>\n",
       "    </tr>\n",
       "    <tr>\n",
       "      <th>1</th>\n",
       "      <td>483738</td>\n",
       "      <td>[muc888,  nora3555,  williammanashi,  barbara5...</td>\n",
       "    </tr>\n",
       "    <tr>\n",
       "      <th>2</th>\n",
       "      <td>485000</td>\n",
       "      <td>[muc888,  terrystl,  richardandsusan8352,  she...</td>\n",
       "    </tr>\n",
       "    <tr>\n",
       "      <th>3</th>\n",
       "      <td>486087</td>\n",
       "      <td>[muc888,  james5068,  rudi5955,  daniel9859,  ...</td>\n",
       "    </tr>\n",
       "    <tr>\n",
       "      <th>4</th>\n",
       "      <td>534428</td>\n",
       "      <td>[muc888,  niki3008,  teresa9174,  mike4896,  d...</td>\n",
       "    </tr>\n",
       "  </tbody>\n",
       "</table>\n",
       "</div>"
      ],
      "text/plain": [
       "   LOAN_ID                                            LENDERS\n",
       "0   483693  [muc888,  sam4326,  camaran3922,  lachheb1865,...\n",
       "1   483738  [muc888,  nora3555,  williammanashi,  barbara5...\n",
       "2   485000  [muc888,  terrystl,  richardandsusan8352,  she...\n",
       "3   486087  [muc888,  james5068,  rudi5955,  daniel9859,  ...\n",
       "4   534428  [muc888,  niki3008,  teresa9174,  mike4896,  d..."
      ]
     },
     "execution_count": 12,
     "metadata": {},
     "output_type": "execute_result"
    }
   ],
   "source": [
    "loans_lenders.head()"
   ]
  },
  {
   "cell_type": "code",
   "execution_count": 13,
   "metadata": {},
   "outputs": [
    {
     "data": {
      "text/html": [
       "<div>\n",
       "<style scoped>\n",
       "    .dataframe tbody tr th:only-of-type {\n",
       "        vertical-align: middle;\n",
       "    }\n",
       "\n",
       "    .dataframe tbody tr th {\n",
       "        vertical-align: top;\n",
       "    }\n",
       "\n",
       "    .dataframe thead th {\n",
       "        text-align: right;\n",
       "    }\n",
       "</style>\n",
       "<table border=\"1\" class=\"dataframe\">\n",
       "  <thead>\n",
       "    <tr style=\"text-align: right;\">\n",
       "      <th></th>\n",
       "      <th>0</th>\n",
       "    </tr>\n",
       "  </thead>\n",
       "  <tbody>\n",
       "    <tr>\n",
       "      <th>0</th>\n",
       "      <td>[muc888,  sam4326,  camaran3922,  lachheb1865,...</td>\n",
       "    </tr>\n",
       "    <tr>\n",
       "      <th>1</th>\n",
       "      <td>[muc888,  nora3555,  williammanashi,  barbara5...</td>\n",
       "    </tr>\n",
       "    <tr>\n",
       "      <th>2</th>\n",
       "      <td>[muc888,  terrystl,  richardandsusan8352,  she...</td>\n",
       "    </tr>\n",
       "    <tr>\n",
       "      <th>3</th>\n",
       "      <td>[muc888,  james5068,  rudi5955,  daniel9859,  ...</td>\n",
       "    </tr>\n",
       "    <tr>\n",
       "      <th>4</th>\n",
       "      <td>[muc888,  niki3008,  teresa9174,  mike4896,  d...</td>\n",
       "    </tr>\n",
       "    <tr>\n",
       "      <th>5</th>\n",
       "      <td>[muc888,  tristan7990,  shivaun4955,  sam44598...</td>\n",
       "    </tr>\n",
       "    <tr>\n",
       "      <th>6</th>\n",
       "      <td>[muc888,  john38425073,  trolltech4460,  maria...</td>\n",
       "    </tr>\n",
       "    <tr>\n",
       "      <th>7</th>\n",
       "      <td>[muc888,  dougal1825,  dougal1825,  jensdamsga...</td>\n",
       "    </tr>\n",
       "    <tr>\n",
       "      <th>8</th>\n",
       "      <td>[muc888,  rebecca3038,  paul1853,  paul1853,  ...</td>\n",
       "    </tr>\n",
       "    <tr>\n",
       "      <th>9</th>\n",
       "      <td>[klaus5005,  john70242429,  john70242429,  ter...</td>\n",
       "    </tr>\n",
       "    <tr>\n",
       "      <th>10</th>\n",
       "      <td>[bernadette6835,  jean2544,  geko,  lynn9800, ...</td>\n",
       "    </tr>\n",
       "    <tr>\n",
       "      <th>11</th>\n",
       "      <td>[thomas9243,  john56443992,  karen84738084,  s...</td>\n",
       "    </tr>\n",
       "    <tr>\n",
       "      <th>12</th>\n",
       "      <td>[herta6220,  herta6220,  kaleddis,  cruisecomp...</td>\n",
       "    </tr>\n",
       "    <tr>\n",
       "      <th>13</th>\n",
       "      <td>[herta6220,  eva5758,  lukas3902,  peter8627, ...</td>\n",
       "    </tr>\n",
       "    <tr>\n",
       "      <th>14</th>\n",
       "      <td>[herta6220,  maarten6927,  wynne1047,  laura47...</td>\n",
       "    </tr>\n",
       "    <tr>\n",
       "      <th>15</th>\n",
       "      <td>[herta6220,  benjamin3549,  jim2503,  sarah495...</td>\n",
       "    </tr>\n",
       "    <tr>\n",
       "      <th>16</th>\n",
       "      <td>[klaus5809,  lesley4647,  pedro2429,  nollaig5...</td>\n",
       "    </tr>\n",
       "    <tr>\n",
       "      <th>17</th>\n",
       "      <td>[naomi67885443,  mikemaria7249,  tobias5075,  ...</td>\n",
       "    </tr>\n",
       "    <tr>\n",
       "      <th>18</th>\n",
       "      <td>[arnaud4525,  steven5197,  nigel4691,  lpgiral...</td>\n",
       "    </tr>\n",
       "    <tr>\n",
       "      <th>19</th>\n",
       "      <td>[heike1534,  beverly,  ken7832,  gerald5541,  ...</td>\n",
       "    </tr>\n",
       "    <tr>\n",
       "      <th>20</th>\n",
       "      <td>[julie3027,  brendan1249,  antonio6568,  bever...</td>\n",
       "    </tr>\n",
       "    <tr>\n",
       "      <th>21</th>\n",
       "      <td>[kamung8528,  hayley8928,  thomas6441,  sara68...</td>\n",
       "    </tr>\n",
       "    <tr>\n",
       "      <th>22</th>\n",
       "      <td>[max2424,  elizabeth25109101,  kevin85169812, ...</td>\n",
       "    </tr>\n",
       "    <tr>\n",
       "      <th>23</th>\n",
       "      <td>[joseph2012,  naresh2185,  sheri4902,  alessia...</td>\n",
       "    </tr>\n",
       "    <tr>\n",
       "      <th>24</th>\n",
       "      <td>[qqconsultancy1176,  joakim3272,  hubert1432, ...</td>\n",
       "    </tr>\n",
       "    <tr>\n",
       "      <th>25</th>\n",
       "      <td>[qqconsultancy1176,  raphael6263,  steve2085, ...</td>\n",
       "    </tr>\n",
       "    <tr>\n",
       "      <th>26</th>\n",
       "      <td>[melissa1411,  thorsten6691,  beat8177,  beat8...</td>\n",
       "    </tr>\n",
       "    <tr>\n",
       "      <th>27</th>\n",
       "      <td>[muc888,  deydos,  lila7235,  heberlonghurst, ...</td>\n",
       "    </tr>\n",
       "    <tr>\n",
       "      <th>28</th>\n",
       "      <td>[des4626,  billy7053,  cliffmarybethwedding,  ...</td>\n",
       "    </tr>\n",
       "    <tr>\n",
       "      <th>29</th>\n",
       "      <td>[herta6220,  josephine6207,  nhu,  guido9427, ...</td>\n",
       "    </tr>\n",
       "    <tr>\n",
       "      <th>...</th>\n",
       "      <td>...</td>\n",
       "    </tr>\n",
       "    <tr>\n",
       "      <th>1387402</th>\n",
       "      <td>[mb1247,  allen9984]</td>\n",
       "    </tr>\n",
       "    <tr>\n",
       "      <th>1387403</th>\n",
       "      <td>[john1972,  anonymous2012,  will8174,  jeff437...</td>\n",
       "    </tr>\n",
       "    <tr>\n",
       "      <th>1387404</th>\n",
       "      <td>[thomas5391,  szucheng2565,  tom8779,  daniel9...</td>\n",
       "    </tr>\n",
       "    <tr>\n",
       "      <th>1387405</th>\n",
       "      <td>[david9667]</td>\n",
       "    </tr>\n",
       "    <tr>\n",
       "      <th>1387406</th>\n",
       "      <td>[aaron9381,  alexandra6409,  jeanmarie3381,  s...</td>\n",
       "    </tr>\n",
       "    <tr>\n",
       "      <th>1387407</th>\n",
       "      <td>[craig1573,  barbara6740,  ruth2070,  MrTsClas...</td>\n",
       "    </tr>\n",
       "    <tr>\n",
       "      <th>1387408</th>\n",
       "      <td>[amirali5409,  trolltech4460]</td>\n",
       "    </tr>\n",
       "    <tr>\n",
       "      <th>1387409</th>\n",
       "      <td>[hans8594,  fred9002,  reece7838,  nms,  hans8...</td>\n",
       "    </tr>\n",
       "    <tr>\n",
       "      <th>1387410</th>\n",
       "      <td>[ashish5575,  sam5413,  arintoul,  daniel98469...</td>\n",
       "    </tr>\n",
       "    <tr>\n",
       "      <th>1387411</th>\n",
       "      <td>[marilynsmeeagain,  anonymous2012,  jaredhatfi...</td>\n",
       "    </tr>\n",
       "    <tr>\n",
       "      <th>1387412</th>\n",
       "      <td>[d64editor,  will8174,  sara6682,  michael1459...</td>\n",
       "    </tr>\n",
       "    <tr>\n",
       "      <th>1387413</th>\n",
       "      <td>[menno3710,  michael14598672,  poughkeepsieday...</td>\n",
       "    </tr>\n",
       "    <tr>\n",
       "      <th>1387414</th>\n",
       "      <td>[sloebrake,  liam4742,  dps,  sonontse,  angel...</td>\n",
       "    </tr>\n",
       "    <tr>\n",
       "      <th>1387415</th>\n",
       "      <td>[joe4973,  barbara5610,  sander3009,  caroline...</td>\n",
       "    </tr>\n",
       "    <tr>\n",
       "      <th>1387416</th>\n",
       "      <td>[midhurstunited5547,  elinor3894]</td>\n",
       "    </tr>\n",
       "    <tr>\n",
       "      <th>1387417</th>\n",
       "      <td>[zane9551,  mike001,  andrew2404,  howard4162,...</td>\n",
       "    </tr>\n",
       "    <tr>\n",
       "      <th>1387418</th>\n",
       "      <td>[susan8025,  aliasgharmoiz]</td>\n",
       "    </tr>\n",
       "    <tr>\n",
       "      <th>1387419</th>\n",
       "      <td>[gooddogg1,  teamsupportservices6502,  lisa318...</td>\n",
       "    </tr>\n",
       "    <tr>\n",
       "      <th>1387420</th>\n",
       "      <td>[ross8084,  jennifer8608,  gooddogg1,  frank12...</td>\n",
       "    </tr>\n",
       "    <tr>\n",
       "      <th>1387421</th>\n",
       "      <td>[kali7409,  sabinealberto2927,  susannah7250, ...</td>\n",
       "    </tr>\n",
       "    <tr>\n",
       "      <th>1387422</th>\n",
       "      <td>[eckard,  heidi9812,  lenny6081,  bellur4429, ...</td>\n",
       "    </tr>\n",
       "    <tr>\n",
       "      <th>1387423</th>\n",
       "      <td>[eldosetincy]</td>\n",
       "    </tr>\n",
       "    <tr>\n",
       "      <th>1387424</th>\n",
       "      <td>[gooddogg1,  ian2064,  susan3511,  bethany2615...</td>\n",
       "    </tr>\n",
       "    <tr>\n",
       "      <th>1387425</th>\n",
       "      <td>[terence6144,  ugenpeden,  matthew2546,  jeffr...</td>\n",
       "    </tr>\n",
       "    <tr>\n",
       "      <th>1387426</th>\n",
       "      <td>[jangel5269,  gooddogg1]</td>\n",
       "    </tr>\n",
       "    <tr>\n",
       "      <th>1387427</th>\n",
       "      <td>[michael43411218,  carol5987,  gooddogg1,  chr...</td>\n",
       "    </tr>\n",
       "    <tr>\n",
       "      <th>1387428</th>\n",
       "      <td>[rjhoward1986,  jeffrey6870,  trolltech4460,  ...</td>\n",
       "    </tr>\n",
       "    <tr>\n",
       "      <th>1387429</th>\n",
       "      <td>[vicky7746,  gooddogg1,  fairspirit,  craig972...</td>\n",
       "    </tr>\n",
       "    <tr>\n",
       "      <th>1387430</th>\n",
       "      <td>[rich6705,  sergiiy9766,  angela7509,  barbara...</td>\n",
       "    </tr>\n",
       "    <tr>\n",
       "      <th>1387431</th>\n",
       "      <td>[alan5175,  amy38101311]</td>\n",
       "    </tr>\n",
       "  </tbody>\n",
       "</table>\n",
       "<p>1387432 rows × 1 columns</p>\n",
       "</div>"
      ],
      "text/plain": [
       "                                                         0\n",
       "0        [muc888,  sam4326,  camaran3922,  lachheb1865,...\n",
       "1        [muc888,  nora3555,  williammanashi,  barbara5...\n",
       "2        [muc888,  terrystl,  richardandsusan8352,  she...\n",
       "3        [muc888,  james5068,  rudi5955,  daniel9859,  ...\n",
       "4        [muc888,  niki3008,  teresa9174,  mike4896,  d...\n",
       "5        [muc888,  tristan7990,  shivaun4955,  sam44598...\n",
       "6        [muc888,  john38425073,  trolltech4460,  maria...\n",
       "7        [muc888,  dougal1825,  dougal1825,  jensdamsga...\n",
       "8        [muc888,  rebecca3038,  paul1853,  paul1853,  ...\n",
       "9        [klaus5005,  john70242429,  john70242429,  ter...\n",
       "10       [bernadette6835,  jean2544,  geko,  lynn9800, ...\n",
       "11       [thomas9243,  john56443992,  karen84738084,  s...\n",
       "12       [herta6220,  herta6220,  kaleddis,  cruisecomp...\n",
       "13       [herta6220,  eva5758,  lukas3902,  peter8627, ...\n",
       "14       [herta6220,  maarten6927,  wynne1047,  laura47...\n",
       "15       [herta6220,  benjamin3549,  jim2503,  sarah495...\n",
       "16       [klaus5809,  lesley4647,  pedro2429,  nollaig5...\n",
       "17       [naomi67885443,  mikemaria7249,  tobias5075,  ...\n",
       "18       [arnaud4525,  steven5197,  nigel4691,  lpgiral...\n",
       "19       [heike1534,  beverly,  ken7832,  gerald5541,  ...\n",
       "20       [julie3027,  brendan1249,  antonio6568,  bever...\n",
       "21       [kamung8528,  hayley8928,  thomas6441,  sara68...\n",
       "22       [max2424,  elizabeth25109101,  kevin85169812, ...\n",
       "23       [joseph2012,  naresh2185,  sheri4902,  alessia...\n",
       "24       [qqconsultancy1176,  joakim3272,  hubert1432, ...\n",
       "25       [qqconsultancy1176,  raphael6263,  steve2085, ...\n",
       "26       [melissa1411,  thorsten6691,  beat8177,  beat8...\n",
       "27       [muc888,  deydos,  lila7235,  heberlonghurst, ...\n",
       "28       [des4626,  billy7053,  cliffmarybethwedding,  ...\n",
       "29       [herta6220,  josephine6207,  nhu,  guido9427, ...\n",
       "...                                                    ...\n",
       "1387402                               [mb1247,  allen9984]\n",
       "1387403  [john1972,  anonymous2012,  will8174,  jeff437...\n",
       "1387404  [thomas5391,  szucheng2565,  tom8779,  daniel9...\n",
       "1387405                                        [david9667]\n",
       "1387406  [aaron9381,  alexandra6409,  jeanmarie3381,  s...\n",
       "1387407  [craig1573,  barbara6740,  ruth2070,  MrTsClas...\n",
       "1387408                      [amirali5409,  trolltech4460]\n",
       "1387409  [hans8594,  fred9002,  reece7838,  nms,  hans8...\n",
       "1387410  [ashish5575,  sam5413,  arintoul,  daniel98469...\n",
       "1387411  [marilynsmeeagain,  anonymous2012,  jaredhatfi...\n",
       "1387412  [d64editor,  will8174,  sara6682,  michael1459...\n",
       "1387413  [menno3710,  michael14598672,  poughkeepsieday...\n",
       "1387414  [sloebrake,  liam4742,  dps,  sonontse,  angel...\n",
       "1387415  [joe4973,  barbara5610,  sander3009,  caroline...\n",
       "1387416                  [midhurstunited5547,  elinor3894]\n",
       "1387417  [zane9551,  mike001,  andrew2404,  howard4162,...\n",
       "1387418                        [susan8025,  aliasgharmoiz]\n",
       "1387419  [gooddogg1,  teamsupportservices6502,  lisa318...\n",
       "1387420  [ross8084,  jennifer8608,  gooddogg1,  frank12...\n",
       "1387421  [kali7409,  sabinealberto2927,  susannah7250, ...\n",
       "1387422  [eckard,  heidi9812,  lenny6081,  bellur4429, ...\n",
       "1387423                                      [eldosetincy]\n",
       "1387424  [gooddogg1,  ian2064,  susan3511,  bethany2615...\n",
       "1387425  [terence6144,  ugenpeden,  matthew2546,  jeffr...\n",
       "1387426                           [jangel5269,  gooddogg1]\n",
       "1387427  [michael43411218,  carol5987,  gooddogg1,  chr...\n",
       "1387428  [rjhoward1986,  jeffrey6870,  trolltech4460,  ...\n",
       "1387429  [vicky7746,  gooddogg1,  fairspirit,  craig972...\n",
       "1387430  [rich6705,  sergiiy9766,  angela7509,  barbara...\n",
       "1387431                           [alan5175,  amy38101311]\n",
       "\n",
       "[1387432 rows x 1 columns]"
      ]
     },
     "execution_count": 13,
     "metadata": {},
     "output_type": "execute_result"
    }
   ],
   "source": [
    "pd.DataFrame(loans_lenders.LENDERS.values, index= loans_lenders.index)"
   ]
  },
  {
   "cell_type": "code",
   "execution_count": null,
   "metadata": {},
   "outputs": [],
   "source": []
  },
  {
   "cell_type": "code",
   "execution_count": null,
   "metadata": {},
   "outputs": [],
   "source": []
  },
  {
   "cell_type": "code",
   "execution_count": null,
   "metadata": {},
   "outputs": [],
   "source": []
  },
  {
   "cell_type": "code",
   "execution_count": 4,
   "metadata": {},
   "outputs": [],
   "source": [
    "samples = loans_lenders.sample(n=100)"
   ]
  },
  {
   "cell_type": "code",
   "execution_count": 6,
   "metadata": {},
   "outputs": [],
   "source": [
    "samples[\"LENDERS\"] = samples[\"LENDERS\"].map(lambda x: x.split(','))"
   ]
  },
  {
   "cell_type": "code",
   "execution_count": 7,
   "metadata": {},
   "outputs": [],
   "source": [
    "x=list(samples.LENDERS)"
   ]
  },
  {
   "cell_type": "code",
   "execution_count": null,
   "metadata": {},
   "outputs": [],
   "source": [
    "y=np.array([np.array(xi) for xi in x])"
   ]
  },
  {
   "cell_type": "code",
   "execution_count": null,
   "metadata": {},
   "outputs": [],
   "source": [
    "y.flatten().shape"
   ]
  },
  {
   "cell_type": "code",
   "execution_count": null,
   "metadata": {},
   "outputs": [],
   "source": [
    "y[1]"
   ]
  },
  {
   "cell_type": "code",
   "execution_count": null,
   "metadata": {},
   "outputs": [],
   "source": []
  },
  {
   "cell_type": "code",
   "execution_count": null,
   "metadata": {},
   "outputs": [],
   "source": [
    "for idx,row in enumerate(samples[\"LENDERS\"]):\n",
    "    for user in row:\n",
    "        if user not in set(list(samples.columns)):\n",
    "            samples[user] = 0\n",
    "            samples[user][idx]=1"
   ]
  },
  {
   "cell_type": "code",
   "execution_count": null,
   "metadata": {},
   "outputs": [],
   "source": [
    "samples['new']=0"
   ]
  },
  {
   "cell_type": "code",
   "execution_count": null,
   "metadata": {},
   "outputs": [],
   "source": [
    "samples['new'][1]=1"
   ]
  },
  {
   "cell_type": "code",
   "execution_count": null,
   "metadata": {},
   "outputs": [],
   "source": [
    "samples.new.value_counts()"
   ]
  },
  {
   "cell_type": "code",
   "execution_count": null,
   "metadata": {},
   "outputs": [],
   "source": []
  },
  {
   "cell_type": "code",
   "execution_count": null,
   "metadata": {},
   "outputs": [],
   "source": [
    "df[['DESCRIPTION', 'DESCRIPTION_TRANSLATED','IMAGE_ID',\n",
    "              'VIDEO_ID', 'NUM_JOURNAL_ENTRIES', 'TAGS', 'NUM_BULK_ENTRIES']].head()"
   ]
  },
  {
   "cell_type": "code",
   "execution_count": null,
   "metadata": {},
   "outputs": [],
   "source": [
    "total = df.isnull().sum().sort_values(ascending = False)\n",
    "percent = (df.isnull().sum()/df.isnull().count()).sort_values(ascending = False)\n",
    "missing_data = pd.concat([total, percent], axis=1, keys=['Total Missings', 'Percent Missings'])\n",
    "missing_data"
   ]
  },
  {
   "cell_type": "code",
   "execution_count": null,
   "metadata": {},
   "outputs": [],
   "source": [
    "# Drop columns we don't need\n",
    "df = df.drop(['DESCRIPTION', 'DESCRIPTION_TRANSLATED','IMAGE_ID',\n",
    "              'VIDEO_ID', 'NUM_JOURNAL_ENTRIES', 'TAGS', 'NUM_BULK_ENTRIES',\n",
    "              ], axis=1)"
   ]
  },
  {
   "cell_type": "code",
   "execution_count": null,
   "metadata": {},
   "outputs": [],
   "source": [
    "df.columns"
   ]
  },
  {
   "cell_type": "code",
   "execution_count": null,
   "metadata": {},
   "outputs": [],
   "source": [
    "pd.options.display.max_rows = 999\n",
    "pd.options.display.max_columns = 999\n",
    "df.head()"
   ]
  },
  {
   "cell_type": "code",
   "execution_count": null,
   "metadata": {},
   "outputs": [],
   "source": [
    "df.STATUS.value_counts()"
   ]
  },
  {
   "cell_type": "code",
   "execution_count": null,
   "metadata": {},
   "outputs": [],
   "source": [
    "df['diff_posted_planned'] = df['PLANNED_EXPIRATION_TIME'].sub(df['POSTED_TIME'], axis=0)\n",
    "df['diff_posted_planned'] = df['diff_posted_planned'] / np.timedelta64(1, 'D')"
   ]
  },
  {
   "cell_type": "code",
   "execution_count": null,
   "metadata": {},
   "outputs": [],
   "source": [
    "df['diff_posted_raised'] = df['RAISED_TIME'].sub(df['POSTED_TIME'], axis=0)\n",
    "df['diff_posted_raised'] = df['diff_posted_raised'] / np.timedelta64(1, 'D')"
   ]
  },
  {
   "cell_type": "code",
   "execution_count": null,
   "metadata": {},
   "outputs": [],
   "source": [
    "df.head()"
   ]
  },
  {
   "cell_type": "code",
   "execution_count": null,
   "metadata": {},
   "outputs": [],
   "source": [
    "# Empirical expiration time is about 103 days for direct loans\n",
    "df[df['DISTRIBUTION_MODEL']=='direct']['diff_posted_planned'].mean()"
   ]
  },
  {
   "cell_type": "code",
   "execution_count": null,
   "metadata": {},
   "outputs": [],
   "source": [
    "# Empirical expiration time is about 37 days for field-partner loans\n",
    "df[df['DISTRIBUTION_MODEL']=='field_partner']['diff_posted_planned'].mean()"
   ]
  },
  {
   "cell_type": "code",
   "execution_count": null,
   "metadata": {},
   "outputs": [],
   "source": [
    "# Average time (in days) it takes to fund direct loan\n",
    "df[df['DISTRIBUTION_MODEL']=='direct']['diff_posted_raised'].mean()"
   ]
  },
  {
   "cell_type": "code",
   "execution_count": null,
   "metadata": {},
   "outputs": [],
   "source": [
    "# Average time (in days) it takes to fund field-partner loan\n",
    "df[df['DISTRIBUTION_MODEL']=='field_partner']['diff_posted_raised'].mean()"
   ]
  },
  {
   "cell_type": "code",
   "execution_count": null,
   "metadata": {},
   "outputs": [],
   "source": [
    "# Checking for missing data\n",
    "total = df.isnull().sum().sort_values(ascending = False)\n",
    "percent = (df.isnull().sum()/df.isnull().count()).sort_values(ascending = False)\n",
    "missing_data = pd.concat([total, percent], axis=1, keys=['Total Missings', 'Percent Missings'])\n",
    "missing_data"
   ]
  },
  {
   "cell_type": "code",
   "execution_count": null,
   "metadata": {},
   "outputs": [],
   "source": [
    "df['REPAYMENT_INTERVAL'].value_counts(1)"
   ]
  },
  {
   "cell_type": "code",
   "execution_count": null,
   "metadata": {},
   "outputs": [],
   "source": [
    "df['STATUS'].value_counts(1)"
   ]
  },
  {
   "cell_type": "code",
   "execution_count": null,
   "metadata": {},
   "outputs": [],
   "source": [
    "df['DISTRIBUTION_MODEL'].value_counts(1)"
   ]
  },
  {
   "cell_type": "code",
   "execution_count": null,
   "metadata": {},
   "outputs": [],
   "source": [
    "# Group vs Individual loans\n",
    "# mask_g = df['BORROWER_GENDERS']!= 'male' & df['BORROWER_GENDERS'] != 'female'\n",
    "df['GROUP'] = np.where(np.logical_and(df['BORROWER_GENDERS']!= 'male', df['BORROWER_GENDERS']!= 'female'), 1, 0)"
   ]
  },
  {
   "cell_type": "code",
   "execution_count": null,
   "metadata": {},
   "outputs": [],
   "source": [
    "df.head()"
   ]
  },
  {
   "cell_type": "markdown",
   "metadata": {},
   "source": [
    "## A closer look... Individual vs. Group loans"
   ]
  },
  {
   "cell_type": "code",
   "execution_count": null,
   "metadata": {},
   "outputs": [],
   "source": [
    "individual = df['GROUP']==0\n",
    "group = df['GROUP']==1"
   ]
  },
  {
   "cell_type": "code",
   "execution_count": null,
   "metadata": {},
   "outputs": [],
   "source": [
    "df['GROUP'].value_counts(1)"
   ]
  },
  {
   "cell_type": "code",
   "execution_count": null,
   "metadata": {},
   "outputs": [],
   "source": [
    "df[['FUNDED_AMOUNT', 'LOAN_AMOUNT', 'LENDER_TERM', 'NUM_LENDERS_TOTAL']][group].describe().T"
   ]
  },
  {
   "cell_type": "code",
   "execution_count": null,
   "metadata": {},
   "outputs": [],
   "source": [
    "df[['FUNDED_AMOUNT', 'LOAN_AMOUNT', 'LENDER_TERM', 'NUM_LENDERS_TOTAL']][individual].describe().T"
   ]
  },
  {
   "cell_type": "code",
   "execution_count": null,
   "metadata": {},
   "outputs": [],
   "source": [
    "# Distribution by group\n",
    "plt.figure(figsize=(20,8))\n",
    "sns.distplot(df[individual]['LOAN_AMOUNT'], hist=False, color='blue', label = 'Individual', kde_kws={'clip': (0, 8000)})\n",
    "sns.distplot(df[group]['LOAN_AMOUNT'], hist=False, color='purple', label = 'Group', kde_kws={'clip': (0, 8000)});\n",
    "plt.axvline(df[individual]['LOAN_AMOUNT'].mean(), color=\"blue\", linestyle=\"--\")\n",
    "plt.axvline(df[group]['LOAN_AMOUNT'].mean(), color=\"purple\", linestyle=\"--\")\n",
    "\n",
    "plt.legend();"
   ]
  },
  {
   "cell_type": "code",
   "execution_count": null,
   "metadata": {},
   "outputs": [],
   "source": [
    "# H0: mu_group - mu_individual = 0\n",
    "# Ha: mu_group - mu_induvidual != 0\n",
    "\n",
    "# alpha = 0.05\n",
    "\n",
    "# T test\n",
    "t, p = sts.ttest_ind(df[individual]['LOAN_AMOUNT'], df[group]['LOAN_AMOUNT'], equal_var=False)\n",
    "\n",
    "# p value\n",
    "print(\"p-value: {:2.2f}\".format(p))"
   ]
  },
  {
   "cell_type": "markdown",
   "metadata": {},
   "source": [
    "## Individual loans, by gender"
   ]
  },
  {
   "cell_type": "code",
   "execution_count": null,
   "metadata": {},
   "outputs": [],
   "source": [
    "# Individual loan splitup by gender\n",
    "male = df['BORROWER_GENDERS']=='male'\n",
    "female = df['']=='female'\n",
    "\n",
    "plt.figure(figsize=(20,8))\n",
    "sns.distplot(df[male]['LOAN_AMOUNT'], hist=False, color='blue', label = 'Men', kde_kws={'clip': (0, 4000)});\n",
    "sns.distplot(df[female]['LOAN_AMOUNT'], hist=False, color='purple', label = 'Women', kde_kws={'clip': (0, 4000)});\n",
    "plt.axvline(df[male]['LOAN_AMOUNT'].mean(), color=\"blue\", linestyle=\"--\")\n",
    "plt.axvline(df[female]['LOAN_AMOUNT'].mean(), color=\"purple\", linestyle=\"--\")\n",
    "plt.legend();"
   ]
  },
  {
   "cell_type": "code",
   "execution_count": null,
   "metadata": {},
   "outputs": [],
   "source": [
    "# H0: mu_male - mu_female = 0\n",
    "# Ha: mu_male - mu_female != 0\n",
    "\n",
    "# alpha = 0.05\n",
    "\n",
    "# T test\n",
    "t, p = sts.ttest_ind(df[male]['LOAN_AMOUNT'], df[female]['LOAN_AMOUNT'], equal_var=False)\n",
    "\n",
    "# p value\n",
    "print(\"p-value: {:2.2f}\".format(p))"
   ]
  },
  {
   "cell_type": "markdown",
   "metadata": {},
   "source": [
    "### Question: Is there gender inequality in access to microfinance?\n",
    "Possible approach to a response: Assuming the average loan amounts are a viable proxy for gender inequality in micro-finance, we can run t-tests to see if there are significant differences between men and women's average individual loan amount by country."
   ]
  },
  {
   "cell_type": "code",
   "execution_count": null,
   "metadata": {},
   "outputs": [],
   "source": [
    "# Step 1: State the null and alternative hypotheses\n",
    "# H0: mu_male - mu_female = 0\n",
    "# Ha: mu_male - mu_female != 0\n",
    "\n",
    "# Step 2: Significance level: \n",
    "alpha = 0.05\n",
    "\n",
    "# Steps 3 and 4: Compute t-tests and p-values\n",
    "d = {}\n",
    "for country in set(df['COUNTRY_NAME']):\n",
    "    t, p = sts.ttest_ind(df[male & (df['COUNTRY_NAME'] == country)]['LOAN_AMOUNT'], df[female & (df['COUNTRY_NAME'] == country)]['LOAN_AMOUNT'], equal_var=False)\n",
    "    d[country] = (p <= alpha)\n",
    "d\n",
    "\n",
    "# Step 5: Compare the p-value to alpha and decide.\n",
    "# True: reject H0 that there is no difference between men and women."
   ]
  },
  {
   "cell_type": "markdown",
   "metadata": {},
   "source": [
    "## More EDA to look for other interesting questions..."
   ]
  },
  {
   "cell_type": "code",
   "execution_count": null,
   "metadata": {},
   "outputs": [],
   "source": [
    "# Count Plot by Sector\n",
    "plt.figure(figsize=(15,4))\n",
    "sns.countplot(x='SECTOR_NAME', data=df, orient='h', order = df['SECTOR_NAME'].value_counts().index)\n",
    "plt.xticks(rotation='vertical')\n",
    "plt.ylabel('Number of loans')\n",
    "plt.xlabel('Sector Name')\n",
    "plt.title(\"Number of Loans By Sector\");"
   ]
  },
  {
   "cell_type": "code",
   "execution_count": null,
   "metadata": {},
   "outputs": [],
   "source": [
    "# Calculate correlations\n",
    "# df[['SECTOR_NAME', 'COUNTRY_NAME']]\n",
    "\n",
    "# Heatmap\n",
    "\n",
    "def count_rows(x):\n",
    "    return len(x)\n",
    "\n",
    "g = df.groupby(['SECTOR_NAME','COUNTRY_NAME']).apply(count_rows).unstack()\n",
    "plt.figure(figsize=(16,4))\n",
    "sns.heatmap(g, cmap='Blues', linewidth=0.5);"
   ]
  },
  {
   "cell_type": "code",
   "execution_count": null,
   "metadata": {},
   "outputs": [],
   "source": [
    "# By Activity\n",
    "df['ACTIVITY_NAME'].value_counts(1).head(10)"
   ]
  },
  {
   "cell_type": "markdown",
   "metadata": {},
   "source": [
    "## Model: Field Partners vs. Direct"
   ]
  },
  {
   "cell_type": "code",
   "execution_count": null,
   "metadata": {},
   "outputs": [],
   "source": [
    "# Field Partners\n",
    "plt.figure(figsize=(16,8))\n",
    "sns.boxplot(x='COUNTRY_NAME', y='LOAN_AMOUNT', data=df[df['DISTRIBUTION_MODEL']=='field_partner'])\n",
    "plt.xticks(rotation='vertical')\n",
    "plt.ylim(0,10000);"
   ]
  },
  {
   "cell_type": "code",
   "execution_count": null,
   "metadata": {},
   "outputs": [],
   "source": [
    "# Direct\n",
    "plt.figure(figsize=(8,4))\n",
    "sns.boxplot(x='COUNTRY_NAME', y='LOAN_AMOUNT', data=df[df['DISTRIBUTION_MODEL']=='direct'])\n",
    "plt.xticks(rotation='vertical');\n",
    "plt.ylim(0,10000);"
   ]
  },
  {
   "cell_type": "code",
   "execution_count": null,
   "metadata": {},
   "outputs": [],
   "source": [
    "g_country = df.groupby('COUNTRY_NAME')\n",
    "g_country['LOAN_AMOUNT'].sum().sort_values(ascending=False).head(10)"
   ]
  },
  {
   "cell_type": "code",
   "execution_count": null,
   "metadata": {},
   "outputs": [],
   "source": [
    "df.sort_values?"
   ]
  },
  {
   "cell_type": "code",
   "execution_count": null,
   "metadata": {},
   "outputs": [],
   "source": [
    "import seaborn as sns\n",
    "corr = df[['LOAN_AMOUNT', 'LENDER_TERM', 'NUM_LENDERS_TOTAL', 'GROUP']].corr()\n",
    "sns.heatmap(corr, \n",
    "            xticklabels=corr.columns.values,\n",
    "            yticklabels=corr.columns.values,\n",
    "           cmap='Blues')"
   ]
  },
  {
   "cell_type": "code",
   "execution_count": null,
   "metadata": {},
   "outputs": [],
   "source": [
    "corr"
   ]
  },
  {
   "cell_type": "code",
   "execution_count": null,
   "metadata": {},
   "outputs": [],
   "source": [
    "df[male].describe().T"
   ]
  },
  {
   "cell_type": "code",
   "execution_count": null,
   "metadata": {},
   "outputs": [],
   "source": [
    "df[female].describe().transpose()"
   ]
  },
  {
   "cell_type": "code",
   "execution_count": null,
   "metadata": {},
   "outputs": [],
   "source": [
    "g = sns.lmplot(x=\"LOAN_AMOUNT\", y=\"NUM_LENDERS_TOTAL\", hue = 'BORROWER_GENDERS',\n",
    "               truncate=True, size=8, data=df[individual])\n",
    "g.set_axis_labels(\"Loan Size\", \"Number of Lenders\");"
   ]
  },
  {
   "cell_type": "code",
   "execution_count": null,
   "metadata": {},
   "outputs": [],
   "source": [
    "g = sns.lmplot(x=\"LOAN_AMOUNT\", y=\"NUM_LENDERS_TOTAL\", hue='GROUP',\n",
    "               truncate=True, size=5, data=df)\n",
    "g.set_axis_labels(\"Loan Size\", \"Number of Lenders\");"
   ]
  },
  {
   "cell_type": "code",
   "execution_count": null,
   "metadata": {},
   "outputs": [],
   "source": [
    "df2 = pd.read_csv('data/loans_lenders.csv')"
   ]
  },
  {
   "cell_type": "code",
   "execution_count": null,
   "metadata": {},
   "outputs": [],
   "source": [
    "df2.head()"
   ]
  },
  {
   "cell_type": "code",
   "execution_count": null,
   "metadata": {},
   "outputs": [],
   "source": [
    "df.head(1)"
   ]
  },
  {
   "cell_type": "code",
   "execution_count": null,
   "metadata": {},
   "outputs": [],
   "source": [
    "df_join = df.join(df2, on='LOAN_ID', how='left', lsuffix='LoanID')"
   ]
  },
  {
   "cell_type": "code",
   "execution_count": null,
   "metadata": {},
   "outputs": [],
   "source": [
    "df_join.LENDERS.isnull().sum()"
   ]
  },
  {
   "cell_type": "code",
   "execution_count": null,
   "metadata": {},
   "outputs": [],
   "source": [
    "d3 = pd.read_csv('data/lenders.csv')"
   ]
  },
  {
   "cell_type": "code",
   "execution_count": null,
   "metadata": {},
   "outputs": [],
   "source": [
    "d3.head()"
   ]
  },
  {
   "cell_type": "markdown",
   "metadata": {},
   "source": [
    "Other questions?"
   ]
  },
  {
   "cell_type": "code",
   "execution_count": null,
   "metadata": {},
   "outputs": [],
   "source": [
    "d3.COUNTRY_CODE.value_counts(dropna=False)"
   ]
  },
  {
   "cell_type": "code",
   "execution_count": null,
   "metadata": {},
   "outputs": [],
   "source": []
  },
  {
   "cell_type": "code",
   "execution_count": null,
   "metadata": {},
   "outputs": [],
   "source": []
  },
  {
   "cell_type": "code",
   "execution_count": null,
   "metadata": {},
   "outputs": [],
   "source": []
  },
  {
   "cell_type": "code",
   "execution_count": null,
   "metadata": {},
   "outputs": [],
   "source": []
  },
  {
   "cell_type": "code",
   "execution_count": null,
   "metadata": {},
   "outputs": [],
   "source": []
  },
  {
   "cell_type": "markdown",
   "metadata": {},
   "source": [
    "# Story: What factors help the loans get fully funded faster?"
   ]
  },
  {
   "cell_type": "markdown",
   "metadata": {},
   "source": [
    "## Step1. Distribtuion of the difference of post date and raised date"
   ]
  },
  {
   "cell_type": "code",
   "execution_count": null,
   "metadata": {
    "scrolled": true
   },
   "outputs": [],
   "source": [
    "df.head()"
   ]
  },
  {
   "cell_type": "code",
   "execution_count": null,
   "metadata": {},
   "outputs": [],
   "source": [
    "df_clean = df.loc[df.notnull()[\"diff_posted_raised\"],:]\n",
    "df_clean = df_clean[df_clean.diff_posted_raised >= 0]"
   ]
  },
  {
   "cell_type": "code",
   "execution_count": null,
   "metadata": {
    "scrolled": true
   },
   "outputs": [],
   "source": [
    "df_error = df_clean[df_clean.diff_posted_raised < 0]"
   ]
  },
  {
   "cell_type": "code",
   "execution_count": null,
   "metadata": {},
   "outputs": [],
   "source": [
    "df_clean_direct = df_clean[df_clean.DISTRIBUTION_MODEL=='direct']\n",
    "df_clean_partner = df_clean[df_clean.DISTRIBUTION_MODEL=='field_partner']"
   ]
  },
  {
   "cell_type": "code",
   "execution_count": null,
   "metadata": {},
   "outputs": [],
   "source": [
    "df_clean_partner.shape"
   ]
  },
  {
   "cell_type": "code",
   "execution_count": null,
   "metadata": {},
   "outputs": [],
   "source": [
    "sns.distplot(df_clean_partner.diff_posted_raised)\n",
    "plt.xlim(0, 100)"
   ]
  },
  {
   "cell_type": "code",
   "execution_count": null,
   "metadata": {},
   "outputs": [],
   "source": [
    "df_clean_partner[\"diff_posted_planned\"].hist(bins=60)"
   ]
  },
  {
   "cell_type": "code",
   "execution_count": null,
   "metadata": {
    "scrolled": false
   },
   "outputs": [],
   "source": [
    "df_clean.diff_posted_raised.describe()"
   ]
  },
  {
   "cell_type": "markdown",
   "metadata": {},
   "source": [
    "**Median days to get posted loan fully raised are 7.8 days.\n",
    "Mean is 12.6 days.**"
   ]
  },
  {
   "cell_type": "code",
   "execution_count": null,
   "metadata": {},
   "outputs": [],
   "source": [
    "df_clean_partner[\"diff_posted_planned\"].describe()"
   ]
  },
  {
   "cell_type": "markdown",
   "metadata": {},
   "source": [
    "**Some (?) loans have a planned fund raising winder longer than 30 days. \n",
    "That explains why some loans take more than 30 days to get fully funded.**"
   ]
  },
  {
   "cell_type": "code",
   "execution_count": null,
   "metadata": {},
   "outputs": [],
   "source": [
    "df_clean_partner[df_clean_partner.diff_posted_raised > df_clean_partner.diff_posted_planned+2]"
   ]
  },
  {
   "cell_type": "code",
   "execution_count": null,
   "metadata": {},
   "outputs": [],
   "source": [
    "df_clean_partner.STATUS.value_counts()"
   ]
  },
  {
   "cell_type": "markdown",
   "metadata": {},
   "source": [
    "## Step.2 Factors affect the speed for a loan to get fully funded"
   ]
  },
  {
   "cell_type": "code",
   "execution_count": null,
   "metadata": {},
   "outputs": [],
   "source": [
    "plt.scatter(df_clean_partner['LOAN_AMOUNT'],df_clean_partner['diff_posted_raised'])\n",
    "plt.xlim(0,55000)"
   ]
  },
  {
   "cell_type": "code",
   "execution_count": null,
   "metadata": {},
   "outputs": [],
   "source": [
    "#sns.lmplot(x=\"LOAN_AMOUNT\", y=\"diff_posted_raised\",\n",
    "#               truncate=True, size=5, data=df_clean_partner)"
   ]
  },
  {
   "cell_type": "code",
   "execution_count": null,
   "metadata": {},
   "outputs": [],
   "source": [
    "(df_clean_partner[(df_clean_partner.LOAN_AMOUNT)>60000]['LOAN_AMOUNT']).hist()"
   ]
  },
  {
   "cell_type": "code",
   "execution_count": null,
   "metadata": {},
   "outputs": [],
   "source": [
    "(df_clean_partner[(df_clean_partner.LOAN_AMOUNT)>20000]['LOAN_AMOUNT']).hist()"
   ]
  },
  {
   "cell_type": "code",
   "execution_count": null,
   "metadata": {},
   "outputs": [],
   "source": [
    "(df_clean_partner[(df_clean_partner.LOAN_AMOUNT)<2000]['LOAN_AMOUNT']).hist()"
   ]
  },
  {
   "cell_type": "code",
   "execution_count": null,
   "metadata": {},
   "outputs": [],
   "source": [
    "df_BKT1 = df_clean_partner[df_clean_partner.LOAN_AMOUNT <= 2000]"
   ]
  },
  {
   "cell_type": "code",
   "execution_count": null,
   "metadata": {},
   "outputs": [],
   "source": [
    "df_BKT2 = df_clean_partner[(df_clean_partner.LOAN_AMOUNT > 2000) & (df_clean_partner.LOAN_AMOUNT <= 10000)]"
   ]
  },
  {
   "cell_type": "code",
   "execution_count": null,
   "metadata": {},
   "outputs": [],
   "source": [
    "df_BKT3 = df_clean_partner[(df_clean_partner.LOAN_AMOUNT > 10000) & (df_clean_partner.LOAN_AMOUNT <= 50000)]"
   ]
  },
  {
   "cell_type": "code",
   "execution_count": null,
   "metadata": {},
   "outputs": [],
   "source": [
    "df_BKT4 = df_clean_partner[(df_clean_partner.LOAN_AMOUNT > 50000) & (df_clean_partner.LOAN_AMOUNT <= 500000)]"
   ]
  },
  {
   "cell_type": "code",
   "execution_count": null,
   "metadata": {},
   "outputs": [],
   "source": [
    "df_BKT1['LOAN_AMOUNT'].hist()"
   ]
  },
  {
   "cell_type": "code",
   "execution_count": null,
   "metadata": {},
   "outputs": [],
   "source": [
    "df_BKT1['LOAN_AMOUNT'].describe()"
   ]
  },
  {
   "cell_type": "code",
   "execution_count": null,
   "metadata": {},
   "outputs": [],
   "source": [
    "df_BKT2['LOAN_AMOUNT'].hist()"
   ]
  },
  {
   "cell_type": "code",
   "execution_count": null,
   "metadata": {},
   "outputs": [],
   "source": [
    "df_BKT2['LOAN_AMOUNT'].describe()"
   ]
  },
  {
   "cell_type": "code",
   "execution_count": null,
   "metadata": {},
   "outputs": [],
   "source": [
    "plt.scatter(df_BKT1['LOAN_AMOUNT'],df_BKT1['diff_posted_raised'])\n",
    "# plt.xlim(0,55000)"
   ]
  },
  {
   "cell_type": "code",
   "execution_count": null,
   "metadata": {},
   "outputs": [],
   "source": [
    "#plt.scatter(df_BKT1[df_BKT1['diff_posted_raised']<40]['LOAN_AMOUNT'],df_BKT1[df_BKT1['diff_posted_raised']<40]['diff_posted_raised'])\n"
   ]
  },
  {
   "cell_type": "code",
   "execution_count": null,
   "metadata": {},
   "outputs": [],
   "source": [
    "# df_BKT2['LOAN_AMOUNT'].describe()"
   ]
  },
  {
   "cell_type": "code",
   "execution_count": null,
   "metadata": {},
   "outputs": [],
   "source": [
    "df_BKT1_30=df_BKT1[df_BKT1['diff_posted_planned']<40]"
   ]
  },
  {
   "cell_type": "code",
   "execution_count": null,
   "metadata": {},
   "outputs": [],
   "source": [
    "df_BKT1_30.shape"
   ]
  },
  {
   "cell_type": "code",
   "execution_count": null,
   "metadata": {},
   "outputs": [],
   "source": [
    "plt.scatter(df_BKT1_30['diff_posted_raised'],df_BKT1_30['NUM_LENDERS_TOTAL'])"
   ]
  },
  {
   "cell_type": "code",
   "execution_count": null,
   "metadata": {},
   "outputs": [],
   "source": [
    "df_BKT1_40=df_BKT1[df_BKT1['diff_posted_planned']>=40]"
   ]
  },
  {
   "cell_type": "code",
   "execution_count": null,
   "metadata": {},
   "outputs": [],
   "source": [
    "df_BKT1_40.shape"
   ]
  },
  {
   "cell_type": "code",
   "execution_count": null,
   "metadata": {},
   "outputs": [],
   "source": [
    "plt.scatter(df_BKT1_40['diff_posted_raised'],df_BKT1_40['NUM_LENDERS_TOTAL'])"
   ]
  },
  {
   "cell_type": "code",
   "execution_count": null,
   "metadata": {},
   "outputs": [],
   "source": []
  },
  {
   "cell_type": "code",
   "execution_count": null,
   "metadata": {},
   "outputs": [],
   "source": [
    "bins = list(range(0,2200,200))\n",
    "df_BKT1['binned'] = pd.cut(df_BKT1['LOAN_AMOUNT'],bins)"
   ]
  },
  {
   "cell_type": "code",
   "execution_count": null,
   "metadata": {},
   "outputs": [],
   "source": [
    "bins_post_plan = [30,35,40,60,80,106]\n",
    "df_BKT1['bins_post_plan'] = pd.cut(df_BKT1['diff_posted_planned'],bins_post_plan)"
   ]
  },
  {
   "cell_type": "code",
   "execution_count": null,
   "metadata": {},
   "outputs": [],
   "source": [
    "df_BKT1.head()"
   ]
  },
  {
   "cell_type": "code",
   "execution_count": null,
   "metadata": {},
   "outputs": [],
   "source": [
    "df_BKT1.groupby('binned').agg({'diff_posted_raised':\"mean\"})"
   ]
  },
  {
   "cell_type": "code",
   "execution_count": null,
   "metadata": {},
   "outputs": [],
   "source": [
    "df_b1_analysis = df_BKT1.groupby(['binned',\"bins_post_plan\"]).agg({'diff_posted_raised':\"mean\"}).unstack()\n",
    "df_b1_analysis"
   ]
  },
  {
   "cell_type": "code",
   "execution_count": null,
   "metadata": {},
   "outputs": [],
   "source": [
    "# corr = df[['LOAN_AMOUNT', 'LENDER_TERM', 'NUM_LENDERS_TOTAL', 'GROUP']].corr()\n",
    "sns.heatmap(df_b1_analysis, \n",
    "            xticklabels=df_b1_analysis.columns.values,\n",
    "            yticklabels=df_b1_analysis.index.values,\n",
    "           cmap='Blues')"
   ]
  },
  {
   "cell_type": "code",
   "execution_count": null,
   "metadata": {},
   "outputs": [],
   "source": [
    "df_BKT1.groupby(['SECTOR_NAME','binned','bins_post_plan']).agg({'diff_posted_raised':\"mean\"}).unstack()"
   ]
  },
  {
   "cell_type": "code",
   "execution_count": null,
   "metadata": {},
   "outputs": [],
   "source": [
    "plt.figure(figsize=(12,10))\n",
    "sns.heatmap(df_BKT1.groupby(['SECTOR_NAME','bins_post_plan']).agg({'diff_posted_raised':\"mean\"}).unstack())"
   ]
  },
  {
   "cell_type": "code",
   "execution_count": null,
   "metadata": {},
   "outputs": [],
   "source": [
    "plt.figure(figsize=(12,10))\n",
    "sns.heatmap(df_BKT1.groupby(['SECTOR_NAME','binned']).agg({'diff_posted_raised':\"mean\"}).unstack())\n"
   ]
  },
  {
   "cell_type": "code",
   "execution_count": null,
   "metadata": {},
   "outputs": [],
   "source": [
    "plt.figure(figsize=(12,10))\n",
    "sns.heatmap(df_BKT1.groupby(['NUM_LENDERS_TOTAL','binned']).agg({'diff_posted_raised':\"mean\"}).unstack())"
   ]
  },
  {
   "cell_type": "code",
   "execution_count": null,
   "metadata": {},
   "outputs": [],
   "source": [
    "plt.figure(figsize=(12,10))\n",
    "sns.heatmap(df_BKT1.groupby(['COUNTRY_NAME','binned']).agg({'diff_posted_raised':\"mean\"}).unstack())"
   ]
  },
  {
   "cell_type": "code",
   "execution_count": null,
   "metadata": {},
   "outputs": [],
   "source": [
    "plt.figure(figsize=(12,10))\n",
    "sns.heatmap(df_BKT1[df_BKT1['GROUP']!=True].groupby(['BORROWER_GENDERS','binned']).agg({'diff_posted_raised':\"mean\"}).unstack())"
   ]
  },
  {
   "cell_type": "code",
   "execution_count": null,
   "metadata": {},
   "outputs": [],
   "source": [
    "plt.figure(figsize=(12,10))\n",
    "sns.heatmap(df_BKT1.groupby(['ORIGINAL_LANGUAGE','binned']).agg({'diff_posted_raised':\"mean\"}).unstack())"
   ]
  },
  {
   "cell_type": "code",
   "execution_count": null,
   "metadata": {},
   "outputs": [],
   "source": [
    "plt.figure(figsize=(12,10))\n",
    "sns.heatmap(df_BKT1[df_BKT1['GROUP']!=True].groupby(['SECTOR_NAME','BORROWER_GENDERS']).agg({'diff_posted_raised':\"median\"}).unstack())"
   ]
  },
  {
   "cell_type": "code",
   "execution_count": null,
   "metadata": {},
   "outputs": [],
   "source": [
    "df_BKT1[df_BKT1['GROUP']!=True].groupby(['SECTOR_NAME','BORROWER_GENDERS']).agg({'diff_posted_raised':\"median\"}).unstack()"
   ]
  },
  {
   "cell_type": "code",
   "execution_count": null,
   "metadata": {},
   "outputs": [],
   "source": []
  },
  {
   "cell_type": "code",
   "execution_count": null,
   "metadata": {},
   "outputs": [],
   "source": [
    "# H0: mu_group - mu_individual = 0\n",
    "# Ha: mu_group - mu_induvidual != 0\n",
    "\n",
    "# alpha = 0.05\n",
    "\n",
    "# T test\n",
    "t, p = sts.ttest_ind(df_BKT1[df_BKT1['BORROWER_GENDERS']=='male']['diff_posted_raised'], df_BKT1[df_BKT1['BORROWER_GENDERS']=='female']['diff_posted_raised'], equal_var=False)\n",
    "\n",
    "# p value\n",
    "print(\"p-value: {:2.2f}\".format(p))"
   ]
  },
  {
   "cell_type": "code",
   "execution_count": null,
   "metadata": {},
   "outputs": [],
   "source": [
    "# H0: mu_group - mu_individual = 0\n",
    "# Ha: mu_group - mu_induvidual != 0\n",
    "\n",
    "# alpha = 0.05\n",
    "\n",
    "# T test\n",
    "t, p = sts.ttest_ind(df_BKT1[df_BKT1['SECTOR_NAME']=='Arts']['diff_posted_raised'], df_BKT1[df_BKT1['SECTOR_NAME']=='Clothing']['diff_posted_raised'], equal_var=False)\n",
    "\n",
    "# p value\n",
    "print(\"p-value: {:2.2f}\".format(p))"
   ]
  },
  {
   "cell_type": "code",
   "execution_count": null,
   "metadata": {},
   "outputs": [],
   "source": [
    " # H0: mu_group - mu_individual = 0\n",
    "# Ha: mu_group - mu_induvidual != 0\n",
    "\n",
    "# alpha = 0.05\n",
    "\n",
    "# T test\n",
    "t, p = sts.ttest_ind(df_BKT1[df_BKT1['GROUP']==1]['diff_posted_raised'], df_BKT1[df_BKT1['GROUP']==0]['diff_posted_raised'], equal_var=False)\n",
    "\n",
    "# p value\n",
    "print(\"p-value: {:2.2f}\".format(p))"
   ]
  },
  {
   "cell_type": "code",
   "execution_count": null,
   "metadata": {
    "scrolled": true
   },
   "outputs": [],
   "source": [
    "df_BKT1.corr()"
   ]
  },
  {
   "cell_type": "code",
   "execution_count": null,
   "metadata": {},
   "outputs": [],
   "source": [
    "plt.figure(figsize=(12,10))\n",
    "sns.heatmap(df_BKT1.corr())"
   ]
  },
  {
   "cell_type": "markdown",
   "metadata": {},
   "source": [
    "## Other people's work\n",
    "\n",
    "\n",
    "### similiar findings\n",
    "- exclude direct, big companies \n",
    "\n",
    "\n",
    "### Scott's to calculte optimal bins for histgram\n",
    "\n",
    "\n",
    "\n",
    "\n",
    "### t-test & p-value for gender / sector / group | individual \n",
    "\n",
    "\n",
    "- more men published video than women (proportion t-test)\n",
    "\n",
    "- half of the countries \n",
    "\n",
    "\n",
    "\n"
   ]
  },
  {
   "cell_type": "markdown",
   "metadata": {},
   "source": [
    "\n",
    "\n",
    "we should filter by 'funded'\n",
    "\n",
    "## see the trend day by day "
   ]
  }
 ],
 "metadata": {
  "kernelspec": {
   "display_name": "Python 3",
   "language": "python",
   "name": "python3"
  },
  "language_info": {
   "codemirror_mode": {
    "name": "ipython",
    "version": 3
   },
   "file_extension": ".py",
   "mimetype": "text/x-python",
   "name": "python",
   "nbconvert_exporter": "python",
   "pygments_lexer": "ipython3",
   "version": "3.6.4"
  }
 },
 "nbformat": 4,
 "nbformat_minor": 2
}
