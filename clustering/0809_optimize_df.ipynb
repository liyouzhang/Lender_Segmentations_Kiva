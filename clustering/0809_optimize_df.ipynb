{
 "cells": [
  {
   "cell_type": "code",
   "execution_count": 3,
   "metadata": {},
   "outputs": [],
   "source": [
    "from model import *"
   ]
  },
  {
   "cell_type": "code",
   "execution_count": 4,
   "metadata": {},
   "outputs": [],
   "source": [
    "%load_ext autoreload\n",
    "%autoreload 2"
   ]
  },
  {
   "cell_type": "code",
   "execution_count": 5,
   "metadata": {},
   "outputs": [
    {
     "name": "stdout",
     "output_type": "stream",
     "text": [
      "              total        used        free      shared  buff/cache   available\r\n",
      "Mem:          16046         395       14117          20        1532       15275\r\n",
      "Swap:             0           0           0\r\n"
     ]
    }
   ],
   "source": [
    "!free -m"
   ]
  },
  {
   "cell_type": "code",
   "execution_count": 2,
   "metadata": {},
   "outputs": [],
   "source": [
    "from lender_pipeline import *\n",
    "\n",
    "import pandas as pd\n",
    "import numpy as np\n",
    "import matplotlib.pyplot as plt\n",
    "%matplotlib inline\n",
    "plt.style.use('ggplot')\n",
    "import seaborn as sns\n",
    "import warnings\n",
    "warnings.filterwarnings('ignore')\n",
    "from sklearn.preprocessing import StandardScaler"
   ]
  },
  {
   "cell_type": "code",
   "execution_count": 6,
   "metadata": {},
   "outputs": [],
   "source": [
    "# conversion = lambda x: np.datetime64(str(x).replace(\" -\", \"-\").replace(\" +\", \"+\")) if x != \"NA\" else np.nan\n",
    "          \n",
    "ls = pd.read_csv('lender_dataset.csv')"
   ]
  },
  {
   "cell_type": "code",
   "execution_count": 7,
   "metadata": {},
   "outputs": [],
   "source": [
    "def mem_usage(pandas_obj):\n",
    "    if isinstance(pandas_obj,pd.DataFrame):\n",
    "        usage_b = pandas_obj.memory_usage(deep=True).sum()\n",
    "    else: # we assume if not a df it's a series\n",
    "        usage_b = pandas_obj.memory_usage(deep=True)\n",
    "    usage_mb = usage_b / 1024 ** 2 # convert bytes to megabytes\n",
    "    return \"{:03.2f} MB\".format(usage_mb)"
   ]
  },
  {
   "cell_type": "code",
   "execution_count": 8,
   "metadata": {},
   "outputs": [],
   "source": [
    "ls_int=ls.select_dtypes(include=['int'])\n",
    "converted_int = ls_int.apply(pd.to_numeric,downcast='unsigned')"
   ]
  },
  {
   "cell_type": "code",
   "execution_count": 9,
   "metadata": {},
   "outputs": [
    {
     "name": "stdout",
     "output_type": "stream",
     "text": [
      "1505.59 MB\n",
      "471.90 MB\n"
     ]
    }
   ],
   "source": [
    "print(mem_usage(ls_int))\n",
    "print(mem_usage(converted_int))"
   ]
  },
  {
   "cell_type": "code",
   "execution_count": 28,
   "metadata": {},
   "outputs": [],
   "source": [
    "ls_float=ls.select_dtypes(include=['float'])\n",
    "converted_float = ls_float.apply(pd.to_numeric,downcast='float')"
   ]
  },
  {
   "cell_type": "code",
   "execution_count": 29,
   "metadata": {},
   "outputs": [
    {
     "name": "stdout",
     "output_type": "stream",
     "text": [
      "494.37 MB\n",
      "247.19 MB\n"
     ]
    }
   ],
   "source": [
    "print(mem_usage(ls_float))\n",
    "print(mem_usage(converted_float))"
   ]
  },
  {
   "cell_type": "code",
   "execution_count": 11,
   "metadata": {},
   "outputs": [],
   "source": [
    "cat = ls.FIRST_TIME_DEPOSITOR_REPORTING_CATEGORY.astype('category')"
   ]
  },
  {
   "cell_type": "code",
   "execution_count": 14,
   "metadata": {},
   "outputs": [
    {
     "data": {
      "text/plain": [
       "0      core\n",
       "1      core\n",
       "2    direct\n",
       "3      core\n",
       "4      core\n",
       "Name: FIRST_TIME_DEPOSITOR_REPORTING_CATEGORY, dtype: category\n",
       "Categories (4, object): [core, direct, kiva, none]"
      ]
     },
     "execution_count": 14,
     "metadata": {},
     "output_type": "execute_result"
    }
   ],
   "source": [
    "cat.head()"
   ]
  },
  {
   "cell_type": "code",
   "execution_count": 15,
   "metadata": {},
   "outputs": [
    {
     "data": {
      "text/plain": [
       "0    0\n",
       "1    0\n",
       "2    1\n",
       "3    0\n",
       "4    0\n",
       "dtype: int8"
      ]
     },
     "execution_count": 15,
     "metadata": {},
     "output_type": "execute_result"
    }
   ],
   "source": [
    "cat.head().cat.codes"
   ]
  },
  {
   "cell_type": "code",
   "execution_count": 19,
   "metadata": {},
   "outputs": [],
   "source": [
    "ls_obj = ls.select_dtypes(include=['object'])"
   ]
  },
  {
   "cell_type": "code",
   "execution_count": 20,
   "metadata": {},
   "outputs": [
    {
     "data": {
      "text/plain": [
       "Index(['VINTAGE_DATE', 'FIRST_TRANSACTION_DATE', 'FIRST_DEPOSIT_DATE',\n",
       "       'LAST_TRANSACTION_DATE', 'LAST_LOGIN_DATE',\n",
       "       'FIRST_TIME_DEPOSITOR_REPORTING_CATEGORY', 'FIRST_TRANSACTION_REFERRAL',\n",
       "       'IS_CORPORATE_CAMPAIGN_USER', 'IS_FREE_TRIAL_USER',\n",
       "       'FIRST_BASKET_CATEGORY', 'USER_LOCATION_COUNTRY', 'USER_LOCATION_STATE',\n",
       "       'USER_LOCATION_CITY', 'FIRST_LOAN_COUNTRY', 'FIRST_LOAN_REGION'],\n",
       "      dtype='object')"
      ]
     },
     "execution_count": 20,
     "metadata": {},
     "output_type": "execute_result"
    }
   ],
   "source": [
    "ls_obj.columns"
   ]
  },
  {
   "cell_type": "code",
   "execution_count": 23,
   "metadata": {},
   "outputs": [],
   "source": [
    "converted_obj = pd.DataFrame()\n",
    "\n",
    "for col in ls_obj.columns:\n",
    "    num_unique_values = len(ls_obj[col].unique())\n",
    "    num_total_values = len(ls_obj[col])\n",
    "    if num_unique_values / num_total_values < 0.5:\n",
    "        converted_obj.loc[:,col] = ls_obj[col].astype('category')\n",
    "    else:\n",
    "        converted_obj.loc[:,col] = ls_obj[col]"
   ]
  },
  {
   "cell_type": "code",
   "execution_count": 24,
   "metadata": {},
   "outputs": [
    {
     "name": "stdout",
     "output_type": "stream",
     "text": [
      "2586.42 MB\n",
      "82.66 MB\n"
     ]
    }
   ],
   "source": [
    "print(mem_usage(ls_obj))\n",
    "print(mem_usage(converted_obj))"
   ]
  },
  {
   "cell_type": "code",
   "execution_count": 26,
   "metadata": {},
   "outputs": [],
   "source": [
    "optimized_ls = ls.copy()"
   ]
  },
  {
   "cell_type": "code",
   "execution_count": 27,
   "metadata": {},
   "outputs": [],
   "source": [
    "optimized_ls[converted_int.columns] = converted_int"
   ]
  },
  {
   "cell_type": "code",
   "execution_count": 30,
   "metadata": {},
   "outputs": [],
   "source": [
    "optimized_ls[converted_float.columns] = converted_float"
   ]
  },
  {
   "cell_type": "code",
   "execution_count": 31,
   "metadata": {},
   "outputs": [],
   "source": [
    "optimized_ls[converted_obj.columns] = converted_obj"
   ]
  },
  {
   "cell_type": "code",
   "execution_count": 33,
   "metadata": {},
   "outputs": [
    {
     "name": "stdout",
     "output_type": "stream",
     "text": [
      "4589.20 MB\n",
      "804.56 MB\n"
     ]
    }
   ],
   "source": [
    "print(mem_usage(ls))\n",
    "print(mem_usage(optimized_ls))"
   ]
  },
  {
   "cell_type": "code",
   "execution_count": 34,
   "metadata": {},
   "outputs": [
    {
     "data": {
      "text/plain": [
       "(2945384, 105)"
      ]
     },
     "execution_count": 34,
     "metadata": {},
     "output_type": "execute_result"
    }
   ],
   "source": [
    "optimized_ls.shape"
   ]
  },
  {
   "cell_type": "code",
   "execution_count": 38,
   "metadata": {},
   "outputs": [
    {
     "data": {
      "text/plain": [
       "FUND_ACCOUNT_ID                                 uint32\n",
       "LOGIN_ID                                        uint32\n",
       "VINTAGE_YEAR                                    uint16\n",
       "VINTAGE_MONTH                                   uint32\n",
       "VINTAGE_DATE                                  category\n",
       "FIRST_TRANSACTION_DATE                        category\n",
       "FIRST_DEPOSIT_DATE                            category\n",
       "LAST_TRANSACTION_DATE                         category\n",
       "LAST_LOGIN_DATE                               category\n",
       "ACTIVE_LIFETIME_MONTHS                         float32\n",
       "ACCOUNT_AGE_MONTHS                               uint8\n",
       "FIRST_TIME_DEPOSITOR_REPORTING_CATEGORY       category\n",
       "FIRST_TRANSACTION_REFERRAL                    category\n",
       "IS_CORPORATE_CAMPAIGN_USER                    category\n",
       "IS_FREE_TRIAL_USER                            category\n",
       "FIRST_BASKET_CATEGORY                         category\n",
       "USER_LOCATION_COUNTRY                         category\n",
       "USER_LOCATION_STATE                           category\n",
       "USER_LOCATION_CITY                            category\n",
       "IS_INACTIVE_CREDIT_DONOR                          bool\n",
       "LIFETIME_DONATION_TOTAL                        float32\n",
       "LIFETIME_DEPOSIT_TOTAL                         float32\n",
       "LIFETIME_ACCOUNT_LOAN_PURCHASE_TOTAL            uint32\n",
       "LIFETIME_PROXY_LOAN_PURCHASE_TOTAL               uint8\n",
       "LIFETIME_DEPOSIT_NUM                           float32\n",
       "LIFETIME_ACCOUNT_LOAN_PURCHASE_NUM             float32\n",
       "LIFETIME_PROXY_LOAN_PURCHASE_NUM               float32\n",
       "LIFETIME_DONATION_NUM                          float32\n",
       "LIFETIME_LENDER_WEIGHTED_AVERAGE_LOAN_TERM     float32\n",
       "CORE_LOAN_PURCHASE_NUM                         float32\n",
       "                                                ...   \n",
       "NUM_SECTOR_MANUFACTURING_LOANS                  uint16\n",
       "NUM_SECTOR_ARTS_LOANS                           uint16\n",
       "NUM_SECTOR_HOUSING_LOANS                        uint16\n",
       "NUM_SECTOR_FOOD_LOANS                           uint32\n",
       "NUM_SECTOR_WHOLESALE_LOANS                      uint16\n",
       "NUM_SECTOR_CONSTRUCTION_LOANS                   uint16\n",
       "NUM_SECTOR_EDUCATION_LOANS                      uint16\n",
       "NUM_SECTOR_PERSONAL_USE_LOANS                   uint16\n",
       "NUM_SECTOR_ENTERTAINMENT_LOANS                  uint16\n",
       "NUM_BUNDLE_GREEN_LOANS                          uint16\n",
       "NUM_BUNDLE_HIGHER_ED_LOANS                      uint16\n",
       "NUM_BUNDLE_ISLAMIC_FINANCE_LOANS                uint16\n",
       "NUM_BUNDLE_YOUTH_LOANS                          uint16\n",
       "NUM_BUNDLE_STARTUP_LOANS                        uint16\n",
       "NUM_BUNDLE_WATER_LOANS                          uint16\n",
       "NUM_BUNDLE_VULNERABLE_LOANS                     uint16\n",
       "NUM_BUNDLE_FAIR_TRADE_LOANS                     uint16\n",
       "NUM_BUNDLE_MOBILE_TECH_LOANS                    uint16\n",
       "NUM_BUNDLE_RURAL_LOANS                          uint32\n",
       "NUM_BUNDLE_UNDERFUNDED_LOANS                    uint16\n",
       "NUM_BUNDLE_CONFLICT_ZONE_LOANS                  uint16\n",
       "NUM_BUNDLE_JOB_CREATION_SME_LOANS               uint16\n",
       "NUM_BUNDLE_GROWING_BUSINESSES_LOANS             uint16\n",
       "NUM_BUNDLE_HEALTH_LOANS                         uint16\n",
       "NUM_BUNDLE_DISASTER_RECOVERY_LOANS              uint16\n",
       "NUM_BUNDLE_INNOVATIVE_LOANS                     uint16\n",
       "NUM_BUNDLE_REFUGEE_LOANS                        uint16\n",
       "NUM_BUNDLE_SOCIAL_ENTERPRISE_LOANS              uint16\n",
       "NUM_BUNDLE_CLEAN_ENERGY_LOANS                   uint16\n",
       "NUM_BUNDLE_SOLAR_LOANS                          uint16\n",
       "Length: 105, dtype: object"
      ]
     },
     "execution_count": 38,
     "metadata": {},
     "output_type": "execute_result"
    }
   ],
   "source": [
    "optimized_ls.dtypes"
   ]
  },
  {
   "cell_type": "code",
   "execution_count": null,
   "metadata": {},
   "outputs": [],
   "source": [
    "def convert_datetime(df, col_list=['VINTAGE_DATE',\n",
    "                                   'FIRST_TRANSACTION_DATE',\n",
    "                                   'FIRST_DEPOSIT_DATE',\n",
    "                                   'LAST_TRANSACTION_DATE',\n",
    "                                   'LAST_LOGIN_DATE']):\n",
    "        for col in col_list:\n",
    "            df[col] = pd.to_datetime(df[col])\n",
    "        return df"
   ]
  },
  {
   "cell_type": "code",
   "execution_count": 42,
   "metadata": {},
   "outputs": [],
   "source": [
    "dtypes = optimized_ls.dtypes"
   ]
  },
  {
   "cell_type": "code",
   "execution_count": 44,
   "metadata": {},
   "outputs": [],
   "source": [
    "dtypes_col = dtypes.index"
   ]
  },
  {
   "cell_type": "code",
   "execution_count": 45,
   "metadata": {},
   "outputs": [],
   "source": [
    "dtypes_type = [i.name for i in dtypes.values]"
   ]
  },
  {
   "cell_type": "code",
   "execution_count": 46,
   "metadata": {},
   "outputs": [],
   "source": [
    "column_types = dict(zip(dtypes_col,dtypes_type))"
   ]
  },
  {
   "cell_type": "code",
   "execution_count": 47,
   "metadata": {},
   "outputs": [
    {
     "data": {
      "text/plain": [
       "'category'"
      ]
     },
     "execution_count": 47,
     "metadata": {},
     "output_type": "execute_result"
    }
   ],
   "source": [
    "column_types['VINTAGE_DATE']"
   ]
  },
  {
   "cell_type": "code",
   "execution_count": 49,
   "metadata": {},
   "outputs": [],
   "source": [
    "optimized_ls_read = pd.read_csv('lender_dataset.csv',dtype=column_types)"
   ]
  },
  {
   "cell_type": "code",
   "execution_count": 52,
   "metadata": {},
   "outputs": [],
   "source": [
    "import json\n",
    "with open('column_types.json', 'w') as fp:\n",
    "    json.dump(column_types, fp)"
   ]
  },
  {
   "cell_type": "code",
   "execution_count": 50,
   "metadata": {},
   "outputs": [
    {
     "name": "stdout",
     "output_type": "stream",
     "text": [
      "804.60 MB\n"
     ]
    }
   ],
   "source": [
    "print(mem_usage(optimized_ls_read))"
   ]
  },
  {
   "cell_type": "code",
   "execution_count": null,
   "metadata": {},
   "outputs": [],
   "source": [
    "#3m users dataset"
   ]
  },
  {
   "cell_type": "code",
   "execution_count": 16,
   "metadata": {},
   "outputs": [
    {
     "data": {
      "text/plain": [
       "(2945384, 105)"
      ]
     },
     "execution_count": 16,
     "metadata": {},
     "output_type": "execute_result"
    }
   ],
   "source": [
    "ls.shape"
   ]
  },
  {
   "cell_type": "code",
   "execution_count": 19,
   "metadata": {},
   "outputs": [
    {
     "data": {
      "text/plain": [
       "FIRST_TRANSACTION_DATE                        1100725\n",
       "FIRST_DEPOSIT_DATE                            1818487\n",
       "LAST_TRANSACTION_DATE                         1100736\n",
       "ACTIVE_LIFETIME_MONTHS                        1100736\n",
       "USER_LOCATION_COUNTRY                         1371015\n",
       "USER_LOCATION_STATE                           1537399\n",
       "USER_LOCATION_CITY                            1527001\n",
       "LIFETIME_DEPOSIT_NUM                          1100725\n",
       "LIFETIME_ACCOUNT_LOAN_PURCHASE_NUM            1100725\n",
       "LIFETIME_PROXY_LOAN_PURCHASE_NUM              1196160\n",
       "LIFETIME_DONATION_NUM                         1100725\n",
       "LIFETIME_LENDER_WEIGHTED_AVERAGE_LOAN_TERM    1239052\n",
       "CORE_LOAN_PURCHASE_NUM                        1196160\n",
       "CORE_LOAN_PURCHASE_TOTAL                      1196160\n",
       "DIRECT_LOAN_PURCHASE_NUM                      1196160\n",
       "DIRECT_LOAN_PURCHASE_TOTAL                    1196160\n",
       "FIRST_LOAN_PURCHASE_WEIGHTED_AVERAGE_TERM     1201919\n",
       "NUMBER_OF_LOANS_IN_FIRST_LOAN_CHECKOUT        1201911\n",
       "NUMBER_OF_FIRST_LOANS_STILL_OUTSTANDING       1201911\n",
       "PERCENT_FIRST_LOANS_EXPIRED                   1201911\n",
       "PERCENT_FIRST_LOANS_DEFAULTED                 1201911\n",
       "PERCENT_FIRST_LOANS_REPAID                    1201911\n",
       "FIRST_LOAN_COUNTRY                            1201911\n",
       "FIRST_LOAN_REGION                             1201911\n",
       "dtype: int64"
      ]
     },
     "execution_count": 19,
     "metadata": {},
     "output_type": "execute_result"
    }
   ],
   "source": [
    "ls.isnull().sum()[ls.isnull().sum() != 0 ]"
   ]
  },
  {
   "cell_type": "code",
   "execution_count": 5,
   "metadata": {},
   "outputs": [],
   "source": [
    "ls = drop_outliers(ls,outlier_index_lst=[2987, 27627, 15038, 19433, 704])"
   ]
  },
  {
   "cell_type": "code",
   "execution_count": 6,
   "metadata": {},
   "outputs": [
    {
     "data": {
      "text/plain": [
       "(51203, 105)"
      ]
     },
     "execution_count": 6,
     "metadata": {},
     "output_type": "execute_result"
    }
   ],
   "source": [
    "ls.shape"
   ]
  },
  {
   "cell_type": "code",
   "execution_count": 12,
   "metadata": {},
   "outputs": [
    {
     "ename": "ValueError",
     "evalue": "Cannot convert non-finite values (NA or inf) to integer",
     "output_type": "error",
     "traceback": [
      "\u001b[0;31m---------------------------------------------------------------------------\u001b[0m",
      "\u001b[0;31mValueError\u001b[0m                                Traceback (most recent call last)",
      "\u001b[0;32m<ipython-input-12-aa8be2b7fadd>\u001b[0m in \u001b[0;36m<module>\u001b[0;34m()\u001b[0m\n\u001b[0;32m----> 1\u001b[0;31m \u001b[0mdf\u001b[0m\u001b[0;34m,\u001b[0m \u001b[0mX\u001b[0m \u001b[0;34m=\u001b[0m \u001b[0mfeature_engineer\u001b[0m\u001b[0;34m(\u001b[0m\u001b[0mls\u001b[0m\u001b[0;34m)\u001b[0m\u001b[0;34m\u001b[0m\u001b[0m\n\u001b[0m",
      "\u001b[0;32m~/notebooks/lender_pipeline.py\u001b[0m in \u001b[0;36mfeature_engineer\u001b[0;34m(ls)\u001b[0m\n\u001b[1;32m     97\u001b[0m     \u001b[0mls\u001b[0m \u001b[0;34m=\u001b[0m \u001b[0mconvert_dtype\u001b[0m\u001b[0;34m(\u001b[0m\u001b[0mls\u001b[0m\u001b[0;34m)\u001b[0m\u001b[0;34m\u001b[0m\u001b[0m\n\u001b[1;32m     98\u001b[0m     \u001b[0mls\u001b[0m \u001b[0;34m=\u001b[0m \u001b[0mconvert_datetime\u001b[0m\u001b[0;34m(\u001b[0m\u001b[0mls\u001b[0m\u001b[0;34m)\u001b[0m\u001b[0;34m\u001b[0m\u001b[0m\n\u001b[0;32m---> 99\u001b[0;31m     \u001b[0mls\u001b[0m \u001b[0;34m=\u001b[0m \u001b[0mconvert_to_peroid\u001b[0m\u001b[0;34m(\u001b[0m\u001b[0mls\u001b[0m\u001b[0;34m)\u001b[0m\u001b[0;34m\u001b[0m\u001b[0m\n\u001b[0m\u001b[1;32m    100\u001b[0m     \u001b[0mls\u001b[0m \u001b[0;34m=\u001b[0m \u001b[0mcreate_donation_tip_col\u001b[0m\u001b[0;34m(\u001b[0m\u001b[0mls\u001b[0m\u001b[0;34m)\u001b[0m\u001b[0;34m\u001b[0m\u001b[0m\n\u001b[1;32m    101\u001b[0m     \u001b[0mls\u001b[0m \u001b[0;34m=\u001b[0m \u001b[0mfill_cont_nans\u001b[0m\u001b[0;34m(\u001b[0m\u001b[0mls\u001b[0m\u001b[0;34m)\u001b[0m\u001b[0;34m\u001b[0m\u001b[0m\n",
      "\u001b[0;32m~/notebooks/lender_pipeline.py\u001b[0m in \u001b[0;36mconvert_to_peroid\u001b[0;34m(ls)\u001b[0m\n\u001b[1;32m     22\u001b[0m         (ls['LAST_LOGIN_DATE'] - today) / -np.timedelta64(1, 'D')).astype(int)\n\u001b[1;32m     23\u001b[0m     ls['last_transaction_today'] = (\n\u001b[0;32m---> 24\u001b[0;31m         (ls['LAST_TRANSACTION_DATE'] - today) / -np.timedelta64(1, 'D')).astype(int)\n\u001b[0m\u001b[1;32m     25\u001b[0m     ls['first_transaction_period'] = (\n\u001b[1;32m     26\u001b[0m         (ls['FIRST_TRANSACTION_DATE'] - ls['VINTAGE_DATE']) / np.timedelta64(1, 'D')).astype(int)\n",
      "\u001b[0;32m/usr/local/lib/python3.5/dist-packages/pandas/util/_decorators.py\u001b[0m in \u001b[0;36mwrapper\u001b[0;34m(*args, **kwargs)\u001b[0m\n\u001b[1;32m     89\u001b[0m                 \u001b[0;32melse\u001b[0m\u001b[0;34m:\u001b[0m\u001b[0;34m\u001b[0m\u001b[0m\n\u001b[1;32m     90\u001b[0m                     \u001b[0mkwargs\u001b[0m\u001b[0;34m[\u001b[0m\u001b[0mnew_arg_name\u001b[0m\u001b[0;34m]\u001b[0m \u001b[0;34m=\u001b[0m \u001b[0mnew_arg_value\u001b[0m\u001b[0;34m\u001b[0m\u001b[0m\n\u001b[0;32m---> 91\u001b[0;31m             \u001b[0;32mreturn\u001b[0m \u001b[0mfunc\u001b[0m\u001b[0;34m(\u001b[0m\u001b[0;34m*\u001b[0m\u001b[0margs\u001b[0m\u001b[0;34m,\u001b[0m \u001b[0;34m**\u001b[0m\u001b[0mkwargs\u001b[0m\u001b[0;34m)\u001b[0m\u001b[0;34m\u001b[0m\u001b[0m\n\u001b[0m\u001b[1;32m     92\u001b[0m         \u001b[0;32mreturn\u001b[0m \u001b[0mwrapper\u001b[0m\u001b[0;34m\u001b[0m\u001b[0m\n\u001b[1;32m     93\u001b[0m     \u001b[0;32mreturn\u001b[0m \u001b[0m_deprecate_kwarg\u001b[0m\u001b[0;34m\u001b[0m\u001b[0m\n",
      "\u001b[0;32m/usr/local/lib/python3.5/dist-packages/pandas/core/generic.py\u001b[0m in \u001b[0;36mastype\u001b[0;34m(self, dtype, copy, errors, **kwargs)\u001b[0m\n\u001b[1;32m   3408\u001b[0m         \u001b[0;31m# else, only a single dtype is given\u001b[0m\u001b[0;34m\u001b[0m\u001b[0;34m\u001b[0m\u001b[0m\n\u001b[1;32m   3409\u001b[0m         new_data = self._data.astype(dtype=dtype, copy=copy, errors=errors,\n\u001b[0;32m-> 3410\u001b[0;31m                                      **kwargs)\n\u001b[0m\u001b[1;32m   3411\u001b[0m         \u001b[0;32mreturn\u001b[0m \u001b[0mself\u001b[0m\u001b[0;34m.\u001b[0m\u001b[0m_constructor\u001b[0m\u001b[0;34m(\u001b[0m\u001b[0mnew_data\u001b[0m\u001b[0;34m)\u001b[0m\u001b[0;34m.\u001b[0m\u001b[0m__finalize__\u001b[0m\u001b[0;34m(\u001b[0m\u001b[0mself\u001b[0m\u001b[0;34m)\u001b[0m\u001b[0;34m\u001b[0m\u001b[0m\n\u001b[1;32m   3412\u001b[0m \u001b[0;34m\u001b[0m\u001b[0m\n",
      "\u001b[0;32m/usr/local/lib/python3.5/dist-packages/pandas/core/internals.py\u001b[0m in \u001b[0;36mastype\u001b[0;34m(self, dtype, **kwargs)\u001b[0m\n\u001b[1;32m   3222\u001b[0m \u001b[0;34m\u001b[0m\u001b[0m\n\u001b[1;32m   3223\u001b[0m     \u001b[0;32mdef\u001b[0m \u001b[0mastype\u001b[0m\u001b[0;34m(\u001b[0m\u001b[0mself\u001b[0m\u001b[0;34m,\u001b[0m \u001b[0mdtype\u001b[0m\u001b[0;34m,\u001b[0m \u001b[0;34m**\u001b[0m\u001b[0mkwargs\u001b[0m\u001b[0;34m)\u001b[0m\u001b[0;34m:\u001b[0m\u001b[0;34m\u001b[0m\u001b[0m\n\u001b[0;32m-> 3224\u001b[0;31m         \u001b[0;32mreturn\u001b[0m \u001b[0mself\u001b[0m\u001b[0;34m.\u001b[0m\u001b[0mapply\u001b[0m\u001b[0;34m(\u001b[0m\u001b[0;34m'astype'\u001b[0m\u001b[0;34m,\u001b[0m \u001b[0mdtype\u001b[0m\u001b[0;34m=\u001b[0m\u001b[0mdtype\u001b[0m\u001b[0;34m,\u001b[0m \u001b[0;34m**\u001b[0m\u001b[0mkwargs\u001b[0m\u001b[0;34m)\u001b[0m\u001b[0;34m\u001b[0m\u001b[0m\n\u001b[0m\u001b[1;32m   3225\u001b[0m \u001b[0;34m\u001b[0m\u001b[0m\n\u001b[1;32m   3226\u001b[0m     \u001b[0;32mdef\u001b[0m \u001b[0mconvert\u001b[0m\u001b[0;34m(\u001b[0m\u001b[0mself\u001b[0m\u001b[0;34m,\u001b[0m \u001b[0;34m**\u001b[0m\u001b[0mkwargs\u001b[0m\u001b[0;34m)\u001b[0m\u001b[0;34m:\u001b[0m\u001b[0;34m\u001b[0m\u001b[0m\n",
      "\u001b[0;32m/usr/local/lib/python3.5/dist-packages/pandas/core/internals.py\u001b[0m in \u001b[0;36mapply\u001b[0;34m(self, f, axes, filter, do_integrity_check, consolidate, **kwargs)\u001b[0m\n\u001b[1;32m   3089\u001b[0m \u001b[0;34m\u001b[0m\u001b[0m\n\u001b[1;32m   3090\u001b[0m             \u001b[0mkwargs\u001b[0m\u001b[0;34m[\u001b[0m\u001b[0;34m'mgr'\u001b[0m\u001b[0;34m]\u001b[0m \u001b[0;34m=\u001b[0m \u001b[0mself\u001b[0m\u001b[0;34m\u001b[0m\u001b[0m\n\u001b[0;32m-> 3091\u001b[0;31m             \u001b[0mapplied\u001b[0m \u001b[0;34m=\u001b[0m \u001b[0mgetattr\u001b[0m\u001b[0;34m(\u001b[0m\u001b[0mb\u001b[0m\u001b[0;34m,\u001b[0m \u001b[0mf\u001b[0m\u001b[0;34m)\u001b[0m\u001b[0;34m(\u001b[0m\u001b[0;34m**\u001b[0m\u001b[0mkwargs\u001b[0m\u001b[0;34m)\u001b[0m\u001b[0;34m\u001b[0m\u001b[0m\n\u001b[0m\u001b[1;32m   3092\u001b[0m             \u001b[0mresult_blocks\u001b[0m \u001b[0;34m=\u001b[0m \u001b[0m_extend_blocks\u001b[0m\u001b[0;34m(\u001b[0m\u001b[0mapplied\u001b[0m\u001b[0;34m,\u001b[0m \u001b[0mresult_blocks\u001b[0m\u001b[0;34m)\u001b[0m\u001b[0;34m\u001b[0m\u001b[0m\n\u001b[1;32m   3093\u001b[0m \u001b[0;34m\u001b[0m\u001b[0m\n",
      "\u001b[0;32m/usr/local/lib/python3.5/dist-packages/pandas/core/internals.py\u001b[0m in \u001b[0;36mastype\u001b[0;34m(self, dtype, copy, errors, values, **kwargs)\u001b[0m\n\u001b[1;32m    469\u001b[0m     \u001b[0;32mdef\u001b[0m \u001b[0mastype\u001b[0m\u001b[0;34m(\u001b[0m\u001b[0mself\u001b[0m\u001b[0;34m,\u001b[0m \u001b[0mdtype\u001b[0m\u001b[0;34m,\u001b[0m \u001b[0mcopy\u001b[0m\u001b[0;34m=\u001b[0m\u001b[0;32mFalse\u001b[0m\u001b[0;34m,\u001b[0m \u001b[0merrors\u001b[0m\u001b[0;34m=\u001b[0m\u001b[0;34m'raise'\u001b[0m\u001b[0;34m,\u001b[0m \u001b[0mvalues\u001b[0m\u001b[0;34m=\u001b[0m\u001b[0;32mNone\u001b[0m\u001b[0;34m,\u001b[0m \u001b[0;34m**\u001b[0m\u001b[0mkwargs\u001b[0m\u001b[0;34m)\u001b[0m\u001b[0;34m:\u001b[0m\u001b[0;34m\u001b[0m\u001b[0m\n\u001b[1;32m    470\u001b[0m         return self._astype(dtype, copy=copy, errors=errors, values=values,\n\u001b[0;32m--> 471\u001b[0;31m                             **kwargs)\n\u001b[0m\u001b[1;32m    472\u001b[0m \u001b[0;34m\u001b[0m\u001b[0m\n\u001b[1;32m    473\u001b[0m     def _astype(self, dtype, copy=False, errors='raise', values=None,\n",
      "\u001b[0;32m/usr/local/lib/python3.5/dist-packages/pandas/core/internals.py\u001b[0m in \u001b[0;36m_astype\u001b[0;34m(self, dtype, copy, errors, values, klass, mgr, raise_on_error, **kwargs)\u001b[0m\n\u001b[1;32m    519\u001b[0m \u001b[0;34m\u001b[0m\u001b[0m\n\u001b[1;32m    520\u001b[0m                 \u001b[0;31m# _astype_nansafe works fine with 1-d only\u001b[0m\u001b[0;34m\u001b[0m\u001b[0;34m\u001b[0m\u001b[0m\n\u001b[0;32m--> 521\u001b[0;31m                 \u001b[0mvalues\u001b[0m \u001b[0;34m=\u001b[0m \u001b[0mastype_nansafe\u001b[0m\u001b[0;34m(\u001b[0m\u001b[0mvalues\u001b[0m\u001b[0;34m.\u001b[0m\u001b[0mravel\u001b[0m\u001b[0;34m(\u001b[0m\u001b[0;34m)\u001b[0m\u001b[0;34m,\u001b[0m \u001b[0mdtype\u001b[0m\u001b[0;34m,\u001b[0m \u001b[0mcopy\u001b[0m\u001b[0;34m=\u001b[0m\u001b[0;32mTrue\u001b[0m\u001b[0;34m)\u001b[0m\u001b[0;34m\u001b[0m\u001b[0m\n\u001b[0m\u001b[1;32m    522\u001b[0m                 \u001b[0mvalues\u001b[0m \u001b[0;34m=\u001b[0m \u001b[0mvalues\u001b[0m\u001b[0;34m.\u001b[0m\u001b[0mreshape\u001b[0m\u001b[0;34m(\u001b[0m\u001b[0mself\u001b[0m\u001b[0;34m.\u001b[0m\u001b[0mshape\u001b[0m\u001b[0;34m)\u001b[0m\u001b[0;34m\u001b[0m\u001b[0m\n\u001b[1;32m    523\u001b[0m \u001b[0;34m\u001b[0m\u001b[0m\n",
      "\u001b[0;32m/usr/local/lib/python3.5/dist-packages/pandas/core/dtypes/cast.py\u001b[0m in \u001b[0;36mastype_nansafe\u001b[0;34m(arr, dtype, copy)\u001b[0m\n\u001b[1;32m    618\u001b[0m \u001b[0;34m\u001b[0m\u001b[0m\n\u001b[1;32m    619\u001b[0m         \u001b[0;32mif\u001b[0m \u001b[0;32mnot\u001b[0m \u001b[0mnp\u001b[0m\u001b[0;34m.\u001b[0m\u001b[0misfinite\u001b[0m\u001b[0;34m(\u001b[0m\u001b[0marr\u001b[0m\u001b[0;34m)\u001b[0m\u001b[0;34m.\u001b[0m\u001b[0mall\u001b[0m\u001b[0;34m(\u001b[0m\u001b[0;34m)\u001b[0m\u001b[0;34m:\u001b[0m\u001b[0;34m\u001b[0m\u001b[0m\n\u001b[0;32m--> 620\u001b[0;31m             raise ValueError('Cannot convert non-finite values (NA or inf) to '\n\u001b[0m\u001b[1;32m    621\u001b[0m                              'integer')\n\u001b[1;32m    622\u001b[0m \u001b[0;34m\u001b[0m\u001b[0m\n",
      "\u001b[0;31mValueError\u001b[0m: Cannot convert non-finite values (NA or inf) to integer"
     ]
    }
   ],
   "source": [
    "df, X = feature_engineer(ls)"
   ]
  },
  {
   "cell_type": "code",
   "execution_count": 18,
   "metadata": {
    "scrolled": true
   },
   "outputs": [
    {
     "name": "stdout",
     "output_type": "stream",
     "text": [
      "              total        used        free      shared  buff/cache   available\r\n",
      "Mem:           3950         671        2677          22         601        2954\r\n",
      "Swap:             0           0           0\r\n"
     ]
    }
   ],
   "source": [
    "!free -m"
   ]
  },
  {
   "cell_type": "code",
   "execution_count": null,
   "metadata": {},
   "outputs": [],
   "source": [
    "# from numpy.linalg import svd"
   ]
  },
  {
   "cell_type": "code",
   "execution_count": null,
   "metadata": {},
   "outputs": [],
   "source": [
    "# U,S,V_t = svd(X) #memory error"
   ]
  },
  {
   "cell_type": "code",
   "execution_count": null,
   "metadata": {},
   "outputs": [],
   "source": [
    "!free -m"
   ]
  },
  {
   "cell_type": "code",
   "execution_count": 23,
   "metadata": {},
   "outputs": [
    {
     "name": "stdout",
     "output_type": "stream",
     "text": [
      "#0 Principle Component top 5 contributors are: [ 9 76 75 60 13]\n",
      "#1 Principle Component top 5 contributors are: [ 25 241  27 112  93]\n",
      "#2 Principle Component top 5 contributors are: [17 18  6 14  5]\n",
      "Reduced X shape: (51203, 3)\n"
     ]
    }
   ],
   "source": [
    "re_X, imp_f = PCA_reduce(X,3)"
   ]
  },
  {
   "cell_type": "code",
   "execution_count": 24,
   "metadata": {
    "scrolled": true
   },
   "outputs": [
    {
     "name": "stdout",
     "output_type": "stream",
     "text": [
      "Counter({'CORE_LOAN_PURCHASE_TOTAL': 1, 'NUM_BUNDLE_UNDERFUNDED_LOANS': 1, 'FIRST_YEAR_LOAN_PURCHASE_TOTAL': 1, 'FIRST_BASKET_CATEGORY_Promo Lender': 1, 'FIRST_TIME_DEPOSITOR_REPORTING_CATEGORY_none': 1, 'NUM_BUNDLE_RURAL_LOANS': 1, 'LIFETIME_ACCOUNT_LOAN_PURCHASE_NUM': 1, 'FIRST_YEAR_DONATION_OCCASION_NUM': 1, 'NUM_SECTOR_FOOD_LOANS': 1, 'FIRST_YEAR_DEPOSIT_TOTAL': 1, 'ACTIVE_LIFETIME_MONTHS_log': 1, 'CORE_LOAN_PURCHASE_NUM': 1, 'LIFETIME_DEPOSIT_TOTAL': 1, 'FIRST_YEAR_DEPOSIT_OCCASION_NUM': 1, 'LIFETIME_ACCOUNT_LOAN_PURCHASE_TOTAL': 1})\n"
     ]
    }
   ],
   "source": [
    "counter = print_imp_features(df,imp_f)"
   ]
  },
  {
   "cell_type": "code",
   "execution_count": null,
   "metadata": {},
   "outputs": [],
   "source": []
  }
 ],
 "metadata": {
  "hide_input": false,
  "kernelspec": {
   "display_name": "Python 3",
   "language": "python",
   "name": "python3"
  },
  "language_info": {
   "codemirror_mode": {
    "name": "ipython",
    "version": 3
   },
   "file_extension": ".py",
   "mimetype": "text/x-python",
   "name": "python",
   "nbconvert_exporter": "python",
   "pygments_lexer": "ipython3",
   "version": "3.6.4"
  }
 },
 "nbformat": 4,
 "nbformat_minor": 2
}
