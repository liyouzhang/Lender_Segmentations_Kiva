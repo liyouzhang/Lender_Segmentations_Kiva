{
 "cells": [
  {
   "cell_type": "markdown",
   "metadata": {},
   "source": [
    "# Kiva Loan Data EDA and Analysis"
   ]
  },
  {
   "cell_type": "markdown",
   "metadata": {},
   "source": [
    "### About Kiva\n",
    "Kiva is an international nonprofit founded in 2005 with a mission to connect people through lending to alleviate poverty. In June 2018 Kiva was in 85 countries, and had served 2.9 Million borrowers through $ 1.16 Billion worth of loans.\n",
    "\n",
    "### How it works\n",
    "1. A borrower applies for a loan (micro-finance partner, or Kiva directly).\n",
    "2. The loan goes through the underwriting and approval process.\n",
    "3. The loan is posted to Kiva for lenders to support, and a 30-day fundraising period begins.\n",
    "4. Borrowers repay the loans.\n",
    "* Note that Kiva does not collect interest on loans, and Kiva lenders do not receive interest from loans they support on Kiva. However, Field Partners collect interest from borrowers to cover their operation costs.\n",
    "\n",
    "### About Kiva's Data\n",
    "This analysis uses Kiva's Data Snapshot (https://build.kiva.org/docs/data/snapshots) downloaded on June 15th, 2018.\n"
   ]
  },
  {
   "cell_type": "markdown",
   "metadata": {},
   "source": [
    "## Libraries and Data"
   ]
  },
  {
   "cell_type": "code",
   "execution_count": 1,
   "metadata": {},
   "outputs": [],
   "source": [
    "import numpy as np\n",
    "import pandas as pd\n",
    "import matplotlib.pyplot as plt\n",
    "import seaborn as sns\n",
    "import scipy.stats as sts\n",
    "%matplotlib inline"
   ]
  },
  {
   "cell_type": "code",
   "execution_count": 2,
   "metadata": {},
   "outputs": [
    {
     "name": "stdout",
     "output_type": "stream",
     "text": [
      "\u001b[31mlenders.csv\u001b[m\u001b[m       \u001b[31mloans.csv\u001b[m\u001b[m         \u001b[31mloans_lenders.csv\u001b[m\u001b[m\r\n"
     ]
    }
   ],
   "source": [
    "!ls kiva_ds_csv"
   ]
  },
  {
   "cell_type": "code",
   "execution_count": 3,
   "metadata": {},
   "outputs": [],
   "source": [
    "lenders = pd.read_csv('kiva_ds_csv/lenders.csv')"
   ]
  },
  {
   "cell_type": "code",
   "execution_count": 4,
   "metadata": {},
   "outputs": [],
   "source": [
    "loans = pd.read_csv('kiva_ds_csv/loans.csv', parse_dates=['POSTED_TIME', 'PLANNED_EXPIRATION_TIME', 'DISBURSE_TIME',\n",
    "       'RAISED_TIME'])"
   ]
  },
  {
   "cell_type": "code",
   "execution_count": 5,
   "metadata": {},
   "outputs": [],
   "source": [
    "loans_lenders = pd.read_csv('kiva_ds_csv/loans_lenders.csv')"
   ]
  },
  {
   "cell_type": "code",
   "execution_count": 5,
   "metadata": {
    "collapsed": true
   },
   "outputs": [
    {
     "data": {
      "text/plain": [
       "PERMANENT_NAME             0\n",
       "DISPLAY_NAME            2768\n",
       "MAIN_PIC_ID          1590116\n",
       "CITY                 1619306\n",
       "STATE                1713481\n",
       "COUNTRY_CODE         1458635\n",
       "MEMBER_SINCE               0\n",
       "PERSONAL_URL         2189805\n",
       "OCCUPATION           1844514\n",
       "LOAN_BECAUSE         2174852\n",
       "OTHER_INFO           2154640\n",
       "LOAN_PURCHASE_NUM     894281\n",
       "INVITED_BY           1852349\n",
       "NUM_INVITED                0\n",
       "dtype: int64"
      ]
     },
     "execution_count": 5,
     "metadata": {},
     "output_type": "execute_result"
    }
   ],
   "source": [
    "lenders.isnull().sum()"
   ]
  },
  {
   "cell_type": "code",
   "execution_count": 6,
   "metadata": {},
   "outputs": [
    {
     "data": {
      "text/plain": [
       "(2349174, 14)"
      ]
     },
     "execution_count": 6,
     "metadata": {},
     "output_type": "execute_result"
    }
   ],
   "source": [
    "lenders.shape"
   ]
  },
  {
   "cell_type": "code",
   "execution_count": 7,
   "metadata": {},
   "outputs": [
    {
     "data": {
      "text/plain": [
       "(1419607, 34)"
      ]
     },
     "execution_count": 7,
     "metadata": {},
     "output_type": "execute_result"
    }
   ],
   "source": [
    "loans.shape"
   ]
  },
  {
   "cell_type": "code",
   "execution_count": 10,
   "metadata": {
    "scrolled": true
   },
   "outputs": [
    {
     "data": {
      "text/plain": [
       "(1387432, 2)"
      ]
     },
     "execution_count": 10,
     "metadata": {},
     "output_type": "execute_result"
    }
   ],
   "source": [
    "loans_lenders.shape"
   ]
  },
  {
   "cell_type": "code",
   "execution_count": 9,
   "metadata": {},
   "outputs": [],
   "source": [
    "test = loans_lenders.sample(10)"
   ]
  },
  {
   "cell_type": "code",
   "execution_count": 15,
   "metadata": {},
   "outputs": [
    {
     "data": {
      "text/html": [
       "<div>\n",
       "<style scoped>\n",
       "    .dataframe tbody tr th:only-of-type {\n",
       "        vertical-align: middle;\n",
       "    }\n",
       "\n",
       "    .dataframe tbody tr th {\n",
       "        vertical-align: top;\n",
       "    }\n",
       "\n",
       "    .dataframe thead th {\n",
       "        text-align: right;\n",
       "    }\n",
       "</style>\n",
       "<table border=\"1\" class=\"dataframe\">\n",
       "  <thead>\n",
       "    <tr style=\"text-align: right;\">\n",
       "      <th></th>\n",
       "      <th>LOAN_ID</th>\n",
       "      <th>LENDERS</th>\n",
       "    </tr>\n",
       "  </thead>\n",
       "  <tbody>\n",
       "    <tr>\n",
       "      <th>333766</th>\n",
       "      <td>913663</td>\n",
       "      <td>bryan1553, kbk, rolf5730, gertjan9162, thomas5...</td>\n",
       "    </tr>\n",
       "    <tr>\n",
       "      <th>575889</th>\n",
       "      <td>901155</td>\n",
       "      <td>jacqueline4222, trolltech4460, stephen30137852...</td>\n",
       "    </tr>\n",
       "    <tr>\n",
       "      <th>166831</th>\n",
       "      <td>1121282</td>\n",
       "      <td>karen5774, rich2817, martina8330, ted3130, jus...</td>\n",
       "    </tr>\n",
       "    <tr>\n",
       "      <th>629627</th>\n",
       "      <td>849934</td>\n",
       "      <td>dishforum1163, shannon40082015, nigel4691, kat...</td>\n",
       "    </tr>\n",
       "    <tr>\n",
       "      <th>402234</th>\n",
       "      <td>446593</td>\n",
       "      <td>paul23765609, ricardopereira, markdeac, mary34...</td>\n",
       "    </tr>\n",
       "    <tr>\n",
       "      <th>1255565</th>\n",
       "      <td>629687</td>\n",
       "      <td>ali9555, dylan5948, larryandkitty3677, cierra8...</td>\n",
       "    </tr>\n",
       "    <tr>\n",
       "      <th>683168</th>\n",
       "      <td>42339</td>\n",
       "      <td>ssnyder, chrispadfield, jennifer7131, collene,...</td>\n",
       "    </tr>\n",
       "    <tr>\n",
       "      <th>1207236</th>\n",
       "      <td>1341837</td>\n",
       "      <td>tim4327, fiona2159, richard3905, sander3009, d...</td>\n",
       "    </tr>\n",
       "    <tr>\n",
       "      <th>1124816</th>\n",
       "      <td>618557</td>\n",
       "      <td>josy6466, r3922, zm5282, laree2227, g7537, amy...</td>\n",
       "    </tr>\n",
       "    <tr>\n",
       "      <th>1075189</th>\n",
       "      <td>72888</td>\n",
       "      <td>cindy9335, john7424, doug7646, satoko8119, jea...</td>\n",
       "    </tr>\n",
       "  </tbody>\n",
       "</table>\n",
       "</div>"
      ],
      "text/plain": [
       "         LOAN_ID                                            LENDERS\n",
       "333766    913663  bryan1553, kbk, rolf5730, gertjan9162, thomas5...\n",
       "575889    901155  jacqueline4222, trolltech4460, stephen30137852...\n",
       "166831   1121282  karen5774, rich2817, martina8330, ted3130, jus...\n",
       "629627    849934  dishforum1163, shannon40082015, nigel4691, kat...\n",
       "402234    446593  paul23765609, ricardopereira, markdeac, mary34...\n",
       "1255565   629687  ali9555, dylan5948, larryandkitty3677, cierra8...\n",
       "683168     42339  ssnyder, chrispadfield, jennifer7131, collene,...\n",
       "1207236  1341837  tim4327, fiona2159, richard3905, sander3009, d...\n",
       "1124816   618557  josy6466, r3922, zm5282, laree2227, g7537, amy...\n",
       "1075189    72888  cindy9335, john7424, doug7646, satoko8119, jea..."
      ]
     },
     "execution_count": 15,
     "metadata": {},
     "output_type": "execute_result"
    }
   ],
   "source": [
    "test"
   ]
  },
  {
   "cell_type": "code",
   "execution_count": 12,
   "metadata": {},
   "outputs": [],
   "source": [
    "import pandas as pd\n",
    "from sklearn.decomposition import NMF\n",
    "from sklearn.feature_extraction.text import CountVectorizer, TfidfVectorizer\n",
    "\n",
    "from nltk.corpus import stopwords\n",
    "from nltk.tokenize import word_tokenize\n",
    "from nltk.stem.snowball import SnowballStemmer\n",
    "from nltk.stem.wordnet import WordNetLemmatizer\n",
    "\n",
    "import numpy as np\n",
    "from bs4 import BeautifulSoup\n",
    "import string\n",
    "\n",
    "\n",
    "#Step 1. Load the data\n",
    "descriptions = test.LENDERS\n",
    "\n",
    "#Step 2. Vectorize, Stem and Lemmatize words\n",
    "\n",
    "vect = CountVectorizer()\n",
    "model = vect.fit_transform(descriptions)\n",
    "\n",
    "def tokenize(doc):\n",
    "#     soup = BeautifulSoup(doc,'html.parser')\n",
    "#     text = soup.get_text()\n",
    "    translater = str.maketrans('','',string.punctuation)\n",
    "    a = [word_tokenize(descriptions.translate(translater))]\n",
    "    return a\n",
    "\n",
    "# vect = TfidfVectorizer(analyzer='word',tokenizer=tokenize)\n",
    "# model = vect.fit_transform(descriptions)\n",
    "# features = vect.get_feature_names()"
   ]
  },
  {
   "cell_type": "code",
   "execution_count": 40,
   "metadata": {
    "collapsed": true
   },
   "outputs": [
    {
     "data": {
      "text/plain": [
       "['aaron83574977',\n",
       " 'alexlee',\n",
       " 'ali9555',\n",
       " 'aliasgharmoiz',\n",
       " 'amy3935',\n",
       " 'amy7364',\n",
       " 'andrea5814',\n",
       " 'anita2681',\n",
       " 'areef7365',\n",
       " 'arun1891',\n",
       " 'barbara6180',\n",
       " 'betty95301705',\n",
       " 'bob1643',\n",
       " 'bryan1553',\n",
       " 'caroline7000',\n",
       " 'cathied9162',\n",
       " 'chris4594',\n",
       " 'chrisandcathy4269',\n",
       " 'chrispadfield',\n",
       " 'christchurchanglican5547',\n",
       " 'christian6619',\n",
       " 'christina3424',\n",
       " 'cierra8791',\n",
       " 'cindy9335',\n",
       " 'claire1286',\n",
       " 'clarence8190',\n",
       " 'clorton',\n",
       " 'collene',\n",
       " 'dana5182',\n",
       " 'daniel5404',\n",
       " 'daniel9568',\n",
       " 'danny6470',\n",
       " 'danritz',\n",
       " 'david3844',\n",
       " 'david59642749',\n",
       " 'david80737421',\n",
       " 'david9667',\n",
       " 'diane9275',\n",
       " 'dishforum1163',\n",
       " 'doug7646',\n",
       " 'dylan5948',\n",
       " 'edtracymaxgrace7258',\n",
       " 'elias4241',\n",
       " 'emily50205446',\n",
       " 'emma5238',\n",
       " 'enriquelopez',\n",
       " 'eric2633',\n",
       " 'esther9248',\n",
       " 'evelyne9710',\n",
       " 'fiona2159',\n",
       " 'freddie1373',\n",
       " 'g7537',\n",
       " 'gary8860',\n",
       " 'george23907283',\n",
       " 'gertjan9162',\n",
       " 'gooddogg1',\n",
       " 'guy9829',\n",
       " 'harold5454',\n",
       " 'henry8741',\n",
       " 'howard8651',\n",
       " 'ijliao',\n",
       " 'jacqueline4222',\n",
       " 'james9460',\n",
       " 'jandorfer',\n",
       " 'jason7589',\n",
       " 'jean5726',\n",
       " 'jeanene5460',\n",
       " 'jeanetteingrid9958',\n",
       " 'jeanmarie8125',\n",
       " 'jeff3131',\n",
       " 'jennifer7131',\n",
       " 'jmcgimpsey',\n",
       " 'john4403',\n",
       " 'john51492369',\n",
       " 'john7424',\n",
       " 'jonathan3172',\n",
       " 'jonelle4661',\n",
       " 'josy6466',\n",
       " 'justin1061',\n",
       " 'justin1305',\n",
       " 'jy1024',\n",
       " 'jyunfan7173',\n",
       " 'karen5774',\n",
       " 'kathleen2383',\n",
       " 'kathy6291',\n",
       " 'katie76891688',\n",
       " 'kbk',\n",
       " 'keenan',\n",
       " 'keith2250',\n",
       " 'kelseykg89',\n",
       " 'kira6087',\n",
       " 'kurt',\n",
       " 'laree2227',\n",
       " 'larryandkitty3677',\n",
       " 'lidia5529',\n",
       " 'lizztheblizz',\n",
       " 'mariomuc',\n",
       " 'markdeac',\n",
       " 'martina8330',\n",
       " 'mary34205543',\n",
       " 'mary4228',\n",
       " 'maryc3974',\n",
       " 'maryellen6459',\n",
       " 'mayo4304',\n",
       " 'megan38877344',\n",
       " 'michael3548',\n",
       " 'michael4155',\n",
       " 'molly3537',\n",
       " 'morgan7957',\n",
       " 'nigel4691',\n",
       " 'nitin5775',\n",
       " 'parviz6433',\n",
       " 'paul23765609',\n",
       " 'paul7796',\n",
       " 'peter4816',\n",
       " 'peter7395',\n",
       " 'petra6359',\n",
       " 'pierre8909',\n",
       " 'r3922',\n",
       " 'rafael4704',\n",
       " 'rebecca3038',\n",
       " 'rebecca9615',\n",
       " 'rebekah9624',\n",
       " 'ricardopereira',\n",
       " 'rich2817',\n",
       " 'richard3905',\n",
       " 'rick1889',\n",
       " 'rob3147',\n",
       " 'robert1955',\n",
       " 'rolf5730',\n",
       " 'rose7026',\n",
       " 'ruth8689',\n",
       " 'ryan4809',\n",
       " 'samantha9767',\n",
       " 'sander3009',\n",
       " 'sandralarry',\n",
       " 'sanna5526',\n",
       " 'saskia10',\n",
       " 'satoko8119',\n",
       " 'shannon40082015',\n",
       " 'shirley1905',\n",
       " 'sidledes',\n",
       " 'soadad5095',\n",
       " 'ssnyder',\n",
       " 'stephen30137852',\n",
       " 'stu3004',\n",
       " 'suhail4997',\n",
       " 'tamara2665',\n",
       " 'teamchina07',\n",
       " 'ted3130',\n",
       " 'tekandvictoria',\n",
       " 'teresa4444',\n",
       " 'theohordijk',\n",
       " 'thomas5363',\n",
       " 'tim2059',\n",
       " 'tim4327',\n",
       " 'trolltech4460',\n",
       " 'victor8874',\n",
       " 'victoria73614158',\n",
       " 'voors',\n",
       " 'wallace8979',\n",
       " 'wim4260',\n",
       " 'zm5282']"
      ]
     },
     "execution_count": 40,
     "metadata": {},
     "output_type": "execute_result"
    }
   ],
   "source": [
    "vect.get_feature_names()"
   ]
  },
  {
   "cell_type": "code",
   "execution_count": 42,
   "metadata": {},
   "outputs": [],
   "source": [
    "vocs = vect.vocabulary_"
   ]
  },
  {
   "cell_type": "code",
   "execution_count": 48,
   "metadata": {
    "collapsed": true
   },
   "outputs": [
    {
     "data": {
      "text/plain": [
       "{'aaron83574977': 0,\n",
       " 'alexlee': 1,\n",
       " 'ali9555': 2,\n",
       " 'aliasgharmoiz': 3,\n",
       " 'amy3935': 4,\n",
       " 'amy7364': 5,\n",
       " 'andrea5814': 6,\n",
       " 'anita2681': 7,\n",
       " 'areef7365': 8,\n",
       " 'arun1891': 9,\n",
       " 'barbara6180': 10,\n",
       " 'betty95301705': 11,\n",
       " 'bob1643': 12,\n",
       " 'bryan1553': 13,\n",
       " 'caroline7000': 14,\n",
       " 'cathied9162': 15,\n",
       " 'chris4594': 16,\n",
       " 'chrisandcathy4269': 17,\n",
       " 'chrispadfield': 18,\n",
       " 'christchurchanglican5547': 19,\n",
       " 'christian6619': 20,\n",
       " 'christina3424': 21,\n",
       " 'cierra8791': 22,\n",
       " 'cindy9335': 23,\n",
       " 'claire1286': 24,\n",
       " 'clarence8190': 25,\n",
       " 'clorton': 26,\n",
       " 'collene': 27,\n",
       " 'dana5182': 28,\n",
       " 'daniel5404': 29,\n",
       " 'daniel9568': 30,\n",
       " 'danny6470': 31,\n",
       " 'danritz': 32,\n",
       " 'david3844': 33,\n",
       " 'david59642749': 34,\n",
       " 'david80737421': 35,\n",
       " 'david9667': 36,\n",
       " 'diane9275': 37,\n",
       " 'dishforum1163': 38,\n",
       " 'doug7646': 39,\n",
       " 'dylan5948': 40,\n",
       " 'edtracymaxgrace7258': 41,\n",
       " 'elias4241': 42,\n",
       " 'emily50205446': 43,\n",
       " 'emma5238': 44,\n",
       " 'enriquelopez': 45,\n",
       " 'eric2633': 46,\n",
       " 'esther9248': 47,\n",
       " 'evelyne9710': 48,\n",
       " 'fiona2159': 49,\n",
       " 'freddie1373': 50,\n",
       " 'g7537': 51,\n",
       " 'gary8860': 52,\n",
       " 'george23907283': 53,\n",
       " 'gertjan9162': 54,\n",
       " 'gooddogg1': 55,\n",
       " 'guy9829': 56,\n",
       " 'harold5454': 57,\n",
       " 'henry8741': 58,\n",
       " 'howard8651': 59,\n",
       " 'ijliao': 60,\n",
       " 'jacqueline4222': 61,\n",
       " 'james9460': 62,\n",
       " 'jandorfer': 63,\n",
       " 'jason7589': 64,\n",
       " 'jean5726': 65,\n",
       " 'jeanene5460': 66,\n",
       " 'jeanetteingrid9958': 67,\n",
       " 'jeanmarie8125': 68,\n",
       " 'jeff3131': 69,\n",
       " 'jennifer7131': 70,\n",
       " 'jmcgimpsey': 71,\n",
       " 'john4403': 72,\n",
       " 'john51492369': 73,\n",
       " 'john7424': 74,\n",
       " 'jonathan3172': 75,\n",
       " 'jonelle4661': 76,\n",
       " 'josy6466': 77,\n",
       " 'justin1061': 78,\n",
       " 'justin1305': 79,\n",
       " 'jy1024': 80,\n",
       " 'jyunfan7173': 81,\n",
       " 'karen5774': 82,\n",
       " 'kathleen2383': 83,\n",
       " 'kathy6291': 84,\n",
       " 'katie76891688': 85,\n",
       " 'kbk': 86,\n",
       " 'keenan': 87,\n",
       " 'keith2250': 88,\n",
       " 'kelseykg89': 89,\n",
       " 'kira6087': 90,\n",
       " 'kurt': 91,\n",
       " 'laree2227': 92,\n",
       " 'larryandkitty3677': 93,\n",
       " 'lidia5529': 94,\n",
       " 'lizztheblizz': 95,\n",
       " 'mariomuc': 96,\n",
       " 'markdeac': 97,\n",
       " 'martina8330': 98,\n",
       " 'mary34205543': 99,\n",
       " 'mary4228': 100,\n",
       " 'maryc3974': 101,\n",
       " 'maryellen6459': 102,\n",
       " 'mayo4304': 103,\n",
       " 'megan38877344': 104,\n",
       " 'michael3548': 105,\n",
       " 'michael4155': 106,\n",
       " 'molly3537': 107,\n",
       " 'morgan7957': 108,\n",
       " 'nigel4691': 109,\n",
       " 'nitin5775': 110,\n",
       " 'parviz6433': 111,\n",
       " 'paul23765609': 112,\n",
       " 'paul7796': 113,\n",
       " 'peter4816': 114,\n",
       " 'peter7395': 115,\n",
       " 'petra6359': 116,\n",
       " 'pierre8909': 117,\n",
       " 'r3922': 118,\n",
       " 'rafael4704': 119,\n",
       " 'rebecca3038': 120,\n",
       " 'rebecca9615': 121,\n",
       " 'rebekah9624': 122,\n",
       " 'ricardopereira': 123,\n",
       " 'rich2817': 124,\n",
       " 'richard3905': 125,\n",
       " 'rick1889': 126,\n",
       " 'rob3147': 127,\n",
       " 'robert1955': 128,\n",
       " 'rolf5730': 129,\n",
       " 'rose7026': 130,\n",
       " 'ruth8689': 131,\n",
       " 'ryan4809': 132,\n",
       " 'samantha9767': 133,\n",
       " 'sander3009': 134,\n",
       " 'sandralarry': 135,\n",
       " 'sanna5526': 136,\n",
       " 'saskia10': 137,\n",
       " 'satoko8119': 138,\n",
       " 'shannon40082015': 139,\n",
       " 'shirley1905': 140,\n",
       " 'sidledes': 141,\n",
       " 'soadad5095': 142,\n",
       " 'ssnyder': 143,\n",
       " 'stephen30137852': 144,\n",
       " 'stu3004': 145,\n",
       " 'suhail4997': 146,\n",
       " 'tamara2665': 147,\n",
       " 'teamchina07': 148,\n",
       " 'ted3130': 149,\n",
       " 'tekandvictoria': 150,\n",
       " 'teresa4444': 151,\n",
       " 'theohordijk': 152,\n",
       " 'thomas5363': 153,\n",
       " 'tim2059': 154,\n",
       " 'tim4327': 155,\n",
       " 'trolltech4460': 156,\n",
       " 'victor8874': 157,\n",
       " 'victoria73614158': 158,\n",
       " 'voors': 159,\n",
       " 'wallace8979': 160,\n",
       " 'wim4260': 161,\n",
       " 'zm5282': 162}"
      ]
     },
     "execution_count": 48,
     "metadata": {},
     "output_type": "execute_result"
    }
   ],
   "source": [
    "vocs"
   ]
  },
  {
   "cell_type": "code",
   "execution_count": 16,
   "metadata": {},
   "outputs": [],
   "source": [
    "test[\"LENDERS_lst\"] = test[\"LENDERS\"].map(lambda x: x.split(','))"
   ]
  },
  {
   "cell_type": "code",
   "execution_count": 18,
   "metadata": {},
   "outputs": [
    {
     "data": {
      "text/html": [
       "<div>\n",
       "<style scoped>\n",
       "    .dataframe tbody tr th:only-of-type {\n",
       "        vertical-align: middle;\n",
       "    }\n",
       "\n",
       "    .dataframe tbody tr th {\n",
       "        vertical-align: top;\n",
       "    }\n",
       "\n",
       "    .dataframe thead th {\n",
       "        text-align: right;\n",
       "    }\n",
       "</style>\n",
       "<table border=\"1\" class=\"dataframe\">\n",
       "  <thead>\n",
       "    <tr style=\"text-align: right;\">\n",
       "      <th></th>\n",
       "      <th>LOAN_ID</th>\n",
       "      <th>LENDERS</th>\n",
       "      <th>LENDERS_lst</th>\n",
       "    </tr>\n",
       "  </thead>\n",
       "  <tbody>\n",
       "    <tr>\n",
       "      <th>333766</th>\n",
       "      <td>913663</td>\n",
       "      <td>bryan1553, kbk, rolf5730, gertjan9162, thomas5...</td>\n",
       "      <td>[bryan1553,  kbk,  rolf5730,  gertjan9162,  th...</td>\n",
       "    </tr>\n",
       "    <tr>\n",
       "      <th>575889</th>\n",
       "      <td>901155</td>\n",
       "      <td>jacqueline4222, trolltech4460, stephen30137852...</td>\n",
       "      <td>[jacqueline4222,  trolltech4460,  stephen30137...</td>\n",
       "    </tr>\n",
       "    <tr>\n",
       "      <th>166831</th>\n",
       "      <td>1121282</td>\n",
       "      <td>karen5774, rich2817, martina8330, ted3130, jus...</td>\n",
       "      <td>[karen5774,  rich2817,  martina8330,  ted3130,...</td>\n",
       "    </tr>\n",
       "    <tr>\n",
       "      <th>629627</th>\n",
       "      <td>849934</td>\n",
       "      <td>dishforum1163, shannon40082015, nigel4691, kat...</td>\n",
       "      <td>[dishforum1163,  shannon40082015,  nigel4691, ...</td>\n",
       "    </tr>\n",
       "    <tr>\n",
       "      <th>402234</th>\n",
       "      <td>446593</td>\n",
       "      <td>paul23765609, ricardopereira, markdeac, mary34...</td>\n",
       "      <td>[paul23765609,  ricardopereira,  markdeac,  ma...</td>\n",
       "    </tr>\n",
       "    <tr>\n",
       "      <th>1255565</th>\n",
       "      <td>629687</td>\n",
       "      <td>ali9555, dylan5948, larryandkitty3677, cierra8...</td>\n",
       "      <td>[ali9555,  dylan5948,  larryandkitty3677,  cie...</td>\n",
       "    </tr>\n",
       "    <tr>\n",
       "      <th>683168</th>\n",
       "      <td>42339</td>\n",
       "      <td>ssnyder, chrispadfield, jennifer7131, collene,...</td>\n",
       "      <td>[ssnyder,  chrispadfield,  jennifer7131,  coll...</td>\n",
       "    </tr>\n",
       "    <tr>\n",
       "      <th>1207236</th>\n",
       "      <td>1341837</td>\n",
       "      <td>tim4327, fiona2159, richard3905, sander3009, d...</td>\n",
       "      <td>[tim4327,  fiona2159,  richard3905,  sander300...</td>\n",
       "    </tr>\n",
       "    <tr>\n",
       "      <th>1124816</th>\n",
       "      <td>618557</td>\n",
       "      <td>josy6466, r3922, zm5282, laree2227, g7537, amy...</td>\n",
       "      <td>[josy6466,  r3922,  zm5282,  laree2227,  g7537...</td>\n",
       "    </tr>\n",
       "    <tr>\n",
       "      <th>1075189</th>\n",
       "      <td>72888</td>\n",
       "      <td>cindy9335, john7424, doug7646, satoko8119, jea...</td>\n",
       "      <td>[cindy9335,  john7424,  doug7646,  satoko8119,...</td>\n",
       "    </tr>\n",
       "  </tbody>\n",
       "</table>\n",
       "</div>"
      ],
      "text/plain": [
       "         LOAN_ID                                            LENDERS  \\\n",
       "333766    913663  bryan1553, kbk, rolf5730, gertjan9162, thomas5...   \n",
       "575889    901155  jacqueline4222, trolltech4460, stephen30137852...   \n",
       "166831   1121282  karen5774, rich2817, martina8330, ted3130, jus...   \n",
       "629627    849934  dishforum1163, shannon40082015, nigel4691, kat...   \n",
       "402234    446593  paul23765609, ricardopereira, markdeac, mary34...   \n",
       "1255565   629687  ali9555, dylan5948, larryandkitty3677, cierra8...   \n",
       "683168     42339  ssnyder, chrispadfield, jennifer7131, collene,...   \n",
       "1207236  1341837  tim4327, fiona2159, richard3905, sander3009, d...   \n",
       "1124816   618557  josy6466, r3922, zm5282, laree2227, g7537, amy...   \n",
       "1075189    72888  cindy9335, john7424, doug7646, satoko8119, jea...   \n",
       "\n",
       "                                               LENDERS_lst  \n",
       "333766   [bryan1553,  kbk,  rolf5730,  gertjan9162,  th...  \n",
       "575889   [jacqueline4222,  trolltech4460,  stephen30137...  \n",
       "166831   [karen5774,  rich2817,  martina8330,  ted3130,...  \n",
       "629627   [dishforum1163,  shannon40082015,  nigel4691, ...  \n",
       "402234   [paul23765609,  ricardopereira,  markdeac,  ma...  \n",
       "1255565  [ali9555,  dylan5948,  larryandkitty3677,  cie...  \n",
       "683168   [ssnyder,  chrispadfield,  jennifer7131,  coll...  \n",
       "1207236  [tim4327,  fiona2159,  richard3905,  sander300...  \n",
       "1124816  [josy6466,  r3922,  zm5282,  laree2227,  g7537...  \n",
       "1075189  [cindy9335,  john7424,  doug7646,  satoko8119,...  "
      ]
     },
     "execution_count": 18,
     "metadata": {},
     "output_type": "execute_result"
    }
   ],
   "source": [
    "test"
   ]
  },
  {
   "cell_type": "code",
   "execution_count": 21,
   "metadata": {},
   "outputs": [],
   "source": [
    "test = test.drop('LENDERS',axis=1)"
   ]
  },
  {
   "cell_type": "code",
   "execution_count": 23,
   "metadata": {},
   "outputs": [],
   "source": [
    "lst_col = 'LENDERS_lst'\n",
    "test_1 = pd.DataFrame({col:np.repeat(test[col].values, test[lst_col].str.len())for col in test.columns.difference([lst_col])}).assign(**{lst_col:np.concatenate(test[lst_col].values)})[test.columns.tolist()]"
   ]
  },
  {
   "cell_type": "code",
   "execution_count": 29,
   "metadata": {},
   "outputs": [],
   "source": [
    "test_1 = test_1.drop('value',axis=1)"
   ]
  },
  {
   "cell_type": "code",
   "execution_count": 56,
   "metadata": {},
   "outputs": [
    {
     "data": {
      "text/html": [
       "<div>\n",
       "<style scoped>\n",
       "    .dataframe tbody tr th:only-of-type {\n",
       "        vertical-align: middle;\n",
       "    }\n",
       "\n",
       "    .dataframe tbody tr th {\n",
       "        vertical-align: top;\n",
       "    }\n",
       "\n",
       "    .dataframe thead th {\n",
       "        text-align: right;\n",
       "    }\n",
       "</style>\n",
       "<table border=\"1\" class=\"dataframe\">\n",
       "  <thead>\n",
       "    <tr style=\"text-align: right;\">\n",
       "      <th></th>\n",
       "      <th>LOAN_ID</th>\n",
       "      <th>LENDERS_lst</th>\n",
       "    </tr>\n",
       "  </thead>\n",
       "  <tbody>\n",
       "    <tr>\n",
       "      <th>0</th>\n",
       "      <td>913663</td>\n",
       "      <td>bryan1553</td>\n",
       "    </tr>\n",
       "    <tr>\n",
       "      <th>1</th>\n",
       "      <td>913663</td>\n",
       "      <td>kbk</td>\n",
       "    </tr>\n",
       "    <tr>\n",
       "      <th>2</th>\n",
       "      <td>913663</td>\n",
       "      <td>rolf5730</td>\n",
       "    </tr>\n",
       "    <tr>\n",
       "      <th>3</th>\n",
       "      <td>913663</td>\n",
       "      <td>gertjan9162</td>\n",
       "    </tr>\n",
       "    <tr>\n",
       "      <th>4</th>\n",
       "      <td>913663</td>\n",
       "      <td>thomas5363</td>\n",
       "    </tr>\n",
       "  </tbody>\n",
       "</table>\n",
       "</div>"
      ],
      "text/plain": [
       "   LOAN_ID   LENDERS_lst\n",
       "0   913663     bryan1553\n",
       "1   913663           kbk\n",
       "2   913663      rolf5730\n",
       "3   913663   gertjan9162\n",
       "4   913663    thomas5363"
      ]
     },
     "execution_count": 56,
     "metadata": {},
     "output_type": "execute_result"
    }
   ],
   "source": [
    "test_1.head()"
   ]
  },
  {
   "cell_type": "code",
   "execution_count": 54,
   "metadata": {
    "collapsed": true
   },
   "outputs": [
    {
     "ename": "KeyError",
     "evalue": "' kbk'",
     "output_type": "error",
     "traceback": [
      "\u001b[0;31m---------------------------------------------------------------------------\u001b[0m",
      "\u001b[0;31mKeyError\u001b[0m                                  Traceback (most recent call last)",
      "\u001b[0;32m<ipython-input-54-b5e5a5e3ad82>\u001b[0m in \u001b[0;36m<module>\u001b[0;34m()\u001b[0m\n\u001b[0;32m----> 1\u001b[0;31m \u001b[0mtest_1\u001b[0m\u001b[0;34m[\u001b[0m\u001b[0;34m'LENDERS_lst'\u001b[0m\u001b[0;34m]\u001b[0m\u001b[0;34m.\u001b[0m\u001b[0mmap\u001b[0m\u001b[0;34m(\u001b[0m\u001b[0;32mlambda\u001b[0m \u001b[0mx\u001b[0m\u001b[0;34m:\u001b[0m \u001b[0mvocs\u001b[0m\u001b[0;34m[\u001b[0m\u001b[0mx\u001b[0m\u001b[0;34m]\u001b[0m\u001b[0;34m)\u001b[0m\u001b[0;34m\u001b[0m\u001b[0m\n\u001b[0m",
      "\u001b[0;32m/anaconda3/lib/python3.6/site-packages/pandas/core/series.py\u001b[0m in \u001b[0;36mmap\u001b[0;34m(self, arg, na_action)\u001b[0m\n\u001b[1;32m   2352\u001b[0m         \u001b[0;32melse\u001b[0m\u001b[0;34m:\u001b[0m\u001b[0;34m\u001b[0m\u001b[0m\n\u001b[1;32m   2353\u001b[0m             \u001b[0;31m# arg is a function\u001b[0m\u001b[0;34m\u001b[0m\u001b[0;34m\u001b[0m\u001b[0m\n\u001b[0;32m-> 2354\u001b[0;31m             \u001b[0mnew_values\u001b[0m \u001b[0;34m=\u001b[0m \u001b[0mmap_f\u001b[0m\u001b[0;34m(\u001b[0m\u001b[0mvalues\u001b[0m\u001b[0;34m,\u001b[0m \u001b[0marg\u001b[0m\u001b[0;34m)\u001b[0m\u001b[0;34m\u001b[0m\u001b[0m\n\u001b[0m\u001b[1;32m   2355\u001b[0m \u001b[0;34m\u001b[0m\u001b[0m\n\u001b[1;32m   2356\u001b[0m         return self._constructor(new_values,\n",
      "\u001b[0;32mpandas/_libs/src/inference.pyx\u001b[0m in \u001b[0;36mpandas._libs.lib.map_infer\u001b[0;34m()\u001b[0m\n",
      "\u001b[0;32m<ipython-input-54-b5e5a5e3ad82>\u001b[0m in \u001b[0;36m<lambda>\u001b[0;34m(x)\u001b[0m\n\u001b[0;32m----> 1\u001b[0;31m \u001b[0mtest_1\u001b[0m\u001b[0;34m[\u001b[0m\u001b[0;34m'LENDERS_lst'\u001b[0m\u001b[0;34m]\u001b[0m\u001b[0;34m.\u001b[0m\u001b[0mmap\u001b[0m\u001b[0;34m(\u001b[0m\u001b[0;32mlambda\u001b[0m \u001b[0mx\u001b[0m\u001b[0;34m:\u001b[0m \u001b[0mvocs\u001b[0m\u001b[0;34m[\u001b[0m\u001b[0mx\u001b[0m\u001b[0;34m]\u001b[0m\u001b[0;34m)\u001b[0m\u001b[0;34m\u001b[0m\u001b[0m\n\u001b[0m",
      "\u001b[0;31mKeyError\u001b[0m: ' kbk'"
     ]
    }
   ],
   "source": [
    "test_1['LENDERS_lst'].map(lambda x: vocs[x])"
   ]
  },
  {
   "cell_type": "code",
   "execution_count": 58,
   "metadata": {},
   "outputs": [],
   "source": [
    "df = pd.get_dummies(test_1.LENDERS_lst)"
   ]
  },
  {
   "cell_type": "code",
   "execution_count": 59,
   "metadata": {},
   "outputs": [],
   "source": [
    "df['LOAN_ID'] = test_1.LOAN_ID"
   ]
  },
  {
   "cell_type": "code",
   "execution_count": 69,
   "metadata": {},
   "outputs": [],
   "source": [
    "df2 = df.groupby('LOAN_ID').sum()"
   ]
  },
  {
   "cell_type": "code",
   "execution_count": 71,
   "metadata": {},
   "outputs": [
    {
     "data": {
      "text/html": [
       "<div>\n",
       "<style scoped>\n",
       "    .dataframe tbody tr th:only-of-type {\n",
       "        vertical-align: middle;\n",
       "    }\n",
       "\n",
       "    .dataframe tbody tr th {\n",
       "        vertical-align: top;\n",
       "    }\n",
       "\n",
       "    .dataframe thead th {\n",
       "        text-align: right;\n",
       "    }\n",
       "</style>\n",
       "<table border=\"1\" class=\"dataframe\">\n",
       "  <thead>\n",
       "    <tr style=\"text-align: right;\">\n",
       "      <th></th>\n",
       "      <th>JY1024</th>\n",
       "      <th>aaron83574977</th>\n",
       "      <th>alexlee</th>\n",
       "      <th>aliasgharmoiz</th>\n",
       "      <th>amy3935</th>\n",
       "      <th>amy7364</th>\n",
       "      <th>andrea5814</th>\n",
       "      <th>anita2681</th>\n",
       "      <th>areef7365</th>\n",
       "      <th>arun1891</th>\n",
       "      <th>...</th>\n",
       "      <th>ali9555</th>\n",
       "      <th>bryan1553</th>\n",
       "      <th>cindy9335</th>\n",
       "      <th>dishforum1163</th>\n",
       "      <th>jacqueline4222</th>\n",
       "      <th>josy6466</th>\n",
       "      <th>karen5774</th>\n",
       "      <th>paul23765609</th>\n",
       "      <th>ssnyder</th>\n",
       "      <th>tim4327</th>\n",
       "    </tr>\n",
       "    <tr>\n",
       "      <th>LOAN_ID</th>\n",
       "      <th></th>\n",
       "      <th></th>\n",
       "      <th></th>\n",
       "      <th></th>\n",
       "      <th></th>\n",
       "      <th></th>\n",
       "      <th></th>\n",
       "      <th></th>\n",
       "      <th></th>\n",
       "      <th></th>\n",
       "      <th></th>\n",
       "      <th></th>\n",
       "      <th></th>\n",
       "      <th></th>\n",
       "      <th></th>\n",
       "      <th></th>\n",
       "      <th></th>\n",
       "      <th></th>\n",
       "      <th></th>\n",
       "      <th></th>\n",
       "      <th></th>\n",
       "    </tr>\n",
       "  </thead>\n",
       "  <tbody>\n",
       "    <tr>\n",
       "      <th>42339</th>\n",
       "      <td>0</td>\n",
       "      <td>0</td>\n",
       "      <td>0</td>\n",
       "      <td>0</td>\n",
       "      <td>0</td>\n",
       "      <td>0</td>\n",
       "      <td>0</td>\n",
       "      <td>0</td>\n",
       "      <td>0</td>\n",
       "      <td>0</td>\n",
       "      <td>...</td>\n",
       "      <td>0</td>\n",
       "      <td>0</td>\n",
       "      <td>0</td>\n",
       "      <td>0</td>\n",
       "      <td>0</td>\n",
       "      <td>0</td>\n",
       "      <td>0</td>\n",
       "      <td>0</td>\n",
       "      <td>1</td>\n",
       "      <td>0</td>\n",
       "    </tr>\n",
       "    <tr>\n",
       "      <th>72888</th>\n",
       "      <td>0</td>\n",
       "      <td>0</td>\n",
       "      <td>0</td>\n",
       "      <td>0</td>\n",
       "      <td>0</td>\n",
       "      <td>0</td>\n",
       "      <td>0</td>\n",
       "      <td>0</td>\n",
       "      <td>0</td>\n",
       "      <td>0</td>\n",
       "      <td>...</td>\n",
       "      <td>0</td>\n",
       "      <td>0</td>\n",
       "      <td>1</td>\n",
       "      <td>0</td>\n",
       "      <td>0</td>\n",
       "      <td>0</td>\n",
       "      <td>0</td>\n",
       "      <td>0</td>\n",
       "      <td>0</td>\n",
       "      <td>0</td>\n",
       "    </tr>\n",
       "    <tr>\n",
       "      <th>446593</th>\n",
       "      <td>0</td>\n",
       "      <td>0</td>\n",
       "      <td>0</td>\n",
       "      <td>0</td>\n",
       "      <td>0</td>\n",
       "      <td>0</td>\n",
       "      <td>0</td>\n",
       "      <td>0</td>\n",
       "      <td>0</td>\n",
       "      <td>0</td>\n",
       "      <td>...</td>\n",
       "      <td>0</td>\n",
       "      <td>0</td>\n",
       "      <td>0</td>\n",
       "      <td>0</td>\n",
       "      <td>0</td>\n",
       "      <td>0</td>\n",
       "      <td>0</td>\n",
       "      <td>1</td>\n",
       "      <td>0</td>\n",
       "      <td>0</td>\n",
       "    </tr>\n",
       "    <tr>\n",
       "      <th>618557</th>\n",
       "      <td>0</td>\n",
       "      <td>0</td>\n",
       "      <td>0</td>\n",
       "      <td>0</td>\n",
       "      <td>1</td>\n",
       "      <td>0</td>\n",
       "      <td>0</td>\n",
       "      <td>0</td>\n",
       "      <td>0</td>\n",
       "      <td>0</td>\n",
       "      <td>...</td>\n",
       "      <td>0</td>\n",
       "      <td>0</td>\n",
       "      <td>0</td>\n",
       "      <td>0</td>\n",
       "      <td>0</td>\n",
       "      <td>1</td>\n",
       "      <td>0</td>\n",
       "      <td>0</td>\n",
       "      <td>0</td>\n",
       "      <td>0</td>\n",
       "    </tr>\n",
       "    <tr>\n",
       "      <th>629687</th>\n",
       "      <td>0</td>\n",
       "      <td>0</td>\n",
       "      <td>0</td>\n",
       "      <td>0</td>\n",
       "      <td>0</td>\n",
       "      <td>0</td>\n",
       "      <td>1</td>\n",
       "      <td>0</td>\n",
       "      <td>0</td>\n",
       "      <td>0</td>\n",
       "      <td>...</td>\n",
       "      <td>1</td>\n",
       "      <td>0</td>\n",
       "      <td>0</td>\n",
       "      <td>0</td>\n",
       "      <td>0</td>\n",
       "      <td>0</td>\n",
       "      <td>0</td>\n",
       "      <td>0</td>\n",
       "      <td>0</td>\n",
       "      <td>0</td>\n",
       "    </tr>\n",
       "  </tbody>\n",
       "</table>\n",
       "<p>5 rows × 163 columns</p>\n",
       "</div>"
      ],
      "text/plain": [
       "          JY1024   aaron83574977   alexlee   aliasgharmoiz   amy3935  \\\n",
       "LOAN_ID                                                                \n",
       "42339          0               0         0               0         0   \n",
       "72888          0               0         0               0         0   \n",
       "446593         0               0         0               0         0   \n",
       "618557         0               0         0               0         1   \n",
       "629687         0               0         0               0         0   \n",
       "\n",
       "          amy7364   andrea5814   anita2681   areef7365   arun1891   ...     \\\n",
       "LOAN_ID                                                             ...      \n",
       "42339           0            0           0           0          0   ...      \n",
       "72888           0            0           0           0          0   ...      \n",
       "446593          0            0           0           0          0   ...      \n",
       "618557          0            0           0           0          0   ...      \n",
       "629687          0            1           0           0          0   ...      \n",
       "\n",
       "         ali9555  bryan1553  cindy9335  dishforum1163  jacqueline4222  \\\n",
       "LOAN_ID                                                                 \n",
       "42339          0          0          0              0               0   \n",
       "72888          0          0          1              0               0   \n",
       "446593         0          0          0              0               0   \n",
       "618557         0          0          0              0               0   \n",
       "629687         1          0          0              0               0   \n",
       "\n",
       "         josy6466  karen5774  paul23765609  ssnyder  tim4327  \n",
       "LOAN_ID                                                       \n",
       "42339           0          0             0        1        0  \n",
       "72888           0          0             0        0        0  \n",
       "446593          0          0             1        0        0  \n",
       "618557          1          0             0        0        0  \n",
       "629687          0          0             0        0        0  \n",
       "\n",
       "[5 rows x 163 columns]"
      ]
     },
     "execution_count": 71,
     "metadata": {},
     "output_type": "execute_result"
    }
   ],
   "source": [
    "df2.head()"
   ]
  },
  {
   "cell_type": "code",
   "execution_count": 84,
   "metadata": {},
   "outputs": [
    {
     "data": {
      "text/plain": [
       "7"
      ]
     },
     "execution_count": 84,
     "metadata": {},
     "output_type": "execute_result"
    }
   ],
   "source": [
    "sum(df2.iloc[1,:])"
   ]
  },
  {
   "cell_type": "code",
   "execution_count": 85,
   "metadata": {},
   "outputs": [
    {
     "data": {
      "text/plain": [
       "[['cindy9335',\n",
       "  ' john7424',\n",
       "  ' doug7646',\n",
       "  ' satoko8119',\n",
       "  ' jeanene5460',\n",
       "  ' jonathan3172',\n",
       "  ' daniel5404']]"
      ]
     },
     "execution_count": 85,
     "metadata": {},
     "output_type": "execute_result"
    }
   ],
   "source": [
    "list(test[test['LOAN_ID'] == 72888].LENDERS_lst)"
   ]
  },
  {
   "cell_type": "code",
   "execution_count": null,
   "metadata": {},
   "outputs": [],
   "source": []
  },
  {
   "cell_type": "code",
   "execution_count": 30,
   "metadata": {},
   "outputs": [],
   "source": [
    "from scipy.sparse import csr_matrix"
   ]
  },
  {
   "cell_type": "code",
   "execution_count": null,
   "metadata": {},
   "outputs": [],
   "source": [
    "LOAN_ID = np.array([, 1, 1, 1, 1, 1])"
   ]
  },
  {
   "cell_type": "code",
   "execution_count": 35,
   "metadata": {},
   "outputs": [],
   "source": [
    "data = np.array([1, 1, 1, 1, 1, 1])"
   ]
  },
  {
   "cell_type": "code",
   "execution_count": 36,
   "metadata": {},
   "outputs": [
    {
     "ename": "ValueError",
     "evalue": "invalid literal for int() with base 10: 'bryan1553'",
     "output_type": "error",
     "traceback": [
      "\u001b[0;31m---------------------------------------------------------------------------\u001b[0m",
      "\u001b[0;31mValueError\u001b[0m                                Traceback (most recent call last)",
      "\u001b[0;32m<ipython-input-36-1f24e87b33c9>\u001b[0m in \u001b[0;36m<module>\u001b[0;34m()\u001b[0m\n\u001b[0;32m----> 1\u001b[0;31m \u001b[0mcsr_matrix\u001b[0m\u001b[0;34m(\u001b[0m\u001b[0;34m(\u001b[0m\u001b[0mdata\u001b[0m\u001b[0;34m,\u001b[0m \u001b[0;34m(\u001b[0m\u001b[0mtest_1\u001b[0m\u001b[0;34m.\u001b[0m\u001b[0mLOAN_ID\u001b[0m\u001b[0;34m[\u001b[0m\u001b[0;34m:\u001b[0m\u001b[0;36m6\u001b[0m\u001b[0;34m]\u001b[0m\u001b[0;34m,\u001b[0m\u001b[0mtest_1\u001b[0m\u001b[0;34m.\u001b[0m\u001b[0mLENDERS_lst\u001b[0m\u001b[0;34m[\u001b[0m\u001b[0;34m:\u001b[0m\u001b[0;36m6\u001b[0m\u001b[0;34m]\u001b[0m\u001b[0;34m)\u001b[0m\u001b[0;34m)\u001b[0m\u001b[0;34m,\u001b[0m \u001b[0mshape\u001b[0m\u001b[0;34m=\u001b[0m\u001b[0;34m(\u001b[0m\u001b[0;36m3\u001b[0m\u001b[0;34m,\u001b[0m \u001b[0;36m3\u001b[0m\u001b[0;34m)\u001b[0m\u001b[0;34m)\u001b[0m\u001b[0;34m.\u001b[0m\u001b[0mtoarray\u001b[0m\u001b[0;34m(\u001b[0m\u001b[0;34m)\u001b[0m\u001b[0;34m\u001b[0m\u001b[0m\n\u001b[0m",
      "\u001b[0;32m/anaconda3/lib/python3.6/site-packages/scipy/sparse/compressed.py\u001b[0m in \u001b[0;36m__init__\u001b[0;34m(self, arg1, shape, dtype, copy)\u001b[0m\n\u001b[1;32m     49\u001b[0m                     \u001b[0;31m# (data, ij) format\u001b[0m\u001b[0;34m\u001b[0m\u001b[0;34m\u001b[0m\u001b[0m\n\u001b[1;32m     50\u001b[0m                     \u001b[0;32mfrom\u001b[0m \u001b[0;34m.\u001b[0m\u001b[0mcoo\u001b[0m \u001b[0;32mimport\u001b[0m \u001b[0mcoo_matrix\u001b[0m\u001b[0;34m\u001b[0m\u001b[0m\n\u001b[0;32m---> 51\u001b[0;31m                     \u001b[0mother\u001b[0m \u001b[0;34m=\u001b[0m \u001b[0mself\u001b[0m\u001b[0;34m.\u001b[0m\u001b[0m__class__\u001b[0m\u001b[0;34m(\u001b[0m\u001b[0mcoo_matrix\u001b[0m\u001b[0;34m(\u001b[0m\u001b[0marg1\u001b[0m\u001b[0;34m,\u001b[0m \u001b[0mshape\u001b[0m\u001b[0;34m=\u001b[0m\u001b[0mshape\u001b[0m\u001b[0;34m)\u001b[0m\u001b[0;34m)\u001b[0m\u001b[0;34m\u001b[0m\u001b[0m\n\u001b[0m\u001b[1;32m     52\u001b[0m                     \u001b[0mself\u001b[0m\u001b[0;34m.\u001b[0m\u001b[0m_set_self\u001b[0m\u001b[0;34m(\u001b[0m\u001b[0mother\u001b[0m\u001b[0;34m)\u001b[0m\u001b[0;34m\u001b[0m\u001b[0m\n\u001b[1;32m     53\u001b[0m                 \u001b[0;32melif\u001b[0m \u001b[0mlen\u001b[0m\u001b[0;34m(\u001b[0m\u001b[0marg1\u001b[0m\u001b[0;34m)\u001b[0m \u001b[0;34m==\u001b[0m \u001b[0;36m3\u001b[0m\u001b[0;34m:\u001b[0m\u001b[0;34m\u001b[0m\u001b[0m\n",
      "\u001b[0;32m/anaconda3/lib/python3.6/site-packages/scipy/sparse/coo.py\u001b[0m in \u001b[0;36m__init__\u001b[0;34m(self, arg1, shape, dtype, copy)\u001b[0m\n\u001b[1;32m    155\u001b[0m                 \u001b[0midx_dtype\u001b[0m \u001b[0;34m=\u001b[0m \u001b[0mget_index_dtype\u001b[0m\u001b[0;34m(\u001b[0m\u001b[0mmaxval\u001b[0m\u001b[0;34m=\u001b[0m\u001b[0mmax\u001b[0m\u001b[0;34m(\u001b[0m\u001b[0mself\u001b[0m\u001b[0;34m.\u001b[0m\u001b[0mshape\u001b[0m\u001b[0;34m)\u001b[0m\u001b[0;34m)\u001b[0m\u001b[0;34m\u001b[0m\u001b[0m\n\u001b[1;32m    156\u001b[0m                 \u001b[0mself\u001b[0m\u001b[0;34m.\u001b[0m\u001b[0mrow\u001b[0m \u001b[0;34m=\u001b[0m \u001b[0mnp\u001b[0m\u001b[0;34m.\u001b[0m\u001b[0marray\u001b[0m\u001b[0;34m(\u001b[0m\u001b[0mrow\u001b[0m\u001b[0;34m,\u001b[0m \u001b[0mcopy\u001b[0m\u001b[0;34m=\u001b[0m\u001b[0mcopy\u001b[0m\u001b[0;34m,\u001b[0m \u001b[0mdtype\u001b[0m\u001b[0;34m=\u001b[0m\u001b[0midx_dtype\u001b[0m\u001b[0;34m)\u001b[0m\u001b[0;34m\u001b[0m\u001b[0m\n\u001b[0;32m--> 157\u001b[0;31m                 \u001b[0mself\u001b[0m\u001b[0;34m.\u001b[0m\u001b[0mcol\u001b[0m \u001b[0;34m=\u001b[0m \u001b[0mnp\u001b[0m\u001b[0;34m.\u001b[0m\u001b[0marray\u001b[0m\u001b[0;34m(\u001b[0m\u001b[0mcol\u001b[0m\u001b[0;34m,\u001b[0m \u001b[0mcopy\u001b[0m\u001b[0;34m=\u001b[0m\u001b[0mcopy\u001b[0m\u001b[0;34m,\u001b[0m \u001b[0mdtype\u001b[0m\u001b[0;34m=\u001b[0m\u001b[0midx_dtype\u001b[0m\u001b[0;34m)\u001b[0m\u001b[0;34m\u001b[0m\u001b[0m\n\u001b[0m\u001b[1;32m    158\u001b[0m                 \u001b[0mself\u001b[0m\u001b[0;34m.\u001b[0m\u001b[0mdata\u001b[0m \u001b[0;34m=\u001b[0m \u001b[0mnp\u001b[0m\u001b[0;34m.\u001b[0m\u001b[0marray\u001b[0m\u001b[0;34m(\u001b[0m\u001b[0mobj\u001b[0m\u001b[0;34m,\u001b[0m \u001b[0mcopy\u001b[0m\u001b[0;34m=\u001b[0m\u001b[0mcopy\u001b[0m\u001b[0;34m)\u001b[0m\u001b[0;34m\u001b[0m\u001b[0m\n\u001b[1;32m    159\u001b[0m                 \u001b[0mself\u001b[0m\u001b[0;34m.\u001b[0m\u001b[0mhas_canonical_format\u001b[0m \u001b[0;34m=\u001b[0m \u001b[0;32mFalse\u001b[0m\u001b[0;34m\u001b[0m\u001b[0m\n",
      "\u001b[0;31mValueError\u001b[0m: invalid literal for int() with base 10: 'bryan1553'"
     ]
    }
   ],
   "source": [
    "csr_matrix((data, (test_1.LOAN_ID[:6],test_1.LENDERS_lst[:6])), shape=(3, 3)).toarray()"
   ]
  },
  {
   "cell_type": "code",
   "execution_count": null,
   "metadata": {},
   "outputs": [],
   "source": []
  },
  {
   "cell_type": "code",
   "execution_count": 32,
   "metadata": {
    "collapsed": true
   },
   "outputs": [
    {
     "ename": "TypeError",
     "evalue": "no supported conversion for types: (dtype('O'),)",
     "output_type": "error",
     "traceback": [
      "\u001b[0;31m---------------------------------------------------------------------------\u001b[0m",
      "\u001b[0;31mTypeError\u001b[0m                                 Traceback (most recent call last)",
      "\u001b[0;32m<ipython-input-32-a5c447605aac>\u001b[0m in \u001b[0;36m<module>\u001b[0;34m()\u001b[0m\n\u001b[0;32m----> 1\u001b[0;31m \u001b[0mcsr_matrix\u001b[0m\u001b[0;34m(\u001b[0m\u001b[0mtest_1\u001b[0m\u001b[0;34m.\u001b[0m\u001b[0mT\u001b[0m\u001b[0;34m.\u001b[0m\u001b[0mvalues\u001b[0m\u001b[0;34m)\u001b[0m\u001b[0;34m\u001b[0m\u001b[0m\n\u001b[0m",
      "\u001b[0;32m/anaconda3/lib/python3.6/site-packages/scipy/sparse/compressed.py\u001b[0m in \u001b[0;36m__init__\u001b[0;34m(self, arg1, shape, dtype, copy)\u001b[0m\n\u001b[1;32m     77\u001b[0m                         self.format)\n\u001b[1;32m     78\u001b[0m             \u001b[0;32mfrom\u001b[0m \u001b[0;34m.\u001b[0m\u001b[0mcoo\u001b[0m \u001b[0;32mimport\u001b[0m \u001b[0mcoo_matrix\u001b[0m\u001b[0;34m\u001b[0m\u001b[0m\n\u001b[0;32m---> 79\u001b[0;31m             \u001b[0mself\u001b[0m\u001b[0;34m.\u001b[0m\u001b[0m_set_self\u001b[0m\u001b[0;34m(\u001b[0m\u001b[0mself\u001b[0m\u001b[0;34m.\u001b[0m\u001b[0m__class__\u001b[0m\u001b[0;34m(\u001b[0m\u001b[0mcoo_matrix\u001b[0m\u001b[0;34m(\u001b[0m\u001b[0marg1\u001b[0m\u001b[0;34m,\u001b[0m \u001b[0mdtype\u001b[0m\u001b[0;34m=\u001b[0m\u001b[0mdtype\u001b[0m\u001b[0;34m)\u001b[0m\u001b[0;34m)\u001b[0m\u001b[0;34m)\u001b[0m\u001b[0;34m\u001b[0m\u001b[0m\n\u001b[0m\u001b[1;32m     80\u001b[0m \u001b[0;34m\u001b[0m\u001b[0m\n\u001b[1;32m     81\u001b[0m         \u001b[0;31m# Read matrix dimensions given, if any\u001b[0m\u001b[0;34m\u001b[0m\u001b[0;34m\u001b[0m\u001b[0m\n",
      "\u001b[0;32m/anaconda3/lib/python3.6/site-packages/scipy/sparse/compressed.py\u001b[0m in \u001b[0;36m__init__\u001b[0;34m(self, arg1, shape, dtype, copy)\u001b[0m\n\u001b[1;32m     30\u001b[0m                 \u001b[0marg1\u001b[0m \u001b[0;34m=\u001b[0m \u001b[0marg1\u001b[0m\u001b[0;34m.\u001b[0m\u001b[0mcopy\u001b[0m\u001b[0;34m(\u001b[0m\u001b[0;34m)\u001b[0m\u001b[0;34m\u001b[0m\u001b[0m\n\u001b[1;32m     31\u001b[0m             \u001b[0;32melse\u001b[0m\u001b[0;34m:\u001b[0m\u001b[0;34m\u001b[0m\u001b[0m\n\u001b[0;32m---> 32\u001b[0;31m                 \u001b[0marg1\u001b[0m \u001b[0;34m=\u001b[0m \u001b[0marg1\u001b[0m\u001b[0;34m.\u001b[0m\u001b[0masformat\u001b[0m\u001b[0;34m(\u001b[0m\u001b[0mself\u001b[0m\u001b[0;34m.\u001b[0m\u001b[0mformat\u001b[0m\u001b[0;34m)\u001b[0m\u001b[0;34m\u001b[0m\u001b[0m\n\u001b[0m\u001b[1;32m     33\u001b[0m             \u001b[0mself\u001b[0m\u001b[0;34m.\u001b[0m\u001b[0m_set_self\u001b[0m\u001b[0;34m(\u001b[0m\u001b[0marg1\u001b[0m\u001b[0;34m)\u001b[0m\u001b[0;34m\u001b[0m\u001b[0m\n\u001b[1;32m     34\u001b[0m \u001b[0;34m\u001b[0m\u001b[0m\n",
      "\u001b[0;32m/anaconda3/lib/python3.6/site-packages/scipy/sparse/base.py\u001b[0m in \u001b[0;36masformat\u001b[0;34m(self, format)\u001b[0m\n\u001b[1;32m    285\u001b[0m             \u001b[0;32mreturn\u001b[0m \u001b[0mself\u001b[0m\u001b[0;34m\u001b[0m\u001b[0m\n\u001b[1;32m    286\u001b[0m         \u001b[0;32melse\u001b[0m\u001b[0;34m:\u001b[0m\u001b[0;34m\u001b[0m\u001b[0m\n\u001b[0;32m--> 287\u001b[0;31m             \u001b[0;32mreturn\u001b[0m \u001b[0mgetattr\u001b[0m\u001b[0;34m(\u001b[0m\u001b[0mself\u001b[0m\u001b[0;34m,\u001b[0m \u001b[0;34m'to'\u001b[0m \u001b[0;34m+\u001b[0m \u001b[0mformat\u001b[0m\u001b[0;34m)\u001b[0m\u001b[0;34m(\u001b[0m\u001b[0;34m)\u001b[0m\u001b[0;34m\u001b[0m\u001b[0m\n\u001b[0m\u001b[1;32m    288\u001b[0m \u001b[0;34m\u001b[0m\u001b[0m\n\u001b[1;32m    289\u001b[0m     \u001b[0;31m###################################################################\u001b[0m\u001b[0;34m\u001b[0m\u001b[0;34m\u001b[0m\u001b[0m\n",
      "\u001b[0;32m/anaconda3/lib/python3.6/site-packages/scipy/sparse/coo.py\u001b[0m in \u001b[0;36mtocsr\u001b[0;34m(self, copy)\u001b[0m\n\u001b[1;32m    340\u001b[0m             \u001b[0mindptr\u001b[0m \u001b[0;34m=\u001b[0m \u001b[0mnp\u001b[0m\u001b[0;34m.\u001b[0m\u001b[0mempty\u001b[0m\u001b[0;34m(\u001b[0m\u001b[0mM\u001b[0m \u001b[0;34m+\u001b[0m \u001b[0;36m1\u001b[0m\u001b[0;34m,\u001b[0m \u001b[0mdtype\u001b[0m\u001b[0;34m=\u001b[0m\u001b[0midx_dtype\u001b[0m\u001b[0;34m)\u001b[0m\u001b[0;34m\u001b[0m\u001b[0m\n\u001b[1;32m    341\u001b[0m             \u001b[0mindices\u001b[0m \u001b[0;34m=\u001b[0m \u001b[0mnp\u001b[0m\u001b[0;34m.\u001b[0m\u001b[0mempty_like\u001b[0m\u001b[0;34m(\u001b[0m\u001b[0mcol\u001b[0m\u001b[0;34m,\u001b[0m \u001b[0mdtype\u001b[0m\u001b[0;34m=\u001b[0m\u001b[0midx_dtype\u001b[0m\u001b[0;34m)\u001b[0m\u001b[0;34m\u001b[0m\u001b[0m\n\u001b[0;32m--> 342\u001b[0;31m             \u001b[0mdata\u001b[0m \u001b[0;34m=\u001b[0m \u001b[0mnp\u001b[0m\u001b[0;34m.\u001b[0m\u001b[0mempty_like\u001b[0m\u001b[0;34m(\u001b[0m\u001b[0mself\u001b[0m\u001b[0;34m.\u001b[0m\u001b[0mdata\u001b[0m\u001b[0;34m,\u001b[0m \u001b[0mdtype\u001b[0m\u001b[0;34m=\u001b[0m\u001b[0mupcast\u001b[0m\u001b[0;34m(\u001b[0m\u001b[0mself\u001b[0m\u001b[0;34m.\u001b[0m\u001b[0mdtype\u001b[0m\u001b[0;34m)\u001b[0m\u001b[0;34m)\u001b[0m\u001b[0;34m\u001b[0m\u001b[0m\n\u001b[0m\u001b[1;32m    343\u001b[0m \u001b[0;34m\u001b[0m\u001b[0m\n\u001b[1;32m    344\u001b[0m             coo_tocsr(M, N, self.nnz, row, col, self.data,\n",
      "\u001b[0;32m/anaconda3/lib/python3.6/site-packages/scipy/sparse/sputils.py\u001b[0m in \u001b[0;36mupcast\u001b[0;34m(*args)\u001b[0m\n\u001b[1;32m     49\u001b[0m             \u001b[0;32mreturn\u001b[0m \u001b[0mt\u001b[0m\u001b[0;34m\u001b[0m\u001b[0m\n\u001b[1;32m     50\u001b[0m \u001b[0;34m\u001b[0m\u001b[0m\n\u001b[0;32m---> 51\u001b[0;31m     \u001b[0;32mraise\u001b[0m \u001b[0mTypeError\u001b[0m\u001b[0;34m(\u001b[0m\u001b[0;34m'no supported conversion for types: %r'\u001b[0m \u001b[0;34m%\u001b[0m \u001b[0;34m(\u001b[0m\u001b[0margs\u001b[0m\u001b[0;34m,\u001b[0m\u001b[0;34m)\u001b[0m\u001b[0;34m)\u001b[0m\u001b[0;34m\u001b[0m\u001b[0m\n\u001b[0m\u001b[1;32m     52\u001b[0m \u001b[0;34m\u001b[0m\u001b[0m\n\u001b[1;32m     53\u001b[0m \u001b[0;34m\u001b[0m\u001b[0m\n",
      "\u001b[0;31mTypeError\u001b[0m: no supported conversion for types: (dtype('O'),)"
     ]
    }
   ],
   "source": [
    "csr_matrix(test_1.T.values)"
   ]
  },
  {
   "cell_type": "code",
   "execution_count": 27,
   "metadata": {},
   "outputs": [
    {
     "ename": "ValueError",
     "evalue": "Index contains duplicate entries, cannot reshape",
     "output_type": "error",
     "traceback": [
      "\u001b[0;31m---------------------------------------------------------------------------\u001b[0m",
      "\u001b[0;31mValueError\u001b[0m                                Traceback (most recent call last)",
      "\u001b[0;32m<ipython-input-27-3d0b42f6a082>\u001b[0m in \u001b[0;36m<module>\u001b[0;34m()\u001b[0m\n\u001b[0;32m----> 1\u001b[0;31m \u001b[0mtest_1\u001b[0m\u001b[0;34m.\u001b[0m\u001b[0mpivot\u001b[0m\u001b[0;34m(\u001b[0m\u001b[0mindex\u001b[0m\u001b[0;34m=\u001b[0m\u001b[0;34m'LOAN_ID'\u001b[0m\u001b[0;34m,\u001b[0m \u001b[0mcolumns\u001b[0m\u001b[0;34m=\u001b[0m\u001b[0;34m'LENDERS_lst'\u001b[0m\u001b[0;34m,\u001b[0m \u001b[0mvalues\u001b[0m\u001b[0;34m=\u001b[0m\u001b[0;34m'value'\u001b[0m\u001b[0;34m)\u001b[0m\u001b[0;34m\u001b[0m\u001b[0m\n\u001b[0m",
      "\u001b[0;32m/anaconda3/lib/python3.6/site-packages/pandas/core/frame.py\u001b[0m in \u001b[0;36mpivot\u001b[0;34m(self, index, columns, values)\u001b[0m\n\u001b[1;32m   4380\u001b[0m         \"\"\"\n\u001b[1;32m   4381\u001b[0m         \u001b[0;32mfrom\u001b[0m \u001b[0mpandas\u001b[0m\u001b[0;34m.\u001b[0m\u001b[0mcore\u001b[0m\u001b[0;34m.\u001b[0m\u001b[0mreshape\u001b[0m\u001b[0;34m.\u001b[0m\u001b[0mreshape\u001b[0m \u001b[0;32mimport\u001b[0m \u001b[0mpivot\u001b[0m\u001b[0;34m\u001b[0m\u001b[0m\n\u001b[0;32m-> 4382\u001b[0;31m         \u001b[0;32mreturn\u001b[0m \u001b[0mpivot\u001b[0m\u001b[0;34m(\u001b[0m\u001b[0mself\u001b[0m\u001b[0;34m,\u001b[0m \u001b[0mindex\u001b[0m\u001b[0;34m=\u001b[0m\u001b[0mindex\u001b[0m\u001b[0;34m,\u001b[0m \u001b[0mcolumns\u001b[0m\u001b[0;34m=\u001b[0m\u001b[0mcolumns\u001b[0m\u001b[0;34m,\u001b[0m \u001b[0mvalues\u001b[0m\u001b[0;34m=\u001b[0m\u001b[0mvalues\u001b[0m\u001b[0;34m)\u001b[0m\u001b[0;34m\u001b[0m\u001b[0m\n\u001b[0m\u001b[1;32m   4383\u001b[0m \u001b[0;34m\u001b[0m\u001b[0m\n\u001b[1;32m   4384\u001b[0m     _shared_docs['pivot_table'] = \"\"\"\n",
      "\u001b[0;32m/anaconda3/lib/python3.6/site-packages/pandas/core/reshape/reshape.py\u001b[0m in \u001b[0;36mpivot\u001b[0;34m(self, index, columns, values)\u001b[0m\n\u001b[1;32m    387\u001b[0m         indexed = Series(self[values].values,\n\u001b[1;32m    388\u001b[0m                          index=MultiIndex.from_arrays([index, self[columns]]))\n\u001b[0;32m--> 389\u001b[0;31m         \u001b[0;32mreturn\u001b[0m \u001b[0mindexed\u001b[0m\u001b[0;34m.\u001b[0m\u001b[0munstack\u001b[0m\u001b[0;34m(\u001b[0m\u001b[0mcolumns\u001b[0m\u001b[0;34m)\u001b[0m\u001b[0;34m\u001b[0m\u001b[0m\n\u001b[0m\u001b[1;32m    390\u001b[0m \u001b[0;34m\u001b[0m\u001b[0m\n\u001b[1;32m    391\u001b[0m \u001b[0;34m\u001b[0m\u001b[0m\n",
      "\u001b[0;32m/anaconda3/lib/python3.6/site-packages/pandas/core/series.py\u001b[0m in \u001b[0;36munstack\u001b[0;34m(self, level, fill_value)\u001b[0m\n\u001b[1;32m   2222\u001b[0m         \"\"\"\n\u001b[1;32m   2223\u001b[0m         \u001b[0;32mfrom\u001b[0m \u001b[0mpandas\u001b[0m\u001b[0;34m.\u001b[0m\u001b[0mcore\u001b[0m\u001b[0;34m.\u001b[0m\u001b[0mreshape\u001b[0m\u001b[0;34m.\u001b[0m\u001b[0mreshape\u001b[0m \u001b[0;32mimport\u001b[0m \u001b[0munstack\u001b[0m\u001b[0;34m\u001b[0m\u001b[0m\n\u001b[0;32m-> 2224\u001b[0;31m         \u001b[0;32mreturn\u001b[0m \u001b[0munstack\u001b[0m\u001b[0;34m(\u001b[0m\u001b[0mself\u001b[0m\u001b[0;34m,\u001b[0m \u001b[0mlevel\u001b[0m\u001b[0;34m,\u001b[0m \u001b[0mfill_value\u001b[0m\u001b[0;34m)\u001b[0m\u001b[0;34m\u001b[0m\u001b[0m\n\u001b[0m\u001b[1;32m   2225\u001b[0m \u001b[0;34m\u001b[0m\u001b[0m\n\u001b[1;32m   2226\u001b[0m     \u001b[0;31m# ----------------------------------------------------------------------\u001b[0m\u001b[0;34m\u001b[0m\u001b[0;34m\u001b[0m\u001b[0m\n",
      "\u001b[0;32m/anaconda3/lib/python3.6/site-packages/pandas/core/reshape/reshape.py\u001b[0m in \u001b[0;36munstack\u001b[0;34m(obj, level, fill_value)\u001b[0m\n\u001b[1;32m    472\u001b[0m     \u001b[0;32melse\u001b[0m\u001b[0;34m:\u001b[0m\u001b[0;34m\u001b[0m\u001b[0m\n\u001b[1;32m    473\u001b[0m         unstacker = _Unstacker(obj.values, obj.index, level=level,\n\u001b[0;32m--> 474\u001b[0;31m                                fill_value=fill_value)\n\u001b[0m\u001b[1;32m    475\u001b[0m         \u001b[0;32mreturn\u001b[0m \u001b[0munstacker\u001b[0m\u001b[0;34m.\u001b[0m\u001b[0mget_result\u001b[0m\u001b[0;34m(\u001b[0m\u001b[0;34m)\u001b[0m\u001b[0;34m\u001b[0m\u001b[0m\n\u001b[1;32m    476\u001b[0m \u001b[0;34m\u001b[0m\u001b[0m\n",
      "\u001b[0;32m/anaconda3/lib/python3.6/site-packages/pandas/core/reshape/reshape.py\u001b[0m in \u001b[0;36m__init__\u001b[0;34m(self, values, index, level, value_columns, fill_value)\u001b[0m\n\u001b[1;32m    114\u001b[0m \u001b[0;34m\u001b[0m\u001b[0m\n\u001b[1;32m    115\u001b[0m         \u001b[0mself\u001b[0m\u001b[0;34m.\u001b[0m\u001b[0m_make_sorted_values_labels\u001b[0m\u001b[0;34m(\u001b[0m\u001b[0;34m)\u001b[0m\u001b[0;34m\u001b[0m\u001b[0m\n\u001b[0;32m--> 116\u001b[0;31m         \u001b[0mself\u001b[0m\u001b[0;34m.\u001b[0m\u001b[0m_make_selectors\u001b[0m\u001b[0;34m(\u001b[0m\u001b[0;34m)\u001b[0m\u001b[0;34m\u001b[0m\u001b[0m\n\u001b[0m\u001b[1;32m    117\u001b[0m \u001b[0;34m\u001b[0m\u001b[0m\n\u001b[1;32m    118\u001b[0m     \u001b[0;32mdef\u001b[0m \u001b[0m_make_sorted_values_labels\u001b[0m\u001b[0;34m(\u001b[0m\u001b[0mself\u001b[0m\u001b[0;34m)\u001b[0m\u001b[0;34m:\u001b[0m\u001b[0;34m\u001b[0m\u001b[0m\n",
      "\u001b[0;32m/anaconda3/lib/python3.6/site-packages/pandas/core/reshape/reshape.py\u001b[0m in \u001b[0;36m_make_selectors\u001b[0;34m(self)\u001b[0m\n\u001b[1;32m    152\u001b[0m \u001b[0;34m\u001b[0m\u001b[0m\n\u001b[1;32m    153\u001b[0m         \u001b[0;32mif\u001b[0m \u001b[0mmask\u001b[0m\u001b[0;34m.\u001b[0m\u001b[0msum\u001b[0m\u001b[0;34m(\u001b[0m\u001b[0;34m)\u001b[0m \u001b[0;34m<\u001b[0m \u001b[0mlen\u001b[0m\u001b[0;34m(\u001b[0m\u001b[0mself\u001b[0m\u001b[0;34m.\u001b[0m\u001b[0mindex\u001b[0m\u001b[0;34m)\u001b[0m\u001b[0;34m:\u001b[0m\u001b[0;34m\u001b[0m\u001b[0m\n\u001b[0;32m--> 154\u001b[0;31m             raise ValueError('Index contains duplicate entries, '\n\u001b[0m\u001b[1;32m    155\u001b[0m                              'cannot reshape')\n\u001b[1;32m    156\u001b[0m \u001b[0;34m\u001b[0m\u001b[0m\n",
      "\u001b[0;31mValueError\u001b[0m: Index contains duplicate entries, cannot reshape"
     ]
    }
   ],
   "source": [
    "test_1.pivot(index='LOAN_ID', columns='LENDERS_lst', values='value')"
   ]
  },
  {
   "cell_type": "code",
   "execution_count": null,
   "metadata": {},
   "outputs": [],
   "source": []
  },
  {
   "cell_type": "code",
   "execution_count": null,
   "metadata": {},
   "outputs": [],
   "source": []
  },
  {
   "cell_type": "code",
   "execution_count": 4,
   "metadata": {},
   "outputs": [],
   "source": [
    "samples = loans_lenders.sample(n=100)"
   ]
  },
  {
   "cell_type": "code",
   "execution_count": 6,
   "metadata": {},
   "outputs": [],
   "source": [
    "samples[\"LENDERS\"] = samples[\"LENDERS\"].map(lambda x: x.split(','))"
   ]
  },
  {
   "cell_type": "code",
   "execution_count": 7,
   "metadata": {},
   "outputs": [],
   "source": [
    "x=list(samples.LENDERS)"
   ]
  },
  {
   "cell_type": "code",
   "execution_count": null,
   "metadata": {},
   "outputs": [],
   "source": [
    "y=np.array([np.array(xi) for xi in x])"
   ]
  },
  {
   "cell_type": "code",
   "execution_count": null,
   "metadata": {},
   "outputs": [],
   "source": [
    "y.flatten().shape"
   ]
  },
  {
   "cell_type": "code",
   "execution_count": null,
   "metadata": {},
   "outputs": [],
   "source": [
    "y[1]"
   ]
  },
  {
   "cell_type": "code",
   "execution_count": null,
   "metadata": {},
   "outputs": [],
   "source": []
  },
  {
   "cell_type": "code",
   "execution_count": null,
   "metadata": {},
   "outputs": [],
   "source": [
    "for idx,row in enumerate(samples[\"LENDERS\"]):\n",
    "    for user in row:\n",
    "        if user not in set(list(samples.columns)):\n",
    "            samples[user] = 0\n",
    "            samples[user][idx]=1"
   ]
  },
  {
   "cell_type": "code",
   "execution_count": null,
   "metadata": {},
   "outputs": [],
   "source": [
    "samples['new']=0"
   ]
  },
  {
   "cell_type": "code",
   "execution_count": null,
   "metadata": {},
   "outputs": [],
   "source": [
    "samples['new'][1]=1"
   ]
  },
  {
   "cell_type": "code",
   "execution_count": null,
   "metadata": {},
   "outputs": [],
   "source": [
    "samples.new.value_counts()"
   ]
  },
  {
   "cell_type": "code",
   "execution_count": null,
   "metadata": {},
   "outputs": [],
   "source": []
  },
  {
   "cell_type": "code",
   "execution_count": null,
   "metadata": {},
   "outputs": [],
   "source": [
    "df[['DESCRIPTION', 'DESCRIPTION_TRANSLATED','IMAGE_ID',\n",
    "              'VIDEO_ID', 'NUM_JOURNAL_ENTRIES', 'TAGS', 'NUM_BULK_ENTRIES']].head()"
   ]
  },
  {
   "cell_type": "code",
   "execution_count": null,
   "metadata": {},
   "outputs": [],
   "source": [
    "total = df.isnull().sum().sort_values(ascending = False)\n",
    "percent = (df.isnull().sum()/df.isnull().count()).sort_values(ascending = False)\n",
    "missing_data = pd.concat([total, percent], axis=1, keys=['Total Missings', 'Percent Missings'])\n",
    "missing_data"
   ]
  },
  {
   "cell_type": "code",
   "execution_count": null,
   "metadata": {},
   "outputs": [],
   "source": [
    "# Drop columns we don't need\n",
    "df = df.drop(['DESCRIPTION', 'DESCRIPTION_TRANSLATED','IMAGE_ID',\n",
    "              'VIDEO_ID', 'NUM_JOURNAL_ENTRIES', 'TAGS', 'NUM_BULK_ENTRIES',\n",
    "              ], axis=1)"
   ]
  },
  {
   "cell_type": "code",
   "execution_count": null,
   "metadata": {},
   "outputs": [],
   "source": [
    "df.columns"
   ]
  },
  {
   "cell_type": "code",
   "execution_count": null,
   "metadata": {},
   "outputs": [],
   "source": [
    "pd.options.display.max_rows = 999\n",
    "pd.options.display.max_columns = 999\n",
    "df.head()"
   ]
  },
  {
   "cell_type": "code",
   "execution_count": null,
   "metadata": {},
   "outputs": [],
   "source": [
    "df.STATUS.value_counts()"
   ]
  },
  {
   "cell_type": "code",
   "execution_count": null,
   "metadata": {},
   "outputs": [],
   "source": [
    "df['diff_posted_planned'] = df['PLANNED_EXPIRATION_TIME'].sub(df['POSTED_TIME'], axis=0)\n",
    "df['diff_posted_planned'] = df['diff_posted_planned'] / np.timedelta64(1, 'D')"
   ]
  },
  {
   "cell_type": "code",
   "execution_count": null,
   "metadata": {},
   "outputs": [],
   "source": [
    "df['diff_posted_raised'] = df['RAISED_TIME'].sub(df['POSTED_TIME'], axis=0)\n",
    "df['diff_posted_raised'] = df['diff_posted_raised'] / np.timedelta64(1, 'D')"
   ]
  },
  {
   "cell_type": "code",
   "execution_count": null,
   "metadata": {},
   "outputs": [],
   "source": [
    "df.head()"
   ]
  },
  {
   "cell_type": "code",
   "execution_count": null,
   "metadata": {},
   "outputs": [],
   "source": [
    "# Empirical expiration time is about 103 days for direct loans\n",
    "df[df['DISTRIBUTION_MODEL']=='direct']['diff_posted_planned'].mean()"
   ]
  },
  {
   "cell_type": "code",
   "execution_count": null,
   "metadata": {},
   "outputs": [],
   "source": [
    "# Empirical expiration time is about 37 days for field-partner loans\n",
    "df[df['DISTRIBUTION_MODEL']=='field_partner']['diff_posted_planned'].mean()"
   ]
  },
  {
   "cell_type": "code",
   "execution_count": null,
   "metadata": {},
   "outputs": [],
   "source": [
    "# Average time (in days) it takes to fund direct loan\n",
    "df[df['DISTRIBUTION_MODEL']=='direct']['diff_posted_raised'].mean()"
   ]
  },
  {
   "cell_type": "code",
   "execution_count": null,
   "metadata": {},
   "outputs": [],
   "source": [
    "# Average time (in days) it takes to fund field-partner loan\n",
    "df[df['DISTRIBUTION_MODEL']=='field_partner']['diff_posted_raised'].mean()"
   ]
  },
  {
   "cell_type": "code",
   "execution_count": null,
   "metadata": {},
   "outputs": [],
   "source": [
    "# Checking for missing data\n",
    "total = df.isnull().sum().sort_values(ascending = False)\n",
    "percent = (df.isnull().sum()/df.isnull().count()).sort_values(ascending = False)\n",
    "missing_data = pd.concat([total, percent], axis=1, keys=['Total Missings', 'Percent Missings'])\n",
    "missing_data"
   ]
  },
  {
   "cell_type": "code",
   "execution_count": null,
   "metadata": {},
   "outputs": [],
   "source": [
    "df['REPAYMENT_INTERVAL'].value_counts(1)"
   ]
  },
  {
   "cell_type": "code",
   "execution_count": null,
   "metadata": {},
   "outputs": [],
   "source": [
    "df['STATUS'].value_counts(1)"
   ]
  },
  {
   "cell_type": "code",
   "execution_count": null,
   "metadata": {},
   "outputs": [],
   "source": [
    "df['DISTRIBUTION_MODEL'].value_counts(1)"
   ]
  },
  {
   "cell_type": "code",
   "execution_count": null,
   "metadata": {},
   "outputs": [],
   "source": [
    "# Group vs Individual loans\n",
    "# mask_g = df['BORROWER_GENDERS']!= 'male' & df['BORROWER_GENDERS'] != 'female'\n",
    "df['GROUP'] = np.where(np.logical_and(df['BORROWER_GENDERS']!= 'male', df['BORROWER_GENDERS']!= 'female'), 1, 0)"
   ]
  },
  {
   "cell_type": "code",
   "execution_count": null,
   "metadata": {},
   "outputs": [],
   "source": [
    "df.head()"
   ]
  },
  {
   "cell_type": "markdown",
   "metadata": {},
   "source": [
    "## A closer look... Individual vs. Group loans"
   ]
  },
  {
   "cell_type": "code",
   "execution_count": null,
   "metadata": {},
   "outputs": [],
   "source": [
    "individual = df['GROUP']==0\n",
    "group = df['GROUP']==1"
   ]
  },
  {
   "cell_type": "code",
   "execution_count": null,
   "metadata": {},
   "outputs": [],
   "source": [
    "df['GROUP'].value_counts(1)"
   ]
  },
  {
   "cell_type": "code",
   "execution_count": null,
   "metadata": {},
   "outputs": [],
   "source": [
    "df[['FUNDED_AMOUNT', 'LOAN_AMOUNT', 'LENDER_TERM', 'NUM_LENDERS_TOTAL']][group].describe().T"
   ]
  },
  {
   "cell_type": "code",
   "execution_count": null,
   "metadata": {},
   "outputs": [],
   "source": [
    "df[['FUNDED_AMOUNT', 'LOAN_AMOUNT', 'LENDER_TERM', 'NUM_LENDERS_TOTAL']][individual].describe().T"
   ]
  },
  {
   "cell_type": "code",
   "execution_count": null,
   "metadata": {},
   "outputs": [],
   "source": [
    "# Distribution by group\n",
    "plt.figure(figsize=(20,8))\n",
    "sns.distplot(df[individual]['LOAN_AMOUNT'], hist=False, color='blue', label = 'Individual', kde_kws={'clip': (0, 8000)})\n",
    "sns.distplot(df[group]['LOAN_AMOUNT'], hist=False, color='purple', label = 'Group', kde_kws={'clip': (0, 8000)});\n",
    "plt.axvline(df[individual]['LOAN_AMOUNT'].mean(), color=\"blue\", linestyle=\"--\")\n",
    "plt.axvline(df[group]['LOAN_AMOUNT'].mean(), color=\"purple\", linestyle=\"--\")\n",
    "\n",
    "plt.legend();"
   ]
  },
  {
   "cell_type": "code",
   "execution_count": null,
   "metadata": {},
   "outputs": [],
   "source": [
    "# H0: mu_group - mu_individual = 0\n",
    "# Ha: mu_group - mu_induvidual != 0\n",
    "\n",
    "# alpha = 0.05\n",
    "\n",
    "# T test\n",
    "t, p = sts.ttest_ind(df[individual]['LOAN_AMOUNT'], df[group]['LOAN_AMOUNT'], equal_var=False)\n",
    "\n",
    "# p value\n",
    "print(\"p-value: {:2.2f}\".format(p))"
   ]
  },
  {
   "cell_type": "markdown",
   "metadata": {},
   "source": [
    "## Individual loans, by gender"
   ]
  },
  {
   "cell_type": "code",
   "execution_count": null,
   "metadata": {},
   "outputs": [],
   "source": [
    "# Individual loan splitup by gender\n",
    "male = df['BORROWER_GENDERS']=='male'\n",
    "female = df['']=='female'\n",
    "\n",
    "plt.figure(figsize=(20,8))\n",
    "sns.distplot(df[male]['LOAN_AMOUNT'], hist=False, color='blue', label = 'Men', kde_kws={'clip': (0, 4000)});\n",
    "sns.distplot(df[female]['LOAN_AMOUNT'], hist=False, color='purple', label = 'Women', kde_kws={'clip': (0, 4000)});\n",
    "plt.axvline(df[male]['LOAN_AMOUNT'].mean(), color=\"blue\", linestyle=\"--\")\n",
    "plt.axvline(df[female]['LOAN_AMOUNT'].mean(), color=\"purple\", linestyle=\"--\")\n",
    "plt.legend();"
   ]
  },
  {
   "cell_type": "code",
   "execution_count": null,
   "metadata": {},
   "outputs": [],
   "source": [
    "# H0: mu_male - mu_female = 0\n",
    "# Ha: mu_male - mu_female != 0\n",
    "\n",
    "# alpha = 0.05\n",
    "\n",
    "# T test\n",
    "t, p = sts.ttest_ind(df[male]['LOAN_AMOUNT'], df[female]['LOAN_AMOUNT'], equal_var=False)\n",
    "\n",
    "# p value\n",
    "print(\"p-value: {:2.2f}\".format(p))"
   ]
  },
  {
   "cell_type": "markdown",
   "metadata": {},
   "source": [
    "### Question: Is there gender inequality in access to microfinance?\n",
    "Possible approach to a response: Assuming the average loan amounts are a viable proxy for gender inequality in micro-finance, we can run t-tests to see if there are significant differences between men and women's average individual loan amount by country."
   ]
  },
  {
   "cell_type": "code",
   "execution_count": null,
   "metadata": {},
   "outputs": [],
   "source": [
    "# Step 1: State the null and alternative hypotheses\n",
    "# H0: mu_male - mu_female = 0\n",
    "# Ha: mu_male - mu_female != 0\n",
    "\n",
    "# Step 2: Significance level: \n",
    "alpha = 0.05\n",
    "\n",
    "# Steps 3 and 4: Compute t-tests and p-values\n",
    "d = {}\n",
    "for country in set(df['COUNTRY_NAME']):\n",
    "    t, p = sts.ttest_ind(df[male & (df['COUNTRY_NAME'] == country)]['LOAN_AMOUNT'], df[female & (df['COUNTRY_NAME'] == country)]['LOAN_AMOUNT'], equal_var=False)\n",
    "    d[country] = (p <= alpha)\n",
    "d\n",
    "\n",
    "# Step 5: Compare the p-value to alpha and decide.\n",
    "# True: reject H0 that there is no difference between men and women."
   ]
  },
  {
   "cell_type": "markdown",
   "metadata": {},
   "source": [
    "## More EDA to look for other interesting questions..."
   ]
  },
  {
   "cell_type": "code",
   "execution_count": null,
   "metadata": {},
   "outputs": [],
   "source": [
    "# Count Plot by Sector\n",
    "plt.figure(figsize=(15,4))\n",
    "sns.countplot(x='SECTOR_NAME', data=df, orient='h', order = df['SECTOR_NAME'].value_counts().index)\n",
    "plt.xticks(rotation='vertical')\n",
    "plt.ylabel('Number of loans')\n",
    "plt.xlabel('Sector Name')\n",
    "plt.title(\"Number of Loans By Sector\");"
   ]
  },
  {
   "cell_type": "code",
   "execution_count": null,
   "metadata": {},
   "outputs": [],
   "source": [
    "# Calculate correlations\n",
    "# df[['SECTOR_NAME', 'COUNTRY_NAME']]\n",
    "\n",
    "# Heatmap\n",
    "\n",
    "def count_rows(x):\n",
    "    return len(x)\n",
    "\n",
    "g = df.groupby(['SECTOR_NAME','COUNTRY_NAME']).apply(count_rows).unstack()\n",
    "plt.figure(figsize=(16,4))\n",
    "sns.heatmap(g, cmap='Blues', linewidth=0.5);"
   ]
  },
  {
   "cell_type": "code",
   "execution_count": null,
   "metadata": {},
   "outputs": [],
   "source": [
    "# By Activity\n",
    "df['ACTIVITY_NAME'].value_counts(1).head(10)"
   ]
  },
  {
   "cell_type": "markdown",
   "metadata": {},
   "source": [
    "## Model: Field Partners vs. Direct"
   ]
  },
  {
   "cell_type": "code",
   "execution_count": null,
   "metadata": {},
   "outputs": [],
   "source": [
    "# Field Partners\n",
    "plt.figure(figsize=(16,8))\n",
    "sns.boxplot(x='COUNTRY_NAME', y='LOAN_AMOUNT', data=df[df['DISTRIBUTION_MODEL']=='field_partner'])\n",
    "plt.xticks(rotation='vertical')\n",
    "plt.ylim(0,10000);"
   ]
  },
  {
   "cell_type": "code",
   "execution_count": null,
   "metadata": {},
   "outputs": [],
   "source": [
    "# Direct\n",
    "plt.figure(figsize=(8,4))\n",
    "sns.boxplot(x='COUNTRY_NAME', y='LOAN_AMOUNT', data=df[df['DISTRIBUTION_MODEL']=='direct'])\n",
    "plt.xticks(rotation='vertical');\n",
    "plt.ylim(0,10000);"
   ]
  },
  {
   "cell_type": "code",
   "execution_count": null,
   "metadata": {},
   "outputs": [],
   "source": [
    "g_country = df.groupby('COUNTRY_NAME')\n",
    "g_country['LOAN_AMOUNT'].sum().sort_values(ascending=False).head(10)"
   ]
  },
  {
   "cell_type": "code",
   "execution_count": null,
   "metadata": {},
   "outputs": [],
   "source": [
    "df.sort_values?"
   ]
  },
  {
   "cell_type": "code",
   "execution_count": null,
   "metadata": {},
   "outputs": [],
   "source": [
    "import seaborn as sns\n",
    "corr = df[['LOAN_AMOUNT', 'LENDER_TERM', 'NUM_LENDERS_TOTAL', 'GROUP']].corr()\n",
    "sns.heatmap(corr, \n",
    "            xticklabels=corr.columns.values,\n",
    "            yticklabels=corr.columns.values,\n",
    "           cmap='Blues')"
   ]
  },
  {
   "cell_type": "code",
   "execution_count": null,
   "metadata": {},
   "outputs": [],
   "source": [
    "corr"
   ]
  },
  {
   "cell_type": "code",
   "execution_count": null,
   "metadata": {},
   "outputs": [],
   "source": [
    "df[male].describe().T"
   ]
  },
  {
   "cell_type": "code",
   "execution_count": null,
   "metadata": {},
   "outputs": [],
   "source": [
    "df[female].describe().transpose()"
   ]
  },
  {
   "cell_type": "code",
   "execution_count": null,
   "metadata": {},
   "outputs": [],
   "source": [
    "g = sns.lmplot(x=\"LOAN_AMOUNT\", y=\"NUM_LENDERS_TOTAL\", hue = 'BORROWER_GENDERS',\n",
    "               truncate=True, size=8, data=df[individual])\n",
    "g.set_axis_labels(\"Loan Size\", \"Number of Lenders\");"
   ]
  },
  {
   "cell_type": "code",
   "execution_count": null,
   "metadata": {},
   "outputs": [],
   "source": [
    "g = sns.lmplot(x=\"LOAN_AMOUNT\", y=\"NUM_LENDERS_TOTAL\", hue='GROUP',\n",
    "               truncate=True, size=5, data=df)\n",
    "g.set_axis_labels(\"Loan Size\", \"Number of Lenders\");"
   ]
  },
  {
   "cell_type": "code",
   "execution_count": null,
   "metadata": {},
   "outputs": [],
   "source": [
    "df2 = pd.read_csv('data/loans_lenders.csv')"
   ]
  },
  {
   "cell_type": "code",
   "execution_count": null,
   "metadata": {},
   "outputs": [],
   "source": [
    "df2.head()"
   ]
  },
  {
   "cell_type": "code",
   "execution_count": null,
   "metadata": {},
   "outputs": [],
   "source": [
    "df.head(1)"
   ]
  },
  {
   "cell_type": "code",
   "execution_count": null,
   "metadata": {},
   "outputs": [],
   "source": [
    "df_join = df.join(df2, on='LOAN_ID', how='left', lsuffix='LoanID')"
   ]
  },
  {
   "cell_type": "code",
   "execution_count": null,
   "metadata": {},
   "outputs": [],
   "source": [
    "df_join.LENDERS.isnull().sum()"
   ]
  },
  {
   "cell_type": "code",
   "execution_count": null,
   "metadata": {},
   "outputs": [],
   "source": [
    "d3 = pd.read_csv('data/lenders.csv')"
   ]
  },
  {
   "cell_type": "code",
   "execution_count": null,
   "metadata": {},
   "outputs": [],
   "source": [
    "d3.head()"
   ]
  },
  {
   "cell_type": "markdown",
   "metadata": {},
   "source": [
    "Other questions?"
   ]
  },
  {
   "cell_type": "code",
   "execution_count": null,
   "metadata": {},
   "outputs": [],
   "source": [
    "d3.COUNTRY_CODE.value_counts(dropna=False)"
   ]
  },
  {
   "cell_type": "code",
   "execution_count": null,
   "metadata": {},
   "outputs": [],
   "source": []
  },
  {
   "cell_type": "code",
   "execution_count": null,
   "metadata": {},
   "outputs": [],
   "source": []
  },
  {
   "cell_type": "code",
   "execution_count": null,
   "metadata": {},
   "outputs": [],
   "source": []
  },
  {
   "cell_type": "code",
   "execution_count": null,
   "metadata": {},
   "outputs": [],
   "source": []
  },
  {
   "cell_type": "code",
   "execution_count": null,
   "metadata": {},
   "outputs": [],
   "source": []
  },
  {
   "cell_type": "markdown",
   "metadata": {},
   "source": [
    "# Story: What factors help the loans get fully funded faster?"
   ]
  },
  {
   "cell_type": "markdown",
   "metadata": {},
   "source": [
    "## Step1. Distribtuion of the difference of post date and raised date"
   ]
  },
  {
   "cell_type": "code",
   "execution_count": null,
   "metadata": {
    "scrolled": true
   },
   "outputs": [],
   "source": [
    "df.head()"
   ]
  },
  {
   "cell_type": "code",
   "execution_count": null,
   "metadata": {},
   "outputs": [],
   "source": [
    "df_clean = df.loc[df.notnull()[\"diff_posted_raised\"],:]\n",
    "df_clean = df_clean[df_clean.diff_posted_raised >= 0]"
   ]
  },
  {
   "cell_type": "code",
   "execution_count": null,
   "metadata": {
    "scrolled": true
   },
   "outputs": [],
   "source": [
    "df_error = df_clean[df_clean.diff_posted_raised < 0]"
   ]
  },
  {
   "cell_type": "code",
   "execution_count": null,
   "metadata": {},
   "outputs": [],
   "source": [
    "df_clean_direct = df_clean[df_clean.DISTRIBUTION_MODEL=='direct']\n",
    "df_clean_partner = df_clean[df_clean.DISTRIBUTION_MODEL=='field_partner']"
   ]
  },
  {
   "cell_type": "code",
   "execution_count": null,
   "metadata": {},
   "outputs": [],
   "source": [
    "df_clean_partner.shape"
   ]
  },
  {
   "cell_type": "code",
   "execution_count": null,
   "metadata": {},
   "outputs": [],
   "source": [
    "sns.distplot(df_clean_partner.diff_posted_raised)\n",
    "plt.xlim(0, 100)"
   ]
  },
  {
   "cell_type": "code",
   "execution_count": null,
   "metadata": {},
   "outputs": [],
   "source": [
    "df_clean_partner[\"diff_posted_planned\"].hist(bins=60)"
   ]
  },
  {
   "cell_type": "code",
   "execution_count": null,
   "metadata": {
    "scrolled": false
   },
   "outputs": [],
   "source": [
    "df_clean.diff_posted_raised.describe()"
   ]
  },
  {
   "cell_type": "markdown",
   "metadata": {},
   "source": [
    "**Median days to get posted loan fully raised are 7.8 days.\n",
    "Mean is 12.6 days.**"
   ]
  },
  {
   "cell_type": "code",
   "execution_count": null,
   "metadata": {},
   "outputs": [],
   "source": [
    "df_clean_partner[\"diff_posted_planned\"].describe()"
   ]
  },
  {
   "cell_type": "markdown",
   "metadata": {},
   "source": [
    "**Some (?) loans have a planned fund raising winder longer than 30 days. \n",
    "That explains why some loans take more than 30 days to get fully funded.**"
   ]
  },
  {
   "cell_type": "code",
   "execution_count": null,
   "metadata": {},
   "outputs": [],
   "source": [
    "df_clean_partner[df_clean_partner.diff_posted_raised > df_clean_partner.diff_posted_planned+2]"
   ]
  },
  {
   "cell_type": "code",
   "execution_count": null,
   "metadata": {},
   "outputs": [],
   "source": [
    "df_clean_partner.STATUS.value_counts()"
   ]
  },
  {
   "cell_type": "markdown",
   "metadata": {},
   "source": [
    "## Step.2 Factors affect the speed for a loan to get fully funded"
   ]
  },
  {
   "cell_type": "code",
   "execution_count": null,
   "metadata": {},
   "outputs": [],
   "source": [
    "plt.scatter(df_clean_partner['LOAN_AMOUNT'],df_clean_partner['diff_posted_raised'])\n",
    "plt.xlim(0,55000)"
   ]
  },
  {
   "cell_type": "code",
   "execution_count": null,
   "metadata": {},
   "outputs": [],
   "source": [
    "#sns.lmplot(x=\"LOAN_AMOUNT\", y=\"diff_posted_raised\",\n",
    "#               truncate=True, size=5, data=df_clean_partner)"
   ]
  },
  {
   "cell_type": "code",
   "execution_count": null,
   "metadata": {},
   "outputs": [],
   "source": [
    "(df_clean_partner[(df_clean_partner.LOAN_AMOUNT)>60000]['LOAN_AMOUNT']).hist()"
   ]
  },
  {
   "cell_type": "code",
   "execution_count": null,
   "metadata": {},
   "outputs": [],
   "source": [
    "(df_clean_partner[(df_clean_partner.LOAN_AMOUNT)>20000]['LOAN_AMOUNT']).hist()"
   ]
  },
  {
   "cell_type": "code",
   "execution_count": null,
   "metadata": {},
   "outputs": [],
   "source": [
    "(df_clean_partner[(df_clean_partner.LOAN_AMOUNT)<2000]['LOAN_AMOUNT']).hist()"
   ]
  },
  {
   "cell_type": "code",
   "execution_count": null,
   "metadata": {},
   "outputs": [],
   "source": [
    "df_BKT1 = df_clean_partner[df_clean_partner.LOAN_AMOUNT <= 2000]"
   ]
  },
  {
   "cell_type": "code",
   "execution_count": null,
   "metadata": {},
   "outputs": [],
   "source": [
    "df_BKT2 = df_clean_partner[(df_clean_partner.LOAN_AMOUNT > 2000) & (df_clean_partner.LOAN_AMOUNT <= 10000)]"
   ]
  },
  {
   "cell_type": "code",
   "execution_count": null,
   "metadata": {},
   "outputs": [],
   "source": [
    "df_BKT3 = df_clean_partner[(df_clean_partner.LOAN_AMOUNT > 10000) & (df_clean_partner.LOAN_AMOUNT <= 50000)]"
   ]
  },
  {
   "cell_type": "code",
   "execution_count": null,
   "metadata": {},
   "outputs": [],
   "source": [
    "df_BKT4 = df_clean_partner[(df_clean_partner.LOAN_AMOUNT > 50000) & (df_clean_partner.LOAN_AMOUNT <= 500000)]"
   ]
  },
  {
   "cell_type": "code",
   "execution_count": null,
   "metadata": {},
   "outputs": [],
   "source": [
    "df_BKT1['LOAN_AMOUNT'].hist()"
   ]
  },
  {
   "cell_type": "code",
   "execution_count": null,
   "metadata": {},
   "outputs": [],
   "source": [
    "df_BKT1['LOAN_AMOUNT'].describe()"
   ]
  },
  {
   "cell_type": "code",
   "execution_count": null,
   "metadata": {},
   "outputs": [],
   "source": [
    "df_BKT2['LOAN_AMOUNT'].hist()"
   ]
  },
  {
   "cell_type": "code",
   "execution_count": null,
   "metadata": {},
   "outputs": [],
   "source": [
    "df_BKT2['LOAN_AMOUNT'].describe()"
   ]
  },
  {
   "cell_type": "code",
   "execution_count": null,
   "metadata": {},
   "outputs": [],
   "source": [
    "plt.scatter(df_BKT1['LOAN_AMOUNT'],df_BKT1['diff_posted_raised'])\n",
    "# plt.xlim(0,55000)"
   ]
  },
  {
   "cell_type": "code",
   "execution_count": null,
   "metadata": {},
   "outputs": [],
   "source": [
    "#plt.scatter(df_BKT1[df_BKT1['diff_posted_raised']<40]['LOAN_AMOUNT'],df_BKT1[df_BKT1['diff_posted_raised']<40]['diff_posted_raised'])\n"
   ]
  },
  {
   "cell_type": "code",
   "execution_count": null,
   "metadata": {},
   "outputs": [],
   "source": [
    "# df_BKT2['LOAN_AMOUNT'].describe()"
   ]
  },
  {
   "cell_type": "code",
   "execution_count": null,
   "metadata": {},
   "outputs": [],
   "source": [
    "df_BKT1_30=df_BKT1[df_BKT1['diff_posted_planned']<40]"
   ]
  },
  {
   "cell_type": "code",
   "execution_count": null,
   "metadata": {},
   "outputs": [],
   "source": [
    "df_BKT1_30.shape"
   ]
  },
  {
   "cell_type": "code",
   "execution_count": null,
   "metadata": {},
   "outputs": [],
   "source": [
    "plt.scatter(df_BKT1_30['diff_posted_raised'],df_BKT1_30['NUM_LENDERS_TOTAL'])"
   ]
  },
  {
   "cell_type": "code",
   "execution_count": null,
   "metadata": {},
   "outputs": [],
   "source": [
    "df_BKT1_40=df_BKT1[df_BKT1['diff_posted_planned']>=40]"
   ]
  },
  {
   "cell_type": "code",
   "execution_count": null,
   "metadata": {},
   "outputs": [],
   "source": [
    "df_BKT1_40.shape"
   ]
  },
  {
   "cell_type": "code",
   "execution_count": null,
   "metadata": {},
   "outputs": [],
   "source": [
    "plt.scatter(df_BKT1_40['diff_posted_raised'],df_BKT1_40['NUM_LENDERS_TOTAL'])"
   ]
  },
  {
   "cell_type": "code",
   "execution_count": null,
   "metadata": {},
   "outputs": [],
   "source": []
  },
  {
   "cell_type": "code",
   "execution_count": null,
   "metadata": {},
   "outputs": [],
   "source": [
    "bins = list(range(0,2200,200))\n",
    "df_BKT1['binned'] = pd.cut(df_BKT1['LOAN_AMOUNT'],bins)"
   ]
  },
  {
   "cell_type": "code",
   "execution_count": null,
   "metadata": {},
   "outputs": [],
   "source": [
    "bins_post_plan = [30,35,40,60,80,106]\n",
    "df_BKT1['bins_post_plan'] = pd.cut(df_BKT1['diff_posted_planned'],bins_post_plan)"
   ]
  },
  {
   "cell_type": "code",
   "execution_count": null,
   "metadata": {},
   "outputs": [],
   "source": [
    "df_BKT1.head()"
   ]
  },
  {
   "cell_type": "code",
   "execution_count": null,
   "metadata": {},
   "outputs": [],
   "source": [
    "df_BKT1.groupby('binned').agg({'diff_posted_raised':\"mean\"})"
   ]
  },
  {
   "cell_type": "code",
   "execution_count": null,
   "metadata": {},
   "outputs": [],
   "source": [
    "df_b1_analysis = df_BKT1.groupby(['binned',\"bins_post_plan\"]).agg({'diff_posted_raised':\"mean\"}).unstack()\n",
    "df_b1_analysis"
   ]
  },
  {
   "cell_type": "code",
   "execution_count": null,
   "metadata": {},
   "outputs": [],
   "source": [
    "# corr = df[['LOAN_AMOUNT', 'LENDER_TERM', 'NUM_LENDERS_TOTAL', 'GROUP']].corr()\n",
    "sns.heatmap(df_b1_analysis, \n",
    "            xticklabels=df_b1_analysis.columns.values,\n",
    "            yticklabels=df_b1_analysis.index.values,\n",
    "           cmap='Blues')"
   ]
  },
  {
   "cell_type": "code",
   "execution_count": null,
   "metadata": {},
   "outputs": [],
   "source": [
    "df_BKT1.groupby(['SECTOR_NAME','binned','bins_post_plan']).agg({'diff_posted_raised':\"mean\"}).unstack()"
   ]
  },
  {
   "cell_type": "code",
   "execution_count": null,
   "metadata": {},
   "outputs": [],
   "source": [
    "plt.figure(figsize=(12,10))\n",
    "sns.heatmap(df_BKT1.groupby(['SECTOR_NAME','bins_post_plan']).agg({'diff_posted_raised':\"mean\"}).unstack())"
   ]
  },
  {
   "cell_type": "code",
   "execution_count": null,
   "metadata": {},
   "outputs": [],
   "source": [
    "plt.figure(figsize=(12,10))\n",
    "sns.heatmap(df_BKT1.groupby(['SECTOR_NAME','binned']).agg({'diff_posted_raised':\"mean\"}).unstack())\n"
   ]
  },
  {
   "cell_type": "code",
   "execution_count": null,
   "metadata": {},
   "outputs": [],
   "source": [
    "plt.figure(figsize=(12,10))\n",
    "sns.heatmap(df_BKT1.groupby(['NUM_LENDERS_TOTAL','binned']).agg({'diff_posted_raised':\"mean\"}).unstack())"
   ]
  },
  {
   "cell_type": "code",
   "execution_count": null,
   "metadata": {},
   "outputs": [],
   "source": [
    "plt.figure(figsize=(12,10))\n",
    "sns.heatmap(df_BKT1.groupby(['COUNTRY_NAME','binned']).agg({'diff_posted_raised':\"mean\"}).unstack())"
   ]
  },
  {
   "cell_type": "code",
   "execution_count": null,
   "metadata": {},
   "outputs": [],
   "source": [
    "plt.figure(figsize=(12,10))\n",
    "sns.heatmap(df_BKT1[df_BKT1['GROUP']!=True].groupby(['BORROWER_GENDERS','binned']).agg({'diff_posted_raised':\"mean\"}).unstack())"
   ]
  },
  {
   "cell_type": "code",
   "execution_count": null,
   "metadata": {},
   "outputs": [],
   "source": [
    "plt.figure(figsize=(12,10))\n",
    "sns.heatmap(df_BKT1.groupby(['ORIGINAL_LANGUAGE','binned']).agg({'diff_posted_raised':\"mean\"}).unstack())"
   ]
  },
  {
   "cell_type": "code",
   "execution_count": null,
   "metadata": {},
   "outputs": [],
   "source": [
    "plt.figure(figsize=(12,10))\n",
    "sns.heatmap(df_BKT1[df_BKT1['GROUP']!=True].groupby(['SECTOR_NAME','BORROWER_GENDERS']).agg({'diff_posted_raised':\"median\"}).unstack())"
   ]
  },
  {
   "cell_type": "code",
   "execution_count": null,
   "metadata": {},
   "outputs": [],
   "source": [
    "df_BKT1[df_BKT1['GROUP']!=True].groupby(['SECTOR_NAME','BORROWER_GENDERS']).agg({'diff_posted_raised':\"median\"}).unstack()"
   ]
  },
  {
   "cell_type": "code",
   "execution_count": null,
   "metadata": {},
   "outputs": [],
   "source": []
  },
  {
   "cell_type": "code",
   "execution_count": null,
   "metadata": {},
   "outputs": [],
   "source": [
    "# H0: mu_group - mu_individual = 0\n",
    "# Ha: mu_group - mu_induvidual != 0\n",
    "\n",
    "# alpha = 0.05\n",
    "\n",
    "# T test\n",
    "t, p = sts.ttest_ind(df_BKT1[df_BKT1['BORROWER_GENDERS']=='male']['diff_posted_raised'], df_BKT1[df_BKT1['BORROWER_GENDERS']=='female']['diff_posted_raised'], equal_var=False)\n",
    "\n",
    "# p value\n",
    "print(\"p-value: {:2.2f}\".format(p))"
   ]
  },
  {
   "cell_type": "code",
   "execution_count": null,
   "metadata": {},
   "outputs": [],
   "source": [
    "# H0: mu_group - mu_individual = 0\n",
    "# Ha: mu_group - mu_induvidual != 0\n",
    "\n",
    "# alpha = 0.05\n",
    "\n",
    "# T test\n",
    "t, p = sts.ttest_ind(df_BKT1[df_BKT1['SECTOR_NAME']=='Arts']['diff_posted_raised'], df_BKT1[df_BKT1['SECTOR_NAME']=='Clothing']['diff_posted_raised'], equal_var=False)\n",
    "\n",
    "# p value\n",
    "print(\"p-value: {:2.2f}\".format(p))"
   ]
  },
  {
   "cell_type": "code",
   "execution_count": null,
   "metadata": {},
   "outputs": [],
   "source": [
    " # H0: mu_group - mu_individual = 0\n",
    "# Ha: mu_group - mu_induvidual != 0\n",
    "\n",
    "# alpha = 0.05\n",
    "\n",
    "# T test\n",
    "t, p = sts.ttest_ind(df_BKT1[df_BKT1['GROUP']==1]['diff_posted_raised'], df_BKT1[df_BKT1['GROUP']==0]['diff_posted_raised'], equal_var=False)\n",
    "\n",
    "# p value\n",
    "print(\"p-value: {:2.2f}\".format(p))"
   ]
  },
  {
   "cell_type": "code",
   "execution_count": null,
   "metadata": {
    "scrolled": true
   },
   "outputs": [],
   "source": [
    "df_BKT1.corr()"
   ]
  },
  {
   "cell_type": "code",
   "execution_count": null,
   "metadata": {},
   "outputs": [],
   "source": [
    "plt.figure(figsize=(12,10))\n",
    "sns.heatmap(df_BKT1.corr())"
   ]
  },
  {
   "cell_type": "markdown",
   "metadata": {},
   "source": [
    "## Other people's work\n",
    "\n",
    "\n",
    "### similiar findings\n",
    "- exclude direct, big companies \n",
    "\n",
    "\n",
    "### Scott's to calculte optimal bins for histgram\n",
    "\n",
    "\n",
    "\n",
    "\n",
    "### t-test & p-value for gender / sector / group | individual \n",
    "\n",
    "\n",
    "- more men published video than women (proportion t-test)\n",
    "\n",
    "- half of the countries \n",
    "\n",
    "\n",
    "\n"
   ]
  },
  {
   "cell_type": "markdown",
   "metadata": {},
   "source": [
    "\n",
    "\n",
    "we should filter by 'funded'\n",
    "\n",
    "## see the trend day by day "
   ]
  }
 ],
 "metadata": {
  "kernelspec": {
   "display_name": "Python 3",
   "language": "python",
   "name": "python3"
  },
  "language_info": {
   "codemirror_mode": {
    "name": "ipython",
    "version": 3
   },
   "file_extension": ".py",
   "mimetype": "text/x-python",
   "name": "python",
   "nbconvert_exporter": "python",
   "pygments_lexer": "ipython3",
   "version": "3.6.4"
  }
 },
 "nbformat": 4,
 "nbformat_minor": 2
}
