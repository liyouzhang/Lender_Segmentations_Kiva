{
 "cells": [
  {
   "cell_type": "markdown",
   "metadata": {},
   "source": [
    "# Kiva Loan Data EDA and Analysis"
   ]
  },
  {
   "cell_type": "markdown",
   "metadata": {},
   "source": [
    "### About Kiva\n",
    "Kiva is an international nonprofit founded in 2005 with a mission to connect people through lending to alleviate poverty. In June 2018 Kiva was in 85 countries, and had served 2.9 Million borrowers through $ 1.16 Billion worth of loans.\n",
    "\n",
    "### How it works\n",
    "1. A borrower applies for a loan (micro-finance partner, or Kiva directly).\n",
    "2. The loan goes through the underwriting and approval process.\n",
    "3. The loan is posted to Kiva for lenders to support, and a 30-day fundraising period begins.\n",
    "4. Borrowers repay the loans.\n",
    "* Note that Kiva does not collect interest on loans, and Kiva lenders do not receive interest from loans they support on Kiva. However, Field Partners collect interest from borrowers to cover their operation costs.\n",
    "\n",
    "### About Kiva's Data\n",
    "This analysis uses Kiva's Data Snapshot (https://build.kiva.org/docs/data/snapshots) downloaded on June 15th, 2018.\n"
   ]
  },
  {
   "cell_type": "markdown",
   "metadata": {},
   "source": [
    "## Libraries and Data"
   ]
  },
  {
   "cell_type": "code",
   "execution_count": 3,
   "metadata": {},
   "outputs": [],
   "source": [
    "import numpy as np\n",
    "import pandas as pd\n",
    "import matplotlib.pyplot as plt\n",
    "import seaborn as sns\n",
    "import scipy.stats as sts\n",
    "%matplotlib inline"
   ]
  },
  {
   "cell_type": "code",
   "execution_count": 2,
   "metadata": {},
   "outputs": [
    {
     "name": "stdout",
     "output_type": "stream",
     "text": [
      "\u001b[31mlenders.csv\u001b[m\u001b[m       \u001b[31mloans.csv\u001b[m\u001b[m         \u001b[31mloans_lenders.csv\u001b[m\u001b[m\r\n"
     ]
    }
   ],
   "source": [
    "!ls kiva_ds_csv"
   ]
  },
  {
   "cell_type": "code",
   "execution_count": 3,
   "metadata": {},
   "outputs": [],
   "source": [
    "lenders = pd.read_csv('kiva_ds_csv/lenders.csv')"
   ]
  },
  {
   "cell_type": "code",
   "execution_count": 4,
   "metadata": {},
   "outputs": [],
   "source": [
    "loans = pd.read_csv('kiva_ds_csv/loans.csv', parse_dates=['POSTED_TIME', 'PLANNED_EXPIRATION_TIME', 'DISBURSE_TIME',\n",
    "       'RAISED_TIME'])"
   ]
  },
  {
   "cell_type": "code",
   "execution_count": 5,
   "metadata": {},
   "outputs": [],
   "source": [
    "loans_lenders = pd.read_csv('kiva_ds_csv/loans_lenders.csv')"
   ]
  },
  {
   "cell_type": "code",
   "execution_count": 5,
   "metadata": {
    "collapsed": true
   },
   "outputs": [
    {
     "data": {
      "text/plain": [
       "PERMANENT_NAME             0\n",
       "DISPLAY_NAME            2768\n",
       "MAIN_PIC_ID          1590116\n",
       "CITY                 1619306\n",
       "STATE                1713481\n",
       "COUNTRY_CODE         1458635\n",
       "MEMBER_SINCE               0\n",
       "PERSONAL_URL         2189805\n",
       "OCCUPATION           1844514\n",
       "LOAN_BECAUSE         2174852\n",
       "OTHER_INFO           2154640\n",
       "LOAN_PURCHASE_NUM     894281\n",
       "INVITED_BY           1852349\n",
       "NUM_INVITED                0\n",
       "dtype: int64"
      ]
     },
     "execution_count": 5,
     "metadata": {},
     "output_type": "execute_result"
    }
   ],
   "source": [
    "lenders.isnull().sum()"
   ]
  },
  {
   "cell_type": "code",
   "execution_count": 6,
   "metadata": {},
   "outputs": [
    {
     "data": {
      "text/plain": [
       "(2349174, 14)"
      ]
     },
     "execution_count": 6,
     "metadata": {},
     "output_type": "execute_result"
    }
   ],
   "source": [
    "lenders.shape"
   ]
  },
  {
   "cell_type": "code",
   "execution_count": 7,
   "metadata": {},
   "outputs": [
    {
     "data": {
      "text/plain": [
       "(1419607, 34)"
      ]
     },
     "execution_count": 7,
     "metadata": {},
     "output_type": "execute_result"
    }
   ],
   "source": [
    "loans.shape"
   ]
  },
  {
   "cell_type": "code",
   "execution_count": 10,
   "metadata": {
    "scrolled": true
   },
   "outputs": [
    {
     "data": {
      "text/plain": [
       "(1387432, 2)"
      ]
     },
     "execution_count": 10,
     "metadata": {},
     "output_type": "execute_result"
    }
   ],
   "source": [
    "loans_lenders.shape"
   ]
  },
  {
   "cell_type": "markdown",
   "metadata": {},
   "source": [
    "## Process data & Train-Test split"
   ]
  },
  {
   "cell_type": "code",
   "execution_count": 1,
   "metadata": {},
   "outputs": [
    {
     "name": "stdout",
     "output_type": "stream",
     "text": [
      "Kiva_EDA.ipynb                       \u001b[1m\u001b[36mkiva_ds_csv\u001b[m\u001b[m/\r\n",
      "Kiva_Matrix.ipynb                    kiva_spark_aws.ipynb\r\n",
      "LenderPersonas2015Posters_FINAL.pdf  main.py\r\n",
      "LightFM.ipynb                        \u001b[1m\u001b[36mprivate\u001b[m\u001b[m/\r\n",
      "Pandas_ALS_CSR.ipynb                 \u001b[1m\u001b[36mprocessed_data\u001b[m\u001b[m/\r\n",
      "README.md                            \u001b[1m\u001b[36mscripts\u001b[m\u001b[m/\r\n",
      "\u001b[1m\u001b[36mReferences\u001b[m\u001b[m/                          \u001b[1m\u001b[36mspark-warehouse\u001b[m\u001b[m/\r\n",
      "Spark_local_ALS_samples.ipynb        vocs.json\r\n"
     ]
    }
   ],
   "source": [
    "ls"
   ]
  },
  {
   "cell_type": "code",
   "execution_count": 6,
   "metadata": {},
   "outputs": [],
   "source": [
    "llt = pd.read_csv(\"processed_data/llt.csv\")"
   ]
  },
  {
   "cell_type": "code",
   "execution_count": 9,
   "metadata": {},
   "outputs": [
    {
     "data": {
      "text/plain": [
       "(1387432, 3)"
      ]
     },
     "execution_count": 9,
     "metadata": {},
     "output_type": "execute_result"
    }
   ],
   "source": [
    "llt.shape"
   ]
  },
  {
   "cell_type": "code",
   "execution_count": 13,
   "metadata": {},
   "outputs": [],
   "source": [
    "interactions_train = llt.iloc[:round(llt.shape[0]*0.8),:]"
   ]
  },
  {
   "cell_type": "code",
   "execution_count": 14,
   "metadata": {},
   "outputs": [],
   "source": [
    "interactions_test = llt.iloc[(llt.shape[0] - round(llt.shape[0]*0.8))*-1:,:]"
   ]
  },
  {
   "cell_type": "code",
   "execution_count": 15,
   "metadata": {},
   "outputs": [
    {
     "data": {
      "text/plain": [
       "(277486, 3)"
      ]
     },
     "execution_count": 15,
     "metadata": {},
     "output_type": "execute_result"
    }
   ],
   "source": [
    "interactions_test.shape"
   ]
  },
  {
   "cell_type": "code",
   "execution_count": 16,
   "metadata": {},
   "outputs": [
    {
     "data": {
      "text/plain": [
       "(1109946, 3)"
      ]
     },
     "execution_count": 16,
     "metadata": {},
     "output_type": "execute_result"
    }
   ],
   "source": [
    "interactions_train.shape"
   ]
  },
  {
   "cell_type": "markdown",
   "metadata": {},
   "source": [
    "## Lenders EDA"
   ]
  },
  {
   "cell_type": "code",
   "execution_count": 8,
   "metadata": {},
   "outputs": [],
   "source": [
    "lenders = pd.read_csv('kiva_ds_csv/lenders.csv')"
   ]
  },
  {
   "cell_type": "code",
   "execution_count": null,
   "metadata": {},
   "outputs": [],
   "source": []
  },
  {
   "cell_type": "code",
   "execution_count": 113,
   "metadata": {},
   "outputs": [],
   "source": [
    "def find_percent(df,cols):\n",
    "    mp = []\n",
    "    for col in cols:\n",
    "        percent = (df[col].isnull().sum()/df[col].isnull().count()*100).round(2)\n",
    "        mp.append(percent)\n",
    "    return mp\n",
    "\n",
    "#plot each column histgram\n",
    "def plot_columns(df, col_list,ncols,nrows,figsize):\n",
    "    fig,axes = plt.subplots(ncols=ncols,nrows=nrows,figsize=figsize);\n",
    "    axs = axes.ravel()\n",
    "    for c,a,p in zip(col_list,axs,find_percent(df,col_list)):\n",
    "        df[c].hist(ax=a);\n",
    "        a.set_title(\"{} distribution ({}% missing values)\".format(c,p),fontsize=10)\n",
    "\n"
   ]
  },
  {
   "cell_type": "code",
   "execution_count": 110,
   "metadata": {
    "collapsed": true
   },
   "outputs": [
    {
     "data": {
      "text/html": [
       "<div>\n",
       "<style scoped>\n",
       "    .dataframe tbody tr th:only-of-type {\n",
       "        vertical-align: middle;\n",
       "    }\n",
       "\n",
       "    .dataframe tbody tr th {\n",
       "        vertical-align: top;\n",
       "    }\n",
       "\n",
       "    .dataframe thead th {\n",
       "        text-align: right;\n",
       "    }\n",
       "</style>\n",
       "<table border=\"1\" class=\"dataframe\">\n",
       "  <thead>\n",
       "    <tr style=\"text-align: right;\">\n",
       "      <th></th>\n",
       "      <th>PERMANENT_NAME</th>\n",
       "      <th>DISPLAY_NAME</th>\n",
       "      <th>MAIN_PIC_ID</th>\n",
       "      <th>CITY</th>\n",
       "      <th>STATE</th>\n",
       "      <th>COUNTRY_CODE</th>\n",
       "      <th>MEMBER_SINCE</th>\n",
       "      <th>PERSONAL_URL</th>\n",
       "      <th>OCCUPATION</th>\n",
       "      <th>LOAN_BECAUSE</th>\n",
       "      <th>OTHER_INFO</th>\n",
       "      <th>LOAN_PURCHASE_NUM</th>\n",
       "      <th>INVITED_BY</th>\n",
       "      <th>NUM_INVITED</th>\n",
       "    </tr>\n",
       "  </thead>\n",
       "  <tbody>\n",
       "    <tr>\n",
       "      <th>0</th>\n",
       "      <td>qian3013</td>\n",
       "      <td>Qian</td>\n",
       "      <td>NaN</td>\n",
       "      <td>NaN</td>\n",
       "      <td>NaN</td>\n",
       "      <td>NaN</td>\n",
       "      <td>1461300457</td>\n",
       "      <td>NaN</td>\n",
       "      <td>NaN</td>\n",
       "      <td>NaN</td>\n",
       "      <td>NaN</td>\n",
       "      <td>1.0</td>\n",
       "      <td>NaN</td>\n",
       "      <td>0</td>\n",
       "    </tr>\n",
       "    <tr>\n",
       "      <th>1</th>\n",
       "      <td>reena6733</td>\n",
       "      <td>Reena</td>\n",
       "      <td>NaN</td>\n",
       "      <td>NaN</td>\n",
       "      <td>NaN</td>\n",
       "      <td>NaN</td>\n",
       "      <td>1461300634</td>\n",
       "      <td>NaN</td>\n",
       "      <td>NaN</td>\n",
       "      <td>NaN</td>\n",
       "      <td>NaN</td>\n",
       "      <td>9.0</td>\n",
       "      <td>NaN</td>\n",
       "      <td>0</td>\n",
       "    </tr>\n",
       "    <tr>\n",
       "      <th>2</th>\n",
       "      <td>mai5982</td>\n",
       "      <td>Mai</td>\n",
       "      <td>NaN</td>\n",
       "      <td>NaN</td>\n",
       "      <td>NaN</td>\n",
       "      <td>NaN</td>\n",
       "      <td>1461300853</td>\n",
       "      <td>NaN</td>\n",
       "      <td>NaN</td>\n",
       "      <td>NaN</td>\n",
       "      <td>NaN</td>\n",
       "      <td>NaN</td>\n",
       "      <td>NaN</td>\n",
       "      <td>0</td>\n",
       "    </tr>\n",
       "    <tr>\n",
       "      <th>3</th>\n",
       "      <td>andrew86079135</td>\n",
       "      <td>Andrew</td>\n",
       "      <td>NaN</td>\n",
       "      <td>NaN</td>\n",
       "      <td>NaN</td>\n",
       "      <td>NaN</td>\n",
       "      <td>1461301091</td>\n",
       "      <td>NaN</td>\n",
       "      <td>NaN</td>\n",
       "      <td>NaN</td>\n",
       "      <td>NaN</td>\n",
       "      <td>5.0</td>\n",
       "      <td>Peter Tan</td>\n",
       "      <td>0</td>\n",
       "    </tr>\n",
       "    <tr>\n",
       "      <th>4</th>\n",
       "      <td>nguyen6962</td>\n",
       "      <td>Nguyen</td>\n",
       "      <td>NaN</td>\n",
       "      <td>NaN</td>\n",
       "      <td>NaN</td>\n",
       "      <td>NaN</td>\n",
       "      <td>1461301154</td>\n",
       "      <td>NaN</td>\n",
       "      <td>NaN</td>\n",
       "      <td>NaN</td>\n",
       "      <td>NaN</td>\n",
       "      <td>NaN</td>\n",
       "      <td>NaN</td>\n",
       "      <td>0</td>\n",
       "    </tr>\n",
       "  </tbody>\n",
       "</table>\n",
       "</div>"
      ],
      "text/plain": [
       "   PERMANENT_NAME DISPLAY_NAME  MAIN_PIC_ID CITY STATE COUNTRY_CODE  \\\n",
       "0        qian3013         Qian          NaN  NaN   NaN          NaN   \n",
       "1       reena6733        Reena          NaN  NaN   NaN          NaN   \n",
       "2         mai5982          Mai          NaN  NaN   NaN          NaN   \n",
       "3  andrew86079135       Andrew          NaN  NaN   NaN          NaN   \n",
       "4      nguyen6962       Nguyen          NaN  NaN   NaN          NaN   \n",
       "\n",
       "   MEMBER_SINCE PERSONAL_URL OCCUPATION LOAN_BECAUSE OTHER_INFO  \\\n",
       "0    1461300457          NaN        NaN          NaN        NaN   \n",
       "1    1461300634          NaN        NaN          NaN        NaN   \n",
       "2    1461300853          NaN        NaN          NaN        NaN   \n",
       "3    1461301091          NaN        NaN          NaN        NaN   \n",
       "4    1461301154          NaN        NaN          NaN        NaN   \n",
       "\n",
       "   LOAN_PURCHASE_NUM INVITED_BY  NUM_INVITED  \n",
       "0                1.0        NaN            0  \n",
       "1                9.0        NaN            0  \n",
       "2                NaN        NaN            0  \n",
       "3                5.0  Peter Tan            0  \n",
       "4                NaN        NaN            0  "
      ]
     },
     "execution_count": 110,
     "metadata": {},
     "output_type": "execute_result"
    }
   ],
   "source": [
    "lenders.head()"
   ]
  },
  {
   "cell_type": "code",
   "execution_count": 118,
   "metadata": {
    "collapsed": true
   },
   "outputs": [
    {
     "name": "stdout",
     "output_type": "stream",
     "text": [
      "<class 'pandas.core.frame.DataFrame'>\n",
      "RangeIndex: 2349174 entries, 0 to 2349173\n",
      "Data columns (total 14 columns):\n",
      "PERMANENT_NAME       object\n",
      "DISPLAY_NAME         object\n",
      "MAIN_PIC_ID          float64\n",
      "CITY                 object\n",
      "STATE                object\n",
      "COUNTRY_CODE         object\n",
      "MEMBER_SINCE         int64\n",
      "PERSONAL_URL         object\n",
      "OCCUPATION           object\n",
      "LOAN_BECAUSE         object\n",
      "OTHER_INFO           object\n",
      "LOAN_PURCHASE_NUM    float64\n",
      "INVITED_BY           object\n",
      "NUM_INVITED          int64\n",
      "dtypes: float64(2), int64(2), object(10)\n",
      "memory usage: 250.9+ MB\n"
     ]
    }
   ],
   "source": [
    "lenders.info()"
   ]
  },
  {
   "cell_type": "markdown",
   "metadata": {},
   "source": [
    "### 2. Feature Engineering\n"
   ]
  },
  {
   "cell_type": "markdown",
   "metadata": {},
   "source": [
    "#### 2.1 Member Since"
   ]
  },
  {
   "cell_type": "code",
   "execution_count": 38,
   "metadata": {},
   "outputs": [],
   "source": [
    "lenders['MEMBER_SINCE'] = pd.to_datetime(lenders['MEMBER_SINCE'],unit='s')"
   ]
  },
  {
   "cell_type": "code",
   "execution_count": 39,
   "metadata": {},
   "outputs": [
    {
     "data": {
      "text/plain": [
       "<matplotlib.axes._subplots.AxesSubplot at 0x1a3f450908>"
      ]
     },
     "execution_count": 39,
     "metadata": {},
     "output_type": "execute_result"
    },
    {
     "data": {
      "image/png": "[encoded data removed]",
      "text/plain": [
       "<matplotlib.figure.Figure at 0x1a3ef41550>"
      ]
     },
     "metadata": {},
     "output_type": "display_data"
    }
   ],
   "source": [
    "lenders['MEMBER_SINCE'].hist()"
   ]
  },
  {
   "cell_type": "markdown",
   "metadata": {},
   "source": [
    "#### 2.1 Num_Loans_Purchased"
   ]
  },
  {
   "cell_type": "code",
   "execution_count": 41,
   "metadata": {},
   "outputs": [],
   "source": [
    "lenders['LOAN_PURCHASE_NUM'] = lenders['LOAN_PURCHASE_NUM'].fillna(-1)"
   ]
  },
  {
   "cell_type": "code",
   "execution_count": 98,
   "metadata": {},
   "outputs": [],
   "source": [
    "bins = [-2,-1,20,100,1000,85191]\n",
    "lenders['binned_loan_purcharse_num'] = pd.cut(lenders['LOAN_PURCHASE_NUM'],bins)"
   ]
  },
  {
   "cell_type": "code",
   "execution_count": 101,
   "metadata": {},
   "outputs": [
    {
     "data": {
      "image/png": "[encoded data removed]",
      "text/plain": [
       "<matplotlib.figure.Figure at 0x1a3e4c9240>"
      ]
     },
     "metadata": {},
     "output_type": "display_data"
    }
   ],
   "source": [
    "ax = lenders.binned_loan_purcharse_num.value_counts(sort=False).plot.bar(rot=0, color=\"b\", figsize=(10,4))"
   ]
  },
  {
   "cell_type": "code",
   "execution_count": 100,
   "metadata": {},
   "outputs": [
    {
     "data": {
      "image/png": "[encoded data removed]",
      "text/plain": [
       "<matplotlib.figure.Figure at 0x1a3c731c88>"
      ]
     },
     "metadata": {},
     "output_type": "display_data"
    }
   ],
   "source": [
    "ax = lenders[lenders.LOAN_PURCHASE_NUM > 100]['binned_loan_purcharse_num'].value_counts(sort=False).plot.bar(rot=0, color=\"b\", figsize=(10,4))"
   ]
  },
  {
   "cell_type": "code",
   "execution_count": 65,
   "metadata": {},
   "outputs": [
    {
     "data": {
      "text/html": [
       "<div>\n",
       "<style scoped>\n",
       "    .dataframe tbody tr th:only-of-type {\n",
       "        vertical-align: middle;\n",
       "    }\n",
       "\n",
       "    .dataframe tbody tr th {\n",
       "        vertical-align: top;\n",
       "    }\n",
       "\n",
       "    .dataframe thead th {\n",
       "        text-align: right;\n",
       "    }\n",
       "</style>\n",
       "<table border=\"1\" class=\"dataframe\">\n",
       "  <thead>\n",
       "    <tr style=\"text-align: right;\">\n",
       "      <th></th>\n",
       "      <th>PERMANENT_NAME</th>\n",
       "      <th>DISPLAY_NAME</th>\n",
       "      <th>MAIN_PIC_ID</th>\n",
       "      <th>CITY</th>\n",
       "      <th>STATE</th>\n",
       "      <th>COUNTRY_CODE</th>\n",
       "      <th>MEMBER_SINCE</th>\n",
       "      <th>PERSONAL_URL</th>\n",
       "      <th>OCCUPATION</th>\n",
       "      <th>LOAN_BECAUSE</th>\n",
       "      <th>OTHER_INFO</th>\n",
       "      <th>LOAN_PURCHASE_NUM</th>\n",
       "      <th>INVITED_BY</th>\n",
       "      <th>NUM_INVITED</th>\n",
       "      <th>binned</th>\n",
       "    </tr>\n",
       "  </thead>\n",
       "  <tbody>\n",
       "    <tr>\n",
       "      <th>0</th>\n",
       "      <td>qian3013</td>\n",
       "      <td>Qian</td>\n",
       "      <td>NaN</td>\n",
       "      <td>NaN</td>\n",
       "      <td>NaN</td>\n",
       "      <td>NaN</td>\n",
       "      <td>2016-04-22 04:47:37</td>\n",
       "      <td>NaN</td>\n",
       "      <td>na</td>\n",
       "      <td>NaN</td>\n",
       "      <td>NaN</td>\n",
       "      <td>1.0</td>\n",
       "      <td>NaN</td>\n",
       "      <td>0</td>\n",
       "      <td>(0, 20]</td>\n",
       "    </tr>\n",
       "    <tr>\n",
       "      <th>1</th>\n",
       "      <td>reena6733</td>\n",
       "      <td>Reena</td>\n",
       "      <td>NaN</td>\n",
       "      <td>NaN</td>\n",
       "      <td>NaN</td>\n",
       "      <td>NaN</td>\n",
       "      <td>2016-04-22 04:50:34</td>\n",
       "      <td>NaN</td>\n",
       "      <td>na</td>\n",
       "      <td>NaN</td>\n",
       "      <td>NaN</td>\n",
       "      <td>9.0</td>\n",
       "      <td>NaN</td>\n",
       "      <td>0</td>\n",
       "      <td>(0, 20]</td>\n",
       "    </tr>\n",
       "    <tr>\n",
       "      <th>2</th>\n",
       "      <td>mai5982</td>\n",
       "      <td>Mai</td>\n",
       "      <td>NaN</td>\n",
       "      <td>NaN</td>\n",
       "      <td>NaN</td>\n",
       "      <td>NaN</td>\n",
       "      <td>2016-04-22 04:54:13</td>\n",
       "      <td>NaN</td>\n",
       "      <td>na</td>\n",
       "      <td>NaN</td>\n",
       "      <td>NaN</td>\n",
       "      <td>-1.0</td>\n",
       "      <td>NaN</td>\n",
       "      <td>0</td>\n",
       "      <td>(-2, 0]</td>\n",
       "    </tr>\n",
       "    <tr>\n",
       "      <th>3</th>\n",
       "      <td>andrew86079135</td>\n",
       "      <td>Andrew</td>\n",
       "      <td>NaN</td>\n",
       "      <td>NaN</td>\n",
       "      <td>NaN</td>\n",
       "      <td>NaN</td>\n",
       "      <td>2016-04-22 04:58:11</td>\n",
       "      <td>NaN</td>\n",
       "      <td>na</td>\n",
       "      <td>NaN</td>\n",
       "      <td>NaN</td>\n",
       "      <td>5.0</td>\n",
       "      <td>Peter Tan</td>\n",
       "      <td>0</td>\n",
       "      <td>(0, 20]</td>\n",
       "    </tr>\n",
       "    <tr>\n",
       "      <th>4</th>\n",
       "      <td>nguyen6962</td>\n",
       "      <td>Nguyen</td>\n",
       "      <td>NaN</td>\n",
       "      <td>NaN</td>\n",
       "      <td>NaN</td>\n",
       "      <td>NaN</td>\n",
       "      <td>2016-04-22 04:59:14</td>\n",
       "      <td>NaN</td>\n",
       "      <td>na</td>\n",
       "      <td>NaN</td>\n",
       "      <td>NaN</td>\n",
       "      <td>-1.0</td>\n",
       "      <td>NaN</td>\n",
       "      <td>0</td>\n",
       "      <td>(-2, 0]</td>\n",
       "    </tr>\n",
       "  </tbody>\n",
       "</table>\n",
       "</div>"
      ],
      "text/plain": [
       "   PERMANENT_NAME DISPLAY_NAME  MAIN_PIC_ID CITY STATE COUNTRY_CODE  \\\n",
       "0        qian3013         Qian          NaN  NaN   NaN          NaN   \n",
       "1       reena6733        Reena          NaN  NaN   NaN          NaN   \n",
       "2         mai5982          Mai          NaN  NaN   NaN          NaN   \n",
       "3  andrew86079135       Andrew          NaN  NaN   NaN          NaN   \n",
       "4      nguyen6962       Nguyen          NaN  NaN   NaN          NaN   \n",
       "\n",
       "         MEMBER_SINCE PERSONAL_URL OCCUPATION LOAN_BECAUSE OTHER_INFO  \\\n",
       "0 2016-04-22 04:47:37          NaN         na          NaN        NaN   \n",
       "1 2016-04-22 04:50:34          NaN         na          NaN        NaN   \n",
       "2 2016-04-22 04:54:13          NaN         na          NaN        NaN   \n",
       "3 2016-04-22 04:58:11          NaN         na          NaN        NaN   \n",
       "4 2016-04-22 04:59:14          NaN         na          NaN        NaN   \n",
       "\n",
       "   LOAN_PURCHASE_NUM INVITED_BY  NUM_INVITED   binned  \n",
       "0                1.0        NaN            0  (0, 20]  \n",
       "1                9.0        NaN            0  (0, 20]  \n",
       "2               -1.0        NaN            0  (-2, 0]  \n",
       "3                5.0  Peter Tan            0  (0, 20]  \n",
       "4               -1.0        NaN            0  (-2, 0]  "
      ]
     },
     "execution_count": 65,
     "metadata": {},
     "output_type": "execute_result"
    }
   ],
   "source": [
    "lenders.head()"
   ]
  },
  {
   "cell_type": "code",
   "execution_count": 66,
   "metadata": {},
   "outputs": [
    {
     "data": {
      "text/plain": [
       "85190.0"
      ]
     },
     "execution_count": 66,
     "metadata": {},
     "output_type": "execute_result"
    }
   ],
   "source": [
    "lenders['LOAN_PURCHASE_NUM'].max()"
   ]
  },
  {
   "cell_type": "markdown",
   "metadata": {},
   "source": [
    "#### 2.1 Occupation"
   ]
  },
  {
   "cell_type": "code",
   "execution_count": 24,
   "metadata": {},
   "outputs": [],
   "source": [
    "lenders['OCCUPATION'] = lenders['OCCUPATION'].fillna('NA')\n",
    "lenders['OCCUPATION'] = lenders['OCCUPATION'].apply(lambda x: x.lower())"
   ]
  },
  {
   "cell_type": "markdown",
   "metadata": {},
   "source": [
    "The majority of the occupation types only have one user."
   ]
  },
  {
   "cell_type": "code",
   "execution_count": 26,
   "metadata": {},
   "outputs": [
    {
     "data": {
      "text/plain": [
       "104102"
      ]
     },
     "execution_count": 26,
     "metadata": {},
     "output_type": "execute_result"
    }
   ],
   "source": [
    "len(np.unique(lenders['OCCUPATION']))"
   ]
  },
  {
   "cell_type": "code",
   "execution_count": 22,
   "metadata": {},
   "outputs": [
    {
     "data": {
      "text/plain": [
       "99763"
      ]
     },
     "execution_count": 22,
     "metadata": {},
     "output_type": "execute_result"
    }
   ],
   "source": [
    "sum(lenders['OCCUPATION'].value_counts()==1)"
   ]
  },
  {
   "cell_type": "code",
   "execution_count": 34,
   "metadata": {
    "collapsed": true
   },
   "outputs": [
    {
     "data": {
      "text/plain": [
       "na                                                 1844523\n",
       "student                                              76319\n",
       "teacher                                              40602\n",
       "retired                                              22493\n",
       "engineer                                             21717\n",
       "owner                                                10444\n",
       "lawyer                                                6922\n",
       "entrepreneur                                          6018\n",
       "consultant                                            5233\n",
       "writer                                                3756\n",
       "nurse                                                 3719\n",
       "accountant                                            3499\n",
       "manager                                               3255\n",
       "artist                                                3226\n",
       "sales                                                 2894\n",
       "social worker                                         2607\n",
       "project manager                                       2072\n",
       "marketing                                             1988\n",
       "homemaker                                             1891\n",
       "photographer                                          1838\n",
       "physician                                             1833\n",
       "self employed                                         1830\n",
       "designer                                              1738\n",
       "educator                                              1684\n",
       "business                                              1676\n",
       "librarian                                             1660\n",
       "scientist                                             1649\n",
       "graphic designer                                      1470\n",
       "registered nurse                                      1433\n",
       "musician                                              1428\n",
       "                                                    ...   \n",
       "garage door repair watauga                               1\n",
       "long term disability insurance claims                    1\n",
       "go-to guy                                                1\n",
       "director paidek                                          1\n",
       "joseph@lanzafashionembroidery.com                        1\n",
       "http://whit.li                                           1\n",
       "retail businessman                                       1\n",
       "odesk web researcher                                     1\n",
       "it man                                                   1\n",
       "rn & fire officer                                        1\n",
       "socially-conscious skin care creators                    1\n",
       "internal consultant                                      1\n",
       "group records coordinator                                1\n",
       "program coordinator - co-op youth leadership             1\n",
       "realtor & consultant                                     1\n",
       "musican / chef                                           1\n",
       "rev pastor                                               1\n",
       "flavorist                                                1\n",
       "changing perspective                                     1\n",
       "home-based entrepreneur                                  1\n",
       "sales rep and entrepreneur                               1\n",
       "copper penny flower                                      1\n",
       "mother (for now!)                                        1\n",
       "product business development manager                     1\n",
       "associate at an international development group          1\n",
       "growth firm                                              1\n",
       "phlebotomist and clerk                                   1\n",
       "army chaplain                                            1\n",
       "research manager and project coordinator                 1\n",
       "promotion & marketing firm                               1\n",
       "Name: OCCUPATION, Length: 85744, dtype: int64"
      ]
     },
     "execution_count": 34,
     "metadata": {},
     "output_type": "execute_result"
    }
   ],
   "source": [
    "lenders['OCCUPATION'].value_counts()"
   ]
  },
  {
   "cell_type": "code",
   "execution_count": 27,
   "metadata": {},
   "outputs": [
    {
     "name": "stderr",
     "output_type": "stream",
     "text": [
      "/anaconda3/lib/python3.6/site-packages/ipykernel_launcher.py:1: SettingWithCopyWarning: \n",
      "A value is trying to be set on a copy of a slice from a DataFrame\n",
      "\n",
      "See the caveats in the documentation: http://pandas.pydata.org/pandas-docs/stable/indexing.html#indexing-view-versus-copy\n",
      "  \"\"\"Entry point for launching an IPython kernel.\n"
     ]
    }
   ],
   "source": [
    "lenders['OCCUPATION'][lenders['OCCUPATION'].apply(lambda x: \"attorney\" in x)] = \"lawyer\""
   ]
  },
  {
   "cell_type": "code",
   "execution_count": 28,
   "metadata": {},
   "outputs": [
    {
     "name": "stderr",
     "output_type": "stream",
     "text": [
      "/anaconda3/lib/python3.6/site-packages/ipykernel_launcher.py:1: SettingWithCopyWarning: \n",
      "A value is trying to be set on a copy of a slice from a DataFrame\n",
      "\n",
      "See the caveats in the documentation: http://pandas.pydata.org/pandas-docs/stable/indexing.html#indexing-view-versus-copy\n",
      "  \"\"\"Entry point for launching an IPython kernel.\n"
     ]
    }
   ],
   "source": [
    "lenders['OCCUPATION'][lenders['OCCUPATION'].apply(lambda x: \"student\" in x)] = \"student\""
   ]
  },
  {
   "cell_type": "code",
   "execution_count": 29,
   "metadata": {},
   "outputs": [
    {
     "name": "stderr",
     "output_type": "stream",
     "text": [
      "/anaconda3/lib/python3.6/site-packages/ipykernel_launcher.py:1: SettingWithCopyWarning: \n",
      "A value is trying to be set on a copy of a slice from a DataFrame\n",
      "\n",
      "See the caveats in the documentation: http://pandas.pydata.org/pandas-docs/stable/indexing.html#indexing-view-versus-copy\n",
      "  \"\"\"Entry point for launching an IPython kernel.\n"
     ]
    }
   ],
   "source": [
    "lenders['OCCUPATION'][lenders['OCCUPATION'].apply(lambda x: \"engineer\" in x or \"software developer\" in x)] = \"engineer\""
   ]
  },
  {
   "cell_type": "code",
   "execution_count": 30,
   "metadata": {},
   "outputs": [
    {
     "name": "stderr",
     "output_type": "stream",
     "text": [
      "/anaconda3/lib/python3.6/site-packages/ipykernel_launcher.py:1: SettingWithCopyWarning: \n",
      "A value is trying to be set on a copy of a slice from a DataFrame\n",
      "\n",
      "See the caveats in the documentation: http://pandas.pydata.org/pandas-docs/stable/indexing.html#indexing-view-versus-copy\n",
      "  \"\"\"Entry point for launching an IPython kernel.\n"
     ]
    }
   ],
   "source": [
    "lenders['OCCUPATION'][lenders['OCCUPATION'].apply(lambda x: \"teacher\" in x or \"professor\" in x)] = \"teacher\""
   ]
  },
  {
   "cell_type": "code",
   "execution_count": 31,
   "metadata": {},
   "outputs": [
    {
     "name": "stderr",
     "output_type": "stream",
     "text": [
      "/anaconda3/lib/python3.6/site-packages/ipykernel_launcher.py:1: SettingWithCopyWarning: \n",
      "A value is trying to be set on a copy of a slice from a DataFrame\n",
      "\n",
      "See the caveats in the documentation: http://pandas.pydata.org/pandas-docs/stable/indexing.html#indexing-view-versus-copy\n",
      "  \"\"\"Entry point for launching an IPython kernel.\n"
     ]
    }
   ],
   "source": [
    "lenders['OCCUPATION'][lenders['OCCUPATION'].apply(lambda x: \"retired\" in x)] = \"retired\""
   ]
  },
  {
   "cell_type": "code",
   "execution_count": 33,
   "metadata": {},
   "outputs": [
    {
     "name": "stderr",
     "output_type": "stream",
     "text": [
      "/anaconda3/lib/python3.6/site-packages/ipykernel_launcher.py:1: SettingWithCopyWarning: \n",
      "A value is trying to be set on a copy of a slice from a DataFrame\n",
      "\n",
      "See the caveats in the documentation: http://pandas.pydata.org/pandas-docs/stable/indexing.html#indexing-view-versus-copy\n",
      "  \"\"\"Entry point for launching an IPython kernel.\n"
     ]
    }
   ],
   "source": [
    "lenders['OCCUPATION'][lenders['OCCUPATION'].apply(lambda x: \"owner\" in x)] = \"owner\""
   ]
  },
  {
   "cell_type": "code",
   "execution_count": 91,
   "metadata": {},
   "outputs": [
    {
     "data": {
      "text/plain": [
       "0       2118181\n",
       "1        142437\n",
       "2         43759\n",
       "3         19026\n",
       "4          9505\n",
       "5          5204\n",
       "6          3256\n",
       "7          1958\n",
       "8          1320\n",
       "9           881\n",
       "10          642\n",
       "11          500\n",
       "12          384\n",
       "13          273\n",
       "14          225\n",
       "15          182\n",
       "16          154\n",
       "17          120\n",
       "18          103\n",
       "19           98\n",
       "20           66\n",
       "21           63\n",
       "22           60\n",
       "23           51\n",
       "25           42\n",
       "24           41\n",
       "29           39\n",
       "26           33\n",
       "30           28\n",
       "27           27\n",
       "         ...   \n",
       "77            1\n",
       "139           1\n",
       "79            1\n",
       "82            1\n",
       "107           1\n",
       "106           1\n",
       "90            1\n",
       "91            1\n",
       "1553          1\n",
       "138           1\n",
       "140           1\n",
       "216           1\n",
       "183           1\n",
       "214           1\n",
       "212           1\n",
       "209           1\n",
       "204           1\n",
       "97            1\n",
       "192           1\n",
       "185           1\n",
       "172           1\n",
       "141           1\n",
       "168           1\n",
       "166           1\n",
       "164           1\n",
       "156           1\n",
       "144           1\n",
       "143           1\n",
       "142           1\n",
       "1859          1\n",
       "Name: NUM_INVITED, Length: 178, dtype: int64"
      ]
     },
     "execution_count": 91,
     "metadata": {},
     "output_type": "execute_result"
    }
   ],
   "source": [
    "lenders.NUM_INVITED.value_counts()"
   ]
  },
  {
   "cell_type": "code",
   "execution_count": 102,
   "metadata": {},
   "outputs": [
    {
     "data": {
      "image/png": "[encoded data removed]",
      "text/plain": [
       "<matplotlib.figure.Figure at 0x1a3e4ff278>"
      ]
     },
     "metadata": {},
     "output_type": "display_data"
    }
   ],
   "source": [
    "bins_invites = [-1,0,8,18,1859]\n",
    "lenders['binned_num_invited'] = pd.cut(lenders['NUM_INVITED'],bins_invites)\n",
    "\n",
    "ax = lenders.binned_num_invited.value_counts(sort=False).plot.bar(rot=0, color=\"b\", figsize=(10,4))"
   ]
  },
  {
   "cell_type": "code",
   "execution_count": 103,
   "metadata": {},
   "outputs": [
    {
     "data": {
      "image/png": "[encoded data removed]",
      "text/plain": [
       "<matplotlib.figure.Figure at 0x1a3e63f470>"
      ]
     },
     "metadata": {},
     "output_type": "display_data"
    }
   ],
   "source": [
    "ax = lenders[lenders.NUM_INVITED > 8]['binned_num_invited'].value_counts(sort=False).plot.bar(rot=0, color=\"b\", figsize=(10,4))"
   ]
  },
  {
   "cell_type": "code",
   "execution_count": 97,
   "metadata": {},
   "outputs": [
    {
     "data": {
      "text/plain": [
       "<matplotlib.axes._subplots.AxesSubplot at 0x1a3c7335f8>"
      ]
     },
     "execution_count": 97,
     "metadata": {},
     "output_type": "execute_result"
    },
    {
     "data": {
      "image/png": "[encoded data removed]",
      "text/plain": [
       "<matplotlib.figure.Figure at 0x1a3cae9908>"
      ]
     },
     "metadata": {},
     "output_type": "display_data"
    }
   ],
   "source": [
    "lenders[lenders.LOAN_PURCHASE_NUM > 1000]['NUM_INVITED'].value_counts().plot.bar(rot=0, color=\"b\", figsize=(10,4))"
   ]
  },
  {
   "cell_type": "markdown",
   "metadata": {},
   "source": [
    "### Super Connectors"
   ]
  },
  {
   "cell_type": "code",
   "execution_count": 114,
   "metadata": {},
   "outputs": [
    {
     "data": {
      "text/plain": [
       "0.00041120836515302824"
      ]
     },
     "execution_count": 114,
     "metadata": {},
     "output_type": "execute_result"
    }
   ],
   "source": [
    "lenders[lenders.NUM_INVITED > 19].shape[0]/lenders.shape[0]"
   ]
  },
  {
   "cell_type": "code",
   "execution_count": 106,
   "metadata": {},
   "outputs": [
    {
     "data": {
      "text/plain": [
       "<matplotlib.axes._subplots.AxesSubplot at 0x1a3e82bcf8>"
      ]
     },
     "execution_count": 106,
     "metadata": {},
     "output_type": "execute_result"
    },
    {
     "data": {
      "image/png": "[encoded data removed]",
      "text/plain": [
       "<matplotlib.figure.Figure at 0x1a3e6184a8>"
      ]
     },
     "metadata": {},
     "output_type": "display_data"
    }
   ],
   "source": [
    "lenders[lenders.NUM_INVITED > 19].MEMBER_SINCE.hist()"
   ]
  },
  {
   "cell_type": "code",
   "execution_count": 116,
   "metadata": {},
   "outputs": [
    {
     "data": {
      "text/plain": [
       "Text(0.5,1,'LOAN_PURCHASE_NUM for supper connectors')"
      ]
     },
     "execution_count": 116,
     "metadata": {},
     "output_type": "execute_result"
    },
    {
     "data": {
      "image/png": "[encoded data removed]",
      "text/plain": [
       "<matplotlib.figure.Figure at 0x1a3c5c7668>"
      ]
     },
     "metadata": {},
     "output_type": "display_data"
    }
   ],
   "source": [
    "ax = lenders[lenders.NUM_INVITED > 19]['binned_loan_purcharse_num'].value_counts(sort=False).plot.bar(rot=0, color=\"b\", figsize=(10,4));\n",
    "ax.set_title(\"LOAN_PURCHASE_NUM for supper connectors\")"
   ]
  },
  {
   "cell_type": "markdown",
   "metadata": {},
   "source": [
    "### Loyal Supporters"
   ]
  },
  {
   "cell_type": "code",
   "execution_count": 123,
   "metadata": {},
   "outputs": [
    {
     "name": "stderr",
     "output_type": "stream",
     "text": [
      "/anaconda3/lib/python3.6/site-packages/ipykernel_launcher.py:1: UserWarning: Boolean Series key will be reindexed to match DataFrame index.\n",
      "  \"\"\"Entry point for launching an IPython kernel.\n"
     ]
    },
    {
     "data": {
      "text/plain": [
       "0.43890788847484263"
      ]
     },
     "execution_count": 123,
     "metadata": {},
     "output_type": "execute_result"
    }
   ],
   "source": [
    "lenders[lenders.LOAN_PURCHASE_NUM > 0][lenders.LOAN_PURCHASE_NUM <= 10].shape[0]/lenders.shape[0]"
   ]
  },
  {
   "cell_type": "code",
   "execution_count": 112,
   "metadata": {},
   "outputs": [],
   "source": [
    "# lenders.columns\n",
    "col_list = ['CITY', 'STATE',\n",
    "       'COUNTRY_CODE', 'MEMBER_SINCE', 'OCCUPATION',\n",
    "'LOAN_PURCHASE_NUM', \n",
    "       'NUM_INVITED']"
   ]
  },
  {
   "cell_type": "markdown",
   "metadata": {},
   "source": [
    "## Why_Loan"
   ]
  },
  {
   "cell_type": "code",
   "execution_count": 124,
   "metadata": {},
   "outputs": [],
   "source": [
    "descriptions = lenders['LOAN_BECAUSE']\n",
    "#Step 2. Vectorize, Stem and Lemmatize words\n",
    "\n",
    "# vect = CountVectorizer(stop_words='english')\n",
    "# model = vect.fit_transform(docs)"
   ]
  },
  {
   "cell_type": "code",
   "execution_count": 125,
   "metadata": {},
   "outputs": [],
   "source": [
    "from sklearn.decomposition import NMF\n",
    "from sklearn.feature_extraction.text import CountVectorizer, TfidfVectorizer\n",
    "\n",
    "from nltk.corpus import stopwords\n",
    "from nltk.tokenize import word_tokenize\n",
    "from nltk.stem.snowball import SnowballStemmer\n",
    "from nltk.stem.wordnet import WordNetLemmatizer\n",
    "\n",
    "import numpy as np\n",
    "from bs4 import BeautifulSoup\n",
    "import string\n"
   ]
  },
  {
   "cell_type": "code",
   "execution_count": 126,
   "metadata": {},
   "outputs": [],
   "source": [
    "snowball = SnowballStemmer('english')\n",
    "wordnet = WordNetLemmatizer()"
   ]
  },
  {
   "cell_type": "code",
   "execution_count": 129,
   "metadata": {},
   "outputs": [
    {
     "data": {
      "text/plain": [
       "2174852"
      ]
     },
     "execution_count": 129,
     "metadata": {},
     "output_type": "execute_result"
    }
   ],
   "source": [
    "descriptions.isnull().sum()"
   ]
  },
  {
   "cell_type": "code",
   "execution_count": 133,
   "metadata": {},
   "outputs": [
    {
     "data": {
      "text/plain": [
       "0.9257943430329129"
      ]
     },
     "execution_count": 133,
     "metadata": {},
     "output_type": "execute_result"
    }
   ],
   "source": [
    "descriptions.isnull().sum()/descriptions.shape[0] #92.6% are missing "
   ]
  },
  {
   "cell_type": "code",
   "execution_count": 136,
   "metadata": {},
   "outputs": [],
   "source": [
    "descriptions = descriptions.fillna('')"
   ]
  },
  {
   "cell_type": "code",
   "execution_count": 143,
   "metadata": {},
   "outputs": [],
   "source": [
    "def tokenize(doc):\n",
    "#     soup = BeautifulSoup(doc,'html.parser')\n",
    "#     text = soup.get_text()\n",
    "    translater = str.maketrans('','',string.punctuation)\n",
    "    a = [wordnet.lemmatize(word) for word in word_tokenize(doc.lower().translate(translater))]\n",
    "    return a\n",
    "\n",
    "vect = TfidfVectorizer(stop_words='english', analyzer='word',tokenizer=tokenize)\n",
    "model = vect.fit_transform(descriptions)\n",
    "features = vect.get_feature_names()"
   ]
  },
  {
   "cell_type": "code",
   "execution_count": 147,
   "metadata": {
    "collapsed": true
   },
   "outputs": [
    {
     "data": {
      "text/plain": [
       "594        I believe its important to support others in t...\n",
       "984                                    http://cracks2016.com\n",
       "1045       As the bible states: ~ \"Give someone a fish an...\n",
       "1139                                 CMS Website Development\n",
       "1243       I was introduced to Kiva on my recent visit to...\n",
       "1493                                I need money for my jobs\n",
       "1884       small things together matter to make the world...\n",
       "1909       Nothing is more rewarding than watching people...\n",
       "1949                               I want expand my business\n",
       "2154       It's the right thing to do. We live in a globa...\n",
       "2168                        People need help and I can help.\n",
       "2284       I desire this loan to establish a creche, dayc...\n",
       "2430              I want to help make a difference in world.\n",
       "2488                    You can't alway's do it on your own.\n",
       "2743                        Captain america civil war stream\n",
       "2776                                                  700.00\n",
       "2821            I'm grateful to be able to do unto others...\n",
       "3033       to give hope and empower people of all ages to...\n",
       "3060       entrepreneurship can build a new world with le...\n",
       "3103                   Mengembangkan usaha klinik kecantikan\n",
       "3224                                  I want to add my stock\n",
       "3277                               I like to pass love on...\n",
       "3372                i want to see all people in one standard\n",
       "3390       SpringGR works to create successful small busi...\n",
       "3430                     To help people achieve their dream.\n",
       "3573                                             i am hungry\n",
       "3593              I want to help out others as long as I can\n",
       "3620       It is honestly the right thing to do. That's t...\n",
       "3839                                        I grow community\n",
       "3998                                                Hello ;)\n",
       "                                 ...                        \n",
       "2348723                                               I care\n",
       "2348763                                because it is helpful\n",
       "2348767                                                I can\n",
       "2348786                                               I can.\n",
       "2348811                           Its the right thing to do.\n",
       "2348847    I know the feeling of hoplessness that comes w...\n",
       "2348863                          I have been very fortunate.\n",
       "2348872    I want to make a difference and help those who...\n",
       "2348874                                                I can\n",
       "2348911    Just like us, Other people need help getting g...\n",
       "2348924               To utilize resources to better educate\n",
       "2348938    It's seems like a great idea to help out hard ...\n",
       "2348953    This whole thing was my idea that these people...\n",
       "2348964    Although I now believe in macro-entrepreneursh...\n",
       "2348966                                               I can!\n",
       "2348967                     Everybody needs a hand sometime.\n",
       "2348991                         I believe in helping others!\n",
       "2348993    I know no matter how I think things in my life...\n",
       "2348996    I have wanted for my entire life to offer some...\n",
       "2349007    I was inspired by my sweet boyfriend Dale and ...\n",
       "2349040                                 I believe in people.\n",
       "2349070                                              I care.\n",
       "2349086    The Largest Hip Hop Network online developed b...\n",
       "2349094    I want to show my children that a little can g...\n",
       "2349116    I feel that anyone who can should help others ...\n",
       "2349122                                      It's good juju.\n",
       "2349132    Buy Arimidex at a discount from Canada Drug Ph...\n",
       "2349138    I am keen to help those who are striving to cl...\n",
       "2349153    it is a direct way for me to make a difference...\n",
       "2349158                                              I care.\n",
       "Name: LOAN_BECAUSE, Length: 174322, dtype: object"
      ]
     },
     "execution_count": 147,
     "metadata": {},
     "output_type": "execute_result"
    }
   ],
   "source": [
    "descriptions[descriptions != '']"
   ]
  },
  {
   "cell_type": "code",
   "execution_count": 154,
   "metadata": {
    "collapsed": true
   },
   "outputs": [
    {
     "data": {
      "text/plain": [
       "['i',\n",
       " 'believe',\n",
       " 'it',\n",
       " 'important',\n",
       " 'to',\n",
       " 'support',\n",
       " 'others',\n",
       " 'in',\n",
       " 'their',\n",
       " 'time',\n",
       " 'of',\n",
       " 'need']"
      ]
     },
     "execution_count": 154,
     "metadata": {},
     "output_type": "execute_result"
    }
   ],
   "source": [
    "tokenize(descriptions[594])"
   ]
  },
  {
   "cell_type": "code",
   "execution_count": 155,
   "metadata": {
    "collapsed": true
   },
   "outputs": [
    {
     "data": {
      "text/plain": [
       "{'believe': 8659,\n",
       " 'important': 35463,\n",
       " 'support': 69538,\n",
       " 'time': 71986,\n",
       " 'need': 48102,\n",
       " 'httpcracks2016com': 33243,\n",
       " 'bible': 9188,\n",
       " 'state': 68222,\n",
       " 'fish': 26754,\n",
       " 'feed': 26120,\n",
       " 'day': 17855,\n",
       " 'net': 48410,\n",
       " 'youll': 79384,\n",
       " 'lifetime': 41598,\n",
       " 'cm': 14108,\n",
       " 'website': 77256,\n",
       " 'development': 19150,\n",
       " 'wa': 76738,\n",
       " 'introduced': 37168,\n",
       " 'kiva': 39474,\n",
       " 'recent': 59476,\n",
       " 'visit': 76247,\n",
       " 'san': 63820,\n",
       " 'francisco': 27734,\n",
       " 'family': 25740,\n",
       " 'member': 44776,\n",
       " 'perused': 54333,\n",
       " 'jessica': 38209,\n",
       " 'jackleys': 37940,\n",
       " 'inspirational': 36654,\n",
       " 'clay': 13910,\n",
       " 'water': 77014,\n",
       " 'brick': 10407,\n",
       " 'exactly': 24829,\n",
       " 'kind': 39375,\n",
       " 'organisation': 51712,\n",
       " 'wanted': 76876,\n",
       " 'involved': 37344,\n",
       " 'nnothing': 49604,\n",
       " 'better': 9066,\n",
       " 'helping': 31967,\n",
       " 'fellow': 26207,\n",
       " 'human': 34501,\n",
       " 'difficult': 19575,\n",
       " 'bring': 10466,\n",
       " 'smile': 66612,\n",
       " 'happiness': 31334,\n",
       " 'life': 41416,\n",
       " 'nlive': 49345,\n",
       " 'let': 41176,\n",
       " 'live': 42068,\n",
       " 'money': 46343,\n",
       " 'job': 38340,\n",
       " 'small': 66552,\n",
       " 'thing': 71579,\n",
       " 'matter': 44268,\n",
       " 'make': 43494,\n",
       " 'world': 78335,\n",
       " 'little': 42020,\n",
       " 'rewarding': 61270,\n",
       " 'watching': 77012,\n",
       " 'people': 53836,\n",
       " 'achieve': 3172,\n",
       " 'goal': 29754,\n",
       " 'knowing': 39694,\n",
       " 'helped': 31935,\n",
       " 'way': 77058,\n",
       " 'want': 76872,\n",
       " 'expand': 25063,\n",
       " 'business': 10979,\n",
       " 'right': 61428,\n",
       " 'global': 29635,\n",
       " 'community': 14721,\n",
       " 'help': 31922,\n",
       " 'desire': 18869,\n",
       " 'loan': 42316,\n",
       " 'establish': 24307,\n",
       " 'creche': 16853,\n",
       " 'daycare': 17861,\n",
       " 'nursery': 50309,\n",
       " 'primary': 56848,\n",
       " 'school': 64266,\n",
       " 'locality': 42455,\n",
       " 'fast': 25934,\n",
       " 'developing': 19144,\n",
       " 'difference': 19482,\n",
       " 'captain': 11860,\n",
       " 'america': 4936,\n",
       " 'civil': 13809,\n",
       " 'war': 76898,\n",
       " 'stream': 68654,\n",
       " '70000': 2200,\n",
       " 'im': 35251,\n",
       " 'grateful': 30326,\n",
       " 'able': 2776,\n",
       " 'unto': 74691,\n",
       " 'hope': 32914,\n",
       " 'empower': 22910,\n",
       " 'age': 3919,\n",
       " 'follow': 27143,\n",
       " 'realize': 59329,\n",
       " 'dream': 21018,\n",
       " 'entrepreneurship': 23628,\n",
       " 'build': 10779,\n",
       " 'new': 48475,\n",
       " 'le': 40722,\n",
       " 'poverty': 56200,\n",
       " 'social': 66737,\n",
       " 'equality': 23892,\n",
       " 'mengembangkan': 44871,\n",
       " 'usaha': 74980,\n",
       " 'klinik': 39636,\n",
       " 'kecantikan': 38983,\n",
       " 'add': 3408,\n",
       " 'stock': 68487,\n",
       " 'like': 41688,\n",
       " 'pas': 53266,\n",
       " 'love': 42792,\n",
       " 'standard': 68087,\n",
       " 'springgr': 67873,\n",
       " 'work': 78231,\n",
       " 'create': 16818,\n",
       " 'successful': 69120,\n",
       " 'grand': 30226,\n",
       " 'rapid': 59082,\n",
       " 'mi': 45319,\n",
       " 'alum': 4821,\n",
       " 'flourish': 27003,\n",
       " 'grow': 30595,\n",
       " 'hungry': 34629,\n",
       " 'long': 42610,\n",
       " 'honestly': 32846,\n",
       " 'thats': 71195,\n",
       " 'main': 43427,\n",
       " 'appreciate': 5966,\n",
       " 'opinion': 51420,\n",
       " 'best': 8978,\n",
       " 'share': 65490,\n",
       " 'success': 69116,\n",
       " 'willing': 77832,\n",
       " 'supporting': 69553,\n",
       " 'motivating': 46771,\n",
       " 'uplifting': 74764,\n",
       " 'know': 39686,\n",
       " 'seeing': 64634,\n",
       " 'succeed': 69074,\n",
       " 'feel': 26132,\n",
       " 'purpose': 58329,\n",
       " 'motivate': 46768,\n",
       " 'hello': 31910,\n",
       " 'beautiful': 8371,\n",
       " 'coming': 14541,\n",
       " 'true': 73378,\n",
       " 'supporter': 69545,\n",
       " 'input': 36543,\n",
       " 'equal': 23886,\n",
       " 'big': 9254,\n",
       " 'change': 12804,\n",
       " 'handling': 31174,\n",
       " 'order': 51662,\n",
       " 'customer': 17327,\n",
       " 'lost': 42733,\n",
       " 'potensial': 56054,\n",
       " 'dont': 20704,\n",
       " 'handle': 31171,\n",
       " 'collect': 14328,\n",
       " 'walk': 76813,\n",
       " 'leg': 40861,\n",
       " 'broken': 10527,\n",
       " 'en': 22989,\n",
       " 'involto': 37338,\n",
       " 'colombia': 14393,\n",
       " 'gusta': 30813,\n",
       " 'apoyar': 5833,\n",
       " 'el': 22496,\n",
       " 'emprendimiento': 22943,\n",
       " 'look': 42648,\n",
       " 'wish': 77960,\n",
       " 'come': 14479,\n",
       " 'fortunate': 27498,\n",
       " 'id': 34947,\n",
       " 'grew': 30468,\n",
       " 'real': 59277,\n",
       " 'good': 29928,\n",
       " 'experience': 25133,\n",
       " 'survive': 69716,\n",
       " 'hand': 31140,\n",
       " 'mouth': 46842,\n",
       " 'resource': 60824,\n",
       " 'parent': 53020,\n",
       " 'provide': 57772,\n",
       " 'u': 73849,\n",
       " 'nnsocieties': 49618,\n",
       " 'perception': 54004,\n",
       " 'poor': 55701,\n",
       " 'wont': 78175,\n",
       " 'repay': 60550,\n",
       " 'creative': 16838,\n",
       " 'lack': 40185,\n",
       " 'persistence': 54192,\n",
       " 'perish': 54091,\n",
       " 'vicious': 75992,\n",
       " 'cycle': 17389,\n",
       " 'predatory': 56509,\n",
       " 'nntime': 49635,\n",
       " 'pay': 53486,\n",
       " 'hecta': 31836,\n",
       " 'medium': 44605,\n",
       " 'john': 38387,\n",
       " 'hank': 31274,\n",
       " 'left': 40850,\n",
       " 'chance': 12753,\n",
       " 'puppyeyes': 58281,\n",
       " 'individual': 35966,\n",
       " 'trying': 73456,\n",
       " 'orphan': 51846,\n",
       " 'stay': 68278,\n",
       " 'kilimanjaro': 39346,\n",
       " 'orphanage': 51847,\n",
       " 'privileged': 56992,\n",
       " 'prosper': 57665,\n",
       " 'attain': 6978,\n",
       " 'cheap': 13044,\n",
       " 'lending': 40985,\n",
       " 'maximizes': 44349,\n",
       " 'amout': 5044,\n",
       " '1': 120,\n",
       " 'wellequipped': 77404,\n",
       " 'technician': 70627,\n",
       " 'garage': 28689,\n",
       " 'door': 20725,\n",
       " 'repair': 60525,\n",
       " 'braunfels': 10303,\n",
       " 'experienced': 25134,\n",
       " 'solve': 67024,\n",
       " 'overhead': 52373,\n",
       " 'problem': 57057,\n",
       " 'theyre': 71553,\n",
       " 'texas': 71091,\n",
       " 'installation': 36684,\n",
       " 'rollup': 62842,\n",
       " 'excel': 24862,\n",
       " 'maintenance': 43448,\n",
       " 'contact': 15797,\n",
       " 'phone': 54610,\n",
       " '8302826977': 2395,\n",
       " 'start': 68155,\n",
       " 'just': 38648,\n",
       " 'push': 58367,\n",
       " 'improve': 35556,\n",
       " 'living': 42191,\n",
       " 'progress': 57371,\n",
       " 'assist': 6752,\n",
       " 'logistics': 42523,\n",
       " 'company': 14822,\n",
       " 'hard': 31390,\n",
       " 'working': 78261,\n",
       " 'vietnamese': 76070,\n",
       " 'woman': 78108,\n",
       " 'cooperate': 16167,\n",
       " 'used': 75018,\n",
       " 'peru': 54323,\n",
       " 'traveled': 73056,\n",
       " 'extensively': 25299,\n",
       " 'bolivia': 9874,\n",
       " 'thanks': 71140,\n",
       " 'god': 29800,\n",
       " 'necessary': 48068,\n",
       " 'everybody': 24719,\n",
       " 'contribute': 15994,\n",
       " 'microloan': 45488,\n",
       " 'step': 68338,\n",
       " 'closer': 14051,\n",
       " 'care': 11931,\n",
       " 'hutch': 34684,\n",
       " 'furniture': 28346,\n",
       " 'hewlett': 32371,\n",
       " 'packard': 52578,\n",
       " 'enterprise': 23452,\n",
       " 'hpe': 33111,\n",
       " 'allocate': 4604,\n",
       " 'fund': 28246,\n",
       " 'allow': 4618,\n",
       " 'employee': 22882,\n",
       " 'donation': 20636,\n",
       " 'block': 9682,\n",
       " '25nhpe': 1247,\n",
       " 'expect': 25084,\n",
       " 'million': 45687,\n",
       " 'develop': 19128,\n",
       " 'self': 64763,\n",
       " 'lucky': 42949,\n",
       " 'secure': 64589,\n",
       " 'place': 54983,\n",
       " 'granted': 30289,\n",
       " 'learn': 40760,\n",
       " 'learnt': 40773,\n",
       " 'entrepreneur': 23599,\n",
       " 'ha': 30952,\n",
       " 'blessed': 9603,\n",
       " 'blessing': 9629,\n",
       " 'humanity': 34527,\n",
       " 'enlarge': 23283,\n",
       " 'chip': 13316,\n",
       " 'cafe': 11372,\n",
       " 'open': 51356,\n",
       " 'diference': 19464,\n",
       " 'round': 62982,\n",
       " 'control': 16024,\n",
       " 'opportunity': 51483,\n",
       " 'boost': 9981,\n",
       " 'online': 51256,\n",
       " 'httpakunpokercomdewanyasitusagenpokeronlineindonesianhttpakunpokercomjaringanwebpokeruangasliindonesiaterbaiknhttppokerbintangcomnhttppokerbintangcomregisterphp': 33168,\n",
       " 'continue': 15889,\n",
       " 'farm': 25866,\n",
       " 'satisfy': 63999,\n",
       " 'food': 27206,\n",
       " 'realized': 59330,\n",
       " 'sale': 63688,\n",
       " 'home': 32764,\n",
       " 'improvement': 35561,\n",
       " 'fully': 28224,\n",
       " 'understand': 74234,\n",
       " 'complex': 14985,\n",
       " 'economically': 22028,\n",
       " 'boosting': 9984,\n",
       " 'country': 16553,\n",
       " 'origin': 51797,\n",
       " 'doe': 20445,\n",
       " 'offer': 50822,\n",
       " 'basic': 8149,\n",
       " 'thank': 71129,\n",
       " 'sensible': 65049,\n",
       " 'project': 57392,\n",
       " 'easier': 21882,\n",
       " 'remember': 60291,\n",
       " 'sweet': 69854,\n",
       " 'aunty': 7164,\n",
       " 'kivaorg': 39525,\n",
       " 'local': 42446,\n",
       " 'unemployed': 74300,\n",
       " 'year': 79224,\n",
       " 'started': 68164,\n",
       " 'making': 43522,\n",
       " 'organic': 51705,\n",
       " 'bread': 10323,\n",
       " 'sell': 64932,\n",
       " 'street': 68664,\n",
       " 'buy': 11197,\n",
       " 'ingredient': 36342,\n",
       " 'roaster': 62714,\n",
       " 'ask': 6635,\n",
       " 'impact': 35369,\n",
       " 'student': 68827,\n",
       " 'educate': 22167,\n",
       " 'condition': 15263,\n",
       " 'deserve': 18814,\n",
       " 'happy': 31353,\n",
       " 'healthy': 31725,\n",
       " 'safe': 63566,\n",
       " 'access': 2982,\n",
       " 'capital': 11805,\n",
       " 'allows': 4625,\n",
       " 'obviously': 50650,\n",
       " 'ready': 59263,\n",
       " 'cause': 12318,\n",
       " 'holding': 32731,\n",
       " 'destroy': 19014,\n",
       " 'connected': 15472,\n",
       " 'globally': 29647,\n",
       " 'allah': 4517,\n",
       " 'peer': 53671,\n",
       " 'husband': 34665,\n",
       " 'adopted': 3587,\n",
       " 'greatest': 30395,\n",
       " 'paraguay': 52939,\n",
       " '29': 1317,\n",
       " 'ago': 3985,\n",
       " 'partial': 53148,\n",
       " 'mission': 45958,\n",
       " 'economic': 22024,\n",
       " 'empowering': 22915,\n",
       " 'innovative': 36514,\n",
       " 'partnership': 53224,\n",
       " 'owner': 52460,\n",
       " 'education': 22174,\n",
       " 'relationship': 60136,\n",
       " 'instagram': 36679,\n",
       " 'follower': 27146,\n",
       " 'marketing': 44017,\n",
       " 'strategy': 68636,\n",
       " 'comment': 14588,\n",
       " 'biz': 9503,\n",
       " 'hack': 31006,\n",
       " 'offering': 50826,\n",
       " 'tangible': 70398,\n",
       " 'diligently': 19700,\n",
       " 'retail': 61066,\n",
       " 'sustainable': 69757,\n",
       " 'promote': 57501,\n",
       " 'dignity': 19655,\n",
       " 'vpn': 76604,\n",
       " 'enabling': 22998,\n",
       " 'uncle': 74134,\n",
       " 'aunt': 7162,\n",
       " 'think': 71620,\n",
       " 'startup': 68208,\n",
       " 'appropriately': 6010,\n",
       " 'evolving': 24806,\n",
       " 'coachsports': 14133,\n",
       " 'psychologist': 58102,\n",
       " 'unique': 74433,\n",
       " 'mainstream': 43438,\n",
       " 'counseling': 16491,\n",
       " 'method': 45215,\n",
       " 'wheel': 77595,\n",
       " 'instead': 36709,\n",
       " 'dark': 17738,\n",
       " 'intimidating': 37121,\n",
       " 'therapist': 71453,\n",
       " 'office': 50833,\n",
       " 'engaging': 23214,\n",
       " 'welcoming': 77374,\n",
       " 'refreshing': 59865,\n",
       " 'outdoors': 52203,\n",
       " 'inspire': 36662,\n",
       " 'fitness': 26806,\n",
       " 'activity': 3329,\n",
       " 'scientifically': 64350,\n",
       " 'proven': 57760,\n",
       " 'benefit': 8789,\n",
       " 'emotional': 22826,\n",
       " 'mental': 44935,\n",
       " 'illness': 35203,\n",
       " 'body': 9822,\n",
       " 'chemistry': 13113,\n",
       " 'active': 3310,\n",
       " 'counselling': 16492,\n",
       " 'encouraging': 23061,\n",
       " 'reinforcing': 60064,\n",
       " 'positive': 55894,\n",
       " 'lifestyle': 41583,\n",
       " 'likely': 41693,\n",
       " 'sustained': 69764,\n",
       " 'personal': 54200,\n",
       " 'launching': 40633,\n",
       " 'lifecycle': 41436,\n",
       " 'encouragement': 23057,\n",
       " 'financial': 26564,\n",
       " 'challenge': 12719,\n",
       " 'caused': 12320,\n",
       " 'selfish': 64839,\n",
       " 'ignorant': 35107,\n",
       " 'greed': 30429,\n",
       " 'simply': 66058,\n",
       " 'reserve': 60763,\n",
       " 'bank': 7976,\n",
       " 'account': 3065,\n",
       " 'moment': 46289,\n",
       " 'doesnt': 20456,\n",
       " 'significant': 65954,\n",
       " 'particularly': 53184,\n",
       " 'gifted': 29322,\n",
       " 'coach': 14129,\n",
       " 'skill': 66374,\n",
       " 'truly': 73412,\n",
       " 'engage': 23209,\n",
       " 'taught': 70517,\n",
       " 'classroom': 13892,\n",
       " 'dna': 20365,\n",
       " 'carmel': 12036,\n",
       " 'effective': 22255,\n",
       " 'fitbit': 26798,\n",
       " 'tracker': 72762,\n",
       " 'bianchi': 9178,\n",
       " 'bicycle': 9211,\n",
       " 'hammer': 31128,\n",
       " 'nutrition': 50333,\n",
       " 'core': 16253,\n",
       " 'value': 75375,\n",
       " 'effort': 22311,\n",
       " 'commitment': 14633,\n",
       " 'client': 13977,\n",
       " 'summarized': 69393,\n",
       " 'worth': 78575,\n",
       " 'enjoy': 23266,\n",
       " 'belive': 8684,\n",
       " 'great': 30387,\n",
       " 'earth': 21846,\n",
       " 'friendly': 27976,\n",
       " 'reshape': 60772,\n",
       " 'businesscareer': 10991,\n",
       " 'lead': 40726,\n",
       " 'confidence': 15348,\n",
       " 'forward': 27543,\n",
       " 'looking': 42653,\n",
       " 'foster': 27606,\n",
       " 'intersect': 37072,\n",
       " 'learning': 40765,\n",
       " 'financing': 26596,\n",
       " 'ass': 6705,\n",
       " 'celebrate': 12444,\n",
       " 'mother': 46740,\n",
       " 'father': 25965,\n",
       " 'child': 13230,\n",
       " 'bless': 9601,\n",
       " 'christ': 13436,\n",
       " 'news': 48500,\n",
       " 'awesome': 7540,\n",
       " 'especially': 24212,\n",
       " 'necessity': 48081,\n",
       " 'requirement': 60707,\n",
       " 'pain': 52719,\n",
       " 'needy': 48227,\n",
       " 'say': 64099,\n",
       " 'face': 25479,\n",
       " 'enable': 22991,\n",
       " 'pursue': 58352,\n",
       " 'execution': 24949,\n",
       " 'idea': 34951,\n",
       " 'growth': 30624,\n",
       " 'encourage': 23052,\n",
       " 'entrepreneurial': 23606,\n",
       " 'countires': 16519,\n",
       " 'aid': 4101,\n",
       " 'wanting': 76879,\n",
       " 'teacher': 70581,\n",
       " 'fundraiser': 28272,\n",
       " 'graduated': 30173,\n",
       " 'university': 74486,\n",
       " 'dar': 17719,\n",
       " 'e': 21788,\n",
       " 'salaam': 63670,\n",
       " '2013': 956,\n",
       " 'currently': 17291,\n",
       " 'society': 66774,\n",
       " 'young': 79391,\n",
       " 'point': 55485,\n",
       " 'doubtnhence': 20881,\n",
       " 'selve': 64956,\n",
       " 'poultry': 56123,\n",
       " 'keeping': 39001,\n",
       " 'employ': 22874,\n",
       " 'youth': 79503,\n",
       " 'strives': 68741,\n",
       " 'employment': 22891,\n",
       " 'currentlynnin': 17292,\n",
       " 'rural': 63182,\n",
       " 'comprises': 15071,\n",
       " 'number': 50277,\n",
       " 'belong': 8715,\n",
       " 'hardship': 31410,\n",
       " 'zero': 79770,\n",
       " 'haritage': 31436,\n",
       " 'experince': 25156,\n",
       " 'layer': 40694,\n",
       " 'extension': 25293,\n",
       " 'officer': 50839,\n",
       " 'rufiji': 63103,\n",
       " 'districtnntherefore': 20229,\n",
       " 'ne': 47998,\n",
       " 'entire': 23499,\n",
       " 'famous': 25814,\n",
       " 'game': 28612,\n",
       " 'selous': 64948,\n",
       " 'market': 44008,\n",
       " 'egg': 22340,\n",
       " 'broiler': 10522,\n",
       " 'escort': 24132,\n",
       " 'service': 65225,\n",
       " 'growing': 30603,\n",
       " 'snaili': 66667,\n",
       " 'extimate': 25322,\n",
       " 'borrow': 10046,\n",
       " '4000usa': 1669,\n",
       " 'snail': 66666,\n",
       " 'high': 32425,\n",
       " 'demand': 18383,\n",
       " 'use': 75017,\n",
       " 'profit': 57284,\n",
       " 'kid': 39304,\n",
       " 'lift': 41639,\n",
       " 'ni': 49089,\n",
       " 'save': 64062,\n",
       " 'lifeni': 41481,\n",
       " 'recognise': 59587,\n",
       " 'power': 56277,\n",
       " 'trust': 73422,\n",
       " 'caring': 12008,\n",
       " 'unsupported': 74653,\n",
       " 'using': 75048,\n",
       " 'limited': 41745,\n",
       " 'income': 35699,\n",
       " 'far': 25843,\n",
       " '25': 1165,\n",
       " 'dollar': 20543,\n",
       " 'send': 65010,\n",
       " 'today': 72241,\n",
       " 'contributes': 15999,\n",
       " 'starting': 68191,\n",
       " 'somebody': 67044,\n",
       " 'tomorrow': 72391,\n",
       " 'timely': 72010,\n",
       " 'giving': 29512,\n",
       " 'serving': 65290,\n",
       " 'action': 3288,\n",
       " 'heal': 31690,\n",
       " 'transform': 72936,\n",
       " 'soul': 67365,\n",
       " 'deeply': 18163,\n",
       " 'heart': 31748,\n",
       " 'casino': 12191,\n",
       " 'night': 49206,\n",
       " 'diego': 19413,\n",
       " 'grassroots': 30323,\n",
       " 'deserves': 18822,\n",
       " 'imprintnnwe': 35544,\n",
       " 'bridge': 10415,\n",
       " 'continent': 15868,\n",
       " 'culture': 17221,\n",
       " 'perceived': 53997,\n",
       " 'barrier': 8107,\n",
       " 'separate': 65100,\n",
       " 'butuh': 11195,\n",
       " 'uang': 73875,\n",
       " 'mendesak': 44856,\n",
       " 'untuk': 74699,\n",
       " 'membayar': 44774,\n",
       " 'tagihan': 70232,\n",
       " 'export': 25213,\n",
       " 'product': 57170,\n",
       " 'uk': 73970,\n",
       " 'farmer': 25874,\n",
       " 'endeavor': 23091,\n",
       " 'loaning': 42343,\n",
       " 'hopefully': 32923,\n",
       " 'invest': 37257,\n",
       " 'wellbeing': 77388,\n",
       " 'proud': 57744,\n",
       " 'compagny': 14803,\n",
       " 'benefactress': 8775,\n",
       " 'gosh': 30050,\n",
       " 'spend': 67628,\n",
       " 'mediocre': 44596,\n",
       " 'restaurant': 60975,\n",
       " 'dinner': 19758,\n",
       " 'lend': 40959,\n",
       " 'eat': 21918,\n",
       " 'tonight': 72417,\n",
       " 'educational': 22177,\n",
       " 'course': 16638,\n",
       " 'travel': 73053,\n",
       " 'ive': 37869,\n",
       " 'accepted': 2971,\n",
       " 'summer': 69399,\n",
       " 'medical': 44562,\n",
       " 'flight': 26942,\n",
       " 'ticket': 71905,\n",
       " 'accommodation': 3021,\n",
       " 'month': 46487,\n",
       " 'investment': 37286,\n",
       " 'forex': 27342,\n",
       " 'trading': 72796,\n",
       " 'boston': 10082,\n",
       " 'lorem': 42699,\n",
       " 'ipsum': 37427,\n",
       " 'dummy': 21308,\n",
       " 'text': 71095,\n",
       " 'printing': 56918,\n",
       " 'typesetting': 73756,\n",
       " 'industry': 36079,\n",
       " '1500s': 482,\n",
       " 'unknown': 74512,\n",
       " 'printer': 56911,\n",
       " 'took': 72437,\n",
       " 'galley': 28587,\n",
       " 'type': 73752,\n",
       " 'scrambled': 64403,\n",
       " 'specimen': 67586,\n",
       " 'book': 9944,\n",
       " 'survived': 69717,\n",
       " 'century': 12542,\n",
       " 'leap': 40753,\n",
       " 'electronic': 22548,\n",
       " 'remaining': 60266,\n",
       " 'essentially': 24283,\n",
       " 'unchanged': 74131,\n",
       " 'huge': 34468,\n",
       " 'key': 39148,\n",
       " 'word': 78206,\n",
       " 'fair': 25586,\n",
       " 'admire': 3563,\n",
       " 'harmony': 31454,\n",
       " 'tier': 71940,\n",
       " 'review': 61225,\n",
       " 'rip': 61511,\n",
       " 'result': 61041,\n",
       " 'innovation': 36512,\n",
       " 'corporate': 16291,\n",
       " 'video': 76023,\n",
       " 'production': 57173,\n",
       " 'london': 42586,\n",
       " 'helpful': 31953,\n",
       " 'rock': 62758,\n",
       " 'sock': 66806,\n",
       " 'planning': 55110,\n",
       " 'gym': 30862,\n",
       " 'hardcore': 31393,\n",
       " 'routine': 62995,\n",
       " 'shy': 65833,\n",
       " 'regular': 60004,\n",
       " '500': 1838,\n",
       " 'fee': 26118,\n",
       " 'receive': 59441,\n",
       " 'garment': 28733,\n",
       " 'design': 18835,\n",
       " 'baby': 7675,\n",
       " 'clothes': 14065,\n",
       " 'fight': 26443,\n",
       " 'tool': 72439,\n",
       " 'needed': 48108,\n",
       " 'selfsufficient': 64902,\n",
       " 'fun': 28236,\n",
       " 'supported': 69541,\n",
       " 'andor': 5214,\n",
       " 'seasonal': 64501,\n",
       " 'movie': 46865,\n",
       " 'shop': 65693,\n",
       " 'finish': 26669,\n",
       " 'paying': 53499,\n",
       " 'taxista': 70549,\n",
       " 'software': 66851,\n",
       " 'developed': 19131,\n",
       " 'talixo': 70323,\n",
       " 'berlin': 8901,\n",
       " 'germany': 29149,\n",
       " 'whats': 77584,\n",
       " 'duck': 21262,\n",
       " 'hunt': 34636,\n",
       " 'providing': 57788,\n",
       " 'builder': 10781,\n",
       " 'license': 41357,\n",
       " 'gain': 28541,\n",
       " 'bachelor': 7690,\n",
       " 'master': 44168,\n",
       " 'management': 43647,\n",
       " 'accomplish': 3037,\n",
       " 'different': 19558,\n",
       " 'seeking': 64638,\n",
       " 'site': 66230,\n",
       " 'naïve': 47943,\n",
       " 'drive': 21132,\n",
       " 'ambition': 4896,\n",
       " 'determination': 19057,\n",
       " 'location': 42472,\n",
       " 'circumstance': 13715,\n",
       " 'birth': 9412,\n",
       " 'inspired': 36664,\n",
       " 'determined': 19061,\n",
       " 'capacity': 11785,\n",
       " 'nation': 47833,\n",
       " 'level': 41225,\n",
       " 'burj': 10921,\n",
       " 'foundation': 27634,\n",
       " 'marginalized': 43947,\n",
       " 'notion': 50016,\n",
       " 'organize': 51757,\n",
       " 'group': 30575,\n",
       " 'collective': 14341,\n",
       " 'leading': 40735,\n",
       " 'selfreliance': 64866,\n",
       " 'empowerment': 22917,\n",
       " 'poker': 55516,\n",
       " 'indonesia': 36030,\n",
       " 'compassion': 14884,\n",
       " 'luxury': 43083,\n",
       " 'responsibility': 60918,\n",
       " 'escape': 24115,\n",
       " 'given': 29442,\n",
       " 'planet': 55082,\n",
       " 'donate': 20621,\n",
       " 'naked': 47678,\n",
       " 'truth': 73436,\n",
       " 'wonderful': 78156,\n",
       " 'satisfaction': 63983,\n",
       " 'quality': 58541,\n",
       " 'reward': 61266,\n",
       " 'sharing': 65520,\n",
       " 'hurdle': 34646,\n",
       " 'inneed': 36492,\n",
       " 'themselve': 71321,\n",
       " 'borrower': 10050,\n",
       " 'example': 24849,\n",
       " 'positively': 55895,\n",
       " 'challenging': 12725,\n",
       " 'raise': 58960,\n",
       " 'enrich': 23340,\n",
       " 'httpwwwpunterlinkinnmr': 34302,\n",
       " 'prince': 56868,\n",
       " '09674125083nwelcome': 98,\n",
       " 'mumbai': 47130,\n",
       " 'independent': 35844,\n",
       " 'provider': 57779,\n",
       " 'punterlinknhello': 58269,\n",
       " 'punter': 58268,\n",
       " 'mumbain': 47131,\n",
       " 'nit': 49292,\n",
       " '’': 82227,\n",
       " 's': 63469,\n",
       " 'residence': 60777,\n",
       " 'n': 47546,\n",
       " 'nnow': 49606,\n",
       " 'erotic': 24050,\n",
       " 'massage': 44151,\n",
       " 'parlor': 53086,\n",
       " 'enjoyment': 23271,\n",
       " 'rid': 61397,\n",
       " 'daily': 17589,\n",
       " 'pleasure': 55241,\n",
       " 'onceni': 51138,\n",
       " 'sure': 69630,\n",
       " 'satisfied': 63996,\n",
       " 'recommend': 59606,\n",
       " 'friend': 27968,\n",
       " 'nmr': 49363,\n",
       " '09674125083nemail': 97,\n",
       " 'monaroy986gmailcomnwebsite': 46309,\n",
       " 'url': 74865,\n",
       " 'httpwwwpunterlinkin': 34301,\n",
       " 'mobil': 46104,\n",
       " 'chatmobil': 13009,\n",
       " 'sohbetmobil': 66877,\n",
       " 'muhabbetmobil': 47033,\n",
       " 'çettelefon': 80130,\n",
       " 'chat': 13005,\n",
       " 'telefon': 70721,\n",
       " 'sohbetcep': 66875,\n",
       " 'chatcep': 13006,\n",
       " 'muhabbetcep': 47032,\n",
       " 'çet': 80129,\n",
       " 'reinawapcom': 60054,\n",
       " 'charity': 12932,\n",
       " 'zakat': 79626,\n",
       " 'struggle': 68792,\n",
       " 'having': 31609,\n",
       " 'recognize': 59593,\n",
       " 'realistic': 59298,\n",
       " 'single': 66125,\n",
       " 'household': 33065,\n",
       " 'loving': 42842,\n",
       " 'extended': 25286,\n",
       " 'person': 54196,\n",
       " 'process': 57102,\n",
       " 'cornerstone': 16275,\n",
       " 'engagement': 23211,\n",
       " 'exportimport': 25219,\n",
       " 'turkey': 73617,\n",
       " 'china': 13302,\n",
       " 'possible': 55943,\n",
       " 'going': 29878,\n",
       " 'necesito': 48060,\n",
       " 'una': 74065,\n",
       " 'mensualidad': 44926,\n",
       " 'pues': 58194,\n",
       " 'gano': 28674,\n",
       " 'muy': 47279,\n",
       " 'poco': 55404,\n",
       " 'tengo': 70864,\n",
       " 'debilidad': 18021,\n",
       " 'visual': 76285,\n",
       " 'y': 79165,\n",
       " 'auditiva': 7101,\n",
       " 'que': 58611,\n",
       " 'mantener': 43820,\n",
       " 'familia': 25686,\n",
       " 'clean': 13912,\n",
       " 'drinking': 21123,\n",
       " 'rehabilitate': 60024,\n",
       " 'disabled': 19872,\n",
       " 'beggar': 8525,\n",
       " 'kaduna': 38731,\n",
       " 'nigeria': 49199,\n",
       " 'manufactured': 43839,\n",
       " 'easily': 21891,\n",
       " 'suicide': 69312,\n",
       " 'bombing': 9892,\n",
       " 'agriculture': 4038,\n",
       " 'graduate': 30172,\n",
       " 'fell': 26204,\n",
       " 'exam': 24836,\n",
       " 'commercial': 14601,\n",
       " 'vehicle': 75580,\n",
       " 'driving': 21144,\n",
       " 'purchase': 58290,\n",
       " 'kindly': 39392,\n",
       " 'return': 61139,\n",
       " 'doller': 20557,\n",
       " 'begging': 8528,\n",
       " '1172095823001': 289,\n",
       " 'faisal': 25610,\n",
       " 'mm': 46075,\n",
       " 'alam': 4286,\n",
       " 'branchlahore': 10268,\n",
       " 'opportunityalso': 51485,\n",
       " 'facilitate': 25506,\n",
       " 'ecofriendliness': 21997,\n",
       " 'green': 30435,\n",
       " 'received': 59444,\n",
       " 'gift': 29317,\n",
       " 'card': 11907,\n",
       " 'son': 67153,\n",
       " 'increased': 35759,\n",
       " 'area': 6210,\n",
       " 'contractor': 15937,\n",
       " 'workforce': 78254,\n",
       " 'funding': 28263,\n",
       " 'usd': 75004,\n",
       " '3000': 1384,\n",
       " 'reduce': 59773,\n",
       " 'unemployment': 74301,\n",
       " 'deal': 17972,\n",
       " 'nonprofit': 49818,\n",
       " 'dedicated': 18130,\n",
       " 'character': 12892,\n",
       " 'strong': 68760,\n",
       " 'extra': 25332,\n",
       " 'pocket': 55399,\n",
       " 'generate': 28973,\n",
       " 'comunnyti': 15141,\n",
       " 'lyft': 43101,\n",
       " 'choose': 13401,\n",
       " 'microlending': 45479,\n",
       " 'useful': 75021,\n",
       " 'honorable': 32872,\n",
       " 'compassionate': 14885,\n",
       " 'lived': 42077,\n",
       " '”': 82229,\n",
       " 'n―': 50474,\n",
       " 'ralph': 59000,\n",
       " 'waldo': 76805,\n",
       " 'emerson': 22798,\n",
       " 'duty': 21422,\n",
       " 'spiritual': 67720,\n",
       " 'journey': 38469,\n",
       " 'greater': 30391,\n",
       " 'peace': 53578,\n",
       " 'bigger': 9267,\n",
       " 'birthday': 9416,\n",
       " 'party': 53246,\n",
       " 'mom': 46285,\n",
       " 'benevolence': 8806,\n",
       " 'almighty': 4685,\n",
       " 'specially': 67570,\n",
       " 'destitution': 19009,\n",
       " 'eliminated': 22611,\n",
       " 'proyecto': 57829,\n",
       " 'tener': 70854,\n",
       " 'restaurante': 60978,\n",
       " 'ser': 65130,\n",
       " 'independiente': 35855,\n",
       " 'field': 26416,\n",
       " 'construction': 15738,\n",
       " 'infrastructure': 36294,\n",
       " 'increase': 35758,\n",
       " 'productivity': 57187,\n",
       " 'refill': 59817,\n",
       " 'inventory': 37240,\n",
       " 'equipment': 23923,\n",
       " 'housing': 33088,\n",
       " 'booster': 9983,\n",
       " 'locally': 42458,\n",
       " 'passion': 53317,\n",
       " 'played': 55197,\n",
       " 'soccer': 66734,\n",
       " 'team': 70593,\n",
       " 'wrong': 78660,\n",
       " 'path': 53382,\n",
       " 'bad': 7784,\n",
       " 'play': 55193,\n",
       " 'amazing': 4871,\n",
       " 'sport': 67809,\n",
       " 'overwhelmed': 52431,\n",
       " 'beauty': 8379,\n",
       " 'possibility': 55936,\n",
       " 'advocate': 3706,\n",
       " 'scale': 64142,\n",
       " 'soap': 66718,\n",
       " 'detergent': 19048,\n",
       " 'imx': 35599,\n",
       " 'grade': 30162,\n",
       " 'diversifying': 20276,\n",
       " 'brings': 10471,\n",
       " 'joy': 38485,\n",
       " 'interact': 36878,\n",
       " 'learned': 40762,\n",
       " 'lot': 42737,\n",
       " 'really': 59349,\n",
       " 'smart': 66584,\n",
       " 'talented': 70310,\n",
       " 'contribution': 16002,\n",
       " ...}"
      ]
     },
     "execution_count": 155,
     "metadata": {},
     "output_type": "execute_result"
    }
   ],
   "source": [
    "vect.vocabulary_"
   ]
  },
  {
   "cell_type": "code",
   "execution_count": 158,
   "metadata": {},
   "outputs": [],
   "source": [
    "# Step 3. Build NMF model\n",
    "topic_num = \n",
    "\n",
    "nmf_model = NMF(n_components=topic_num, random_state=1,alpha=.1, l1_ratio=.5)\n",
    "W = nmf_model.fit_transform(model)\n",
    "H = nmf_model.components_\n"
   ]
  },
  {
   "cell_type": "code",
   "execution_count": 157,
   "metadata": {},
   "outputs": [
    {
     "name": "stdout",
     "output_type": "stream",
     "text": [
      "Topic #0:\n",
      "help need like way little able feel fortunate great good\n",
      "Topic #1:\n",
      "make difference life world better small place way feel little\n",
      "Topic #2:\n",
      "want world share blessed woman business better succeed life support\n",
      "Topic #3:\n",
      "people helping life believe need like way world love better\n",
      "Topic #4:\n",
      "care world family loan human people woman god know u\n",
      "\n"
     ]
    }
   ],
   "source": [
    "# Step 4. Print top 10 features from each cluster\n",
    "def print_top_words(model, feature_names, n_top_words):\n",
    "    for topic_idx, topic in enumerate(model.components_):\n",
    "        print(\"Topic #%d:\" % topic_idx)\n",
    "        print(\" \".join([feature_names[i]\n",
    "                        for i in topic.argsort()[:-n_top_words - 1:-1]]))\n",
    "    print()\n",
    "print_top_words(nmf_model,features,10)"
   ]
  },
  {
   "cell_type": "code",
   "execution_count": 160,
   "metadata": {},
   "outputs": [
    {
     "name": "stdout",
     "output_type": "stream",
     "text": [
      "Topic #0:\n",
      "help people need like way helping life love great little\n",
      "Topic #1:\n",
      "make difference life world better small believe people way place\n",
      "Topic #2:\n",
      "want help world share woman blessed succeed business support change\n",
      "\n"
     ]
    }
   ],
   "source": [
    "print_top_words(nmf_model,features,10)"
   ]
  },
  {
   "cell_type": "code",
   "execution_count": 161,
   "metadata": {},
   "outputs": [],
   "source": [
    "import plotly"
   ]
  },
  {
   "cell_type": "code",
   "execution_count": 162,
   "metadata": {},
   "outputs": [],
   "source": [
    "from sklearn.metrics import silhouette_score"
   ]
  },
  {
   "cell_type": "code",
   "execution_count": null,
   "metadata": {},
   "outputs": [],
   "source": [
    "\n"
   ]
  },
  {
   "cell_type": "markdown",
   "metadata": {},
   "source": [
    "## Loans EDA"
   ]
  },
  {
   "cell_type": "code",
   "execution_count": null,
   "metadata": {},
   "outputs": [],
   "source": [
    "df[['DESCRIPTION', 'DESCRIPTION_TRANSLATED','IMAGE_ID',\n",
    "              'VIDEO_ID', 'NUM_JOURNAL_ENTRIES', 'TAGS', 'NUM_BULK_ENTRIES']].head()"
   ]
  },
  {
   "cell_type": "code",
   "execution_count": null,
   "metadata": {},
   "outputs": [],
   "source": [
    "total = df.isnull().sum().sort_values(ascending = False)\n",
    "percent = (df.isnull().sum()/df.isnull().count()).sort_values(ascending = False)\n",
    "missing_data = pd.concat([total, percent], axis=1, keys=['Total Missings', 'Percent Missings'])\n",
    "missing_data"
   ]
  },
  {
   "cell_type": "code",
   "execution_count": null,
   "metadata": {},
   "outputs": [],
   "source": [
    "# Drop columns we don't need\n",
    "df = df.drop(['DESCRIPTION', 'DESCRIPTION_TRANSLATED','IMAGE_ID',\n",
    "              'VIDEO_ID', 'NUM_JOURNAL_ENTRIES', 'TAGS', 'NUM_BULK_ENTRIES',\n",
    "              ], axis=1)"
   ]
  },
  {
   "cell_type": "code",
   "execution_count": null,
   "metadata": {},
   "outputs": [],
   "source": [
    "df.columns"
   ]
  },
  {
   "cell_type": "code",
   "execution_count": null,
   "metadata": {},
   "outputs": [],
   "source": [
    "pd.options.display.max_rows = 999\n",
    "pd.options.display.max_columns = 999\n",
    "df.head()"
   ]
  },
  {
   "cell_type": "code",
   "execution_count": null,
   "metadata": {},
   "outputs": [],
   "source": [
    "df.STATUS.value_counts()"
   ]
  },
  {
   "cell_type": "code",
   "execution_count": null,
   "metadata": {},
   "outputs": [],
   "source": [
    "df['diff_posted_planned'] = df['PLANNED_EXPIRATION_TIME'].sub(df['POSTED_TIME'], axis=0)\n",
    "df['diff_posted_planned'] = df['diff_posted_planned'] / np.timedelta64(1, 'D')"
   ]
  },
  {
   "cell_type": "code",
   "execution_count": null,
   "metadata": {},
   "outputs": [],
   "source": [
    "df['diff_posted_raised'] = df['RAISED_TIME'].sub(df['POSTED_TIME'], axis=0)\n",
    "df['diff_posted_raised'] = df['diff_posted_raised'] / np.timedelta64(1, 'D')"
   ]
  },
  {
   "cell_type": "code",
   "execution_count": null,
   "metadata": {},
   "outputs": [],
   "source": [
    "df.head()"
   ]
  },
  {
   "cell_type": "code",
   "execution_count": null,
   "metadata": {},
   "outputs": [],
   "source": [
    "# Empirical expiration time is about 103 days for direct loans\n",
    "df[df['DISTRIBUTION_MODEL']=='direct']['diff_posted_planned'].mean()"
   ]
  },
  {
   "cell_type": "code",
   "execution_count": null,
   "metadata": {},
   "outputs": [],
   "source": [
    "# Empirical expiration time is about 37 days for field-partner loans\n",
    "df[df['DISTRIBUTION_MODEL']=='field_partner']['diff_posted_planned'].mean()"
   ]
  },
  {
   "cell_type": "code",
   "execution_count": null,
   "metadata": {},
   "outputs": [],
   "source": [
    "# Average time (in days) it takes to fund direct loan\n",
    "df[df['DISTRIBUTION_MODEL']=='direct']['diff_posted_raised'].mean()"
   ]
  },
  {
   "cell_type": "code",
   "execution_count": null,
   "metadata": {},
   "outputs": [],
   "source": [
    "# Average time (in days) it takes to fund field-partner loan\n",
    "df[df['DISTRIBUTION_MODEL']=='field_partner']['diff_posted_raised'].mean()"
   ]
  },
  {
   "cell_type": "code",
   "execution_count": null,
   "metadata": {},
   "outputs": [],
   "source": [
    "# Checking for missing data\n",
    "total = df.isnull().sum().sort_values(ascending = False)\n",
    "percent = (df.isnull().sum()/df.isnull().count()).sort_values(ascending = False)\n",
    "missing_data = pd.concat([total, percent], axis=1, keys=['Total Missings', 'Percent Missings'])\n",
    "missing_data"
   ]
  },
  {
   "cell_type": "code",
   "execution_count": null,
   "metadata": {},
   "outputs": [],
   "source": [
    "df['REPAYMENT_INTERVAL'].value_counts(1)"
   ]
  },
  {
   "cell_type": "code",
   "execution_count": null,
   "metadata": {},
   "outputs": [],
   "source": [
    "df['STATUS'].value_counts(1)"
   ]
  },
  {
   "cell_type": "code",
   "execution_count": null,
   "metadata": {},
   "outputs": [],
   "source": [
    "df['DISTRIBUTION_MODEL'].value_counts(1)"
   ]
  },
  {
   "cell_type": "code",
   "execution_count": null,
   "metadata": {},
   "outputs": [],
   "source": [
    "# Group vs Individual loans\n",
    "# mask_g = df['BORROWER_GENDERS']!= 'male' & df['BORROWER_GENDERS'] != 'female'\n",
    "df['GROUP'] = np.where(np.logical_and(df['BORROWER_GENDERS']!= 'male', df['BORROWER_GENDERS']!= 'female'), 1, 0)"
   ]
  },
  {
   "cell_type": "code",
   "execution_count": null,
   "metadata": {},
   "outputs": [],
   "source": [
    "df.head()"
   ]
  },
  {
   "cell_type": "markdown",
   "metadata": {},
   "source": [
    "## A closer look... Individual vs. Group loans"
   ]
  },
  {
   "cell_type": "code",
   "execution_count": null,
   "metadata": {},
   "outputs": [],
   "source": [
    "individual = df['GROUP']==0\n",
    "group = df['GROUP']==1"
   ]
  },
  {
   "cell_type": "code",
   "execution_count": null,
   "metadata": {},
   "outputs": [],
   "source": [
    "df['GROUP'].value_counts(1)"
   ]
  },
  {
   "cell_type": "code",
   "execution_count": null,
   "metadata": {},
   "outputs": [],
   "source": [
    "df[['FUNDED_AMOUNT', 'LOAN_AMOUNT', 'LENDER_TERM', 'NUM_LENDERS_TOTAL']][group].describe().T"
   ]
  },
  {
   "cell_type": "code",
   "execution_count": null,
   "metadata": {},
   "outputs": [],
   "source": [
    "df[['FUNDED_AMOUNT', 'LOAN_AMOUNT', 'LENDER_TERM', 'NUM_LENDERS_TOTAL']][individual].describe().T"
   ]
  },
  {
   "cell_type": "code",
   "execution_count": null,
   "metadata": {},
   "outputs": [],
   "source": [
    "# Distribution by group\n",
    "plt.figure(figsize=(20,8))\n",
    "sns.distplot(df[individual]['LOAN_AMOUNT'], hist=False, color='blue', label = 'Individual', kde_kws={'clip': (0, 8000)})\n",
    "sns.distplot(df[group]['LOAN_AMOUNT'], hist=False, color='purple', label = 'Group', kde_kws={'clip': (0, 8000)});\n",
    "plt.axvline(df[individual]['LOAN_AMOUNT'].mean(), color=\"blue\", linestyle=\"--\")\n",
    "plt.axvline(df[group]['LOAN_AMOUNT'].mean(), color=\"purple\", linestyle=\"--\")\n",
    "\n",
    "plt.legend();"
   ]
  },
  {
   "cell_type": "code",
   "execution_count": null,
   "metadata": {},
   "outputs": [],
   "source": [
    "# H0: mu_group - mu_individual = 0\n",
    "# Ha: mu_group - mu_induvidual != 0\n",
    "\n",
    "# alpha = 0.05\n",
    "\n",
    "# T test\n",
    "t, p = sts.ttest_ind(df[individual]['LOAN_AMOUNT'], df[group]['LOAN_AMOUNT'], equal_var=False)\n",
    "\n",
    "# p value\n",
    "print(\"p-value: {:2.2f}\".format(p))"
   ]
  },
  {
   "cell_type": "markdown",
   "metadata": {},
   "source": [
    "## Individual loans, by gender"
   ]
  },
  {
   "cell_type": "code",
   "execution_count": null,
   "metadata": {},
   "outputs": [],
   "source": [
    "# Individual loan splitup by gender\n",
    "male = df['BORROWER_GENDERS']=='male'\n",
    "female = df['']=='female'\n",
    "\n",
    "plt.figure(figsize=(20,8))\n",
    "sns.distplot(df[male]['LOAN_AMOUNT'], hist=False, color='blue', label = 'Men', kde_kws={'clip': (0, 4000)});\n",
    "sns.distplot(df[female]['LOAN_AMOUNT'], hist=False, color='purple', label = 'Women', kde_kws={'clip': (0, 4000)});\n",
    "plt.axvline(df[male]['LOAN_AMOUNT'].mean(), color=\"blue\", linestyle=\"--\")\n",
    "plt.axvline(df[female]['LOAN_AMOUNT'].mean(), color=\"purple\", linestyle=\"--\")\n",
    "plt.legend();"
   ]
  },
  {
   "cell_type": "code",
   "execution_count": null,
   "metadata": {},
   "outputs": [],
   "source": [
    "# H0: mu_male - mu_female = 0\n",
    "# Ha: mu_male - mu_female != 0\n",
    "\n",
    "# alpha = 0.05\n",
    "\n",
    "# T test\n",
    "t, p = sts.ttest_ind(df[male]['LOAN_AMOUNT'], df[female]['LOAN_AMOUNT'], equal_var=False)\n",
    "\n",
    "# p value\n",
    "print(\"p-value: {:2.2f}\".format(p))"
   ]
  },
  {
   "cell_type": "markdown",
   "metadata": {},
   "source": [
    "### Question: Is there gender inequality in access to microfinance?\n",
    "Possible approach to a response: Assuming the average loan amounts are a viable proxy for gender inequality in micro-finance, we can run t-tests to see if there are significant differences between men and women's average individual loan amount by country."
   ]
  },
  {
   "cell_type": "code",
   "execution_count": null,
   "metadata": {},
   "outputs": [],
   "source": [
    "# Step 1: State the null and alternative hypotheses\n",
    "# H0: mu_male - mu_female = 0\n",
    "# Ha: mu_male - mu_female != 0\n",
    "\n",
    "# Step 2: Significance level: \n",
    "alpha = 0.05\n",
    "\n",
    "# Steps 3 and 4: Compute t-tests and p-values\n",
    "d = {}\n",
    "for country in set(df['COUNTRY_NAME']):\n",
    "    t, p = sts.ttest_ind(df[male & (df['COUNTRY_NAME'] == country)]['LOAN_AMOUNT'], df[female & (df['COUNTRY_NAME'] == country)]['LOAN_AMOUNT'], equal_var=False)\n",
    "    d[country] = (p <= alpha)\n",
    "d\n",
    "\n",
    "# Step 5: Compare the p-value to alpha and decide.\n",
    "# True: reject H0 that there is no difference between men and women."
   ]
  },
  {
   "cell_type": "markdown",
   "metadata": {},
   "source": [
    "## More EDA to look for other interesting questions..."
   ]
  },
  {
   "cell_type": "code",
   "execution_count": null,
   "metadata": {},
   "outputs": [],
   "source": [
    "# Count Plot by Sector\n",
    "plt.figure(figsize=(15,4))\n",
    "sns.countplot(x='SECTOR_NAME', data=df, orient='h', order = df['SECTOR_NAME'].value_counts().index)\n",
    "plt.xticks(rotation='vertical')\n",
    "plt.ylabel('Number of loans')\n",
    "plt.xlabel('Sector Name')\n",
    "plt.title(\"Number of Loans By Sector\");"
   ]
  },
  {
   "cell_type": "code",
   "execution_count": null,
   "metadata": {},
   "outputs": [],
   "source": [
    "# Calculate correlations\n",
    "# df[['SECTOR_NAME', 'COUNTRY_NAME']]\n",
    "\n",
    "# Heatmap\n",
    "\n",
    "def count_rows(x):\n",
    "    return len(x)\n",
    "\n",
    "g = df.groupby(['SECTOR_NAME','COUNTRY_NAME']).apply(count_rows).unstack()\n",
    "plt.figure(figsize=(16,4))\n",
    "sns.heatmap(g, cmap='Blues', linewidth=0.5);"
   ]
  },
  {
   "cell_type": "code",
   "execution_count": null,
   "metadata": {},
   "outputs": [],
   "source": [
    "# By Activity\n",
    "df['ACTIVITY_NAME'].value_counts(1).head(10)"
   ]
  },
  {
   "cell_type": "markdown",
   "metadata": {},
   "source": [
    "## Model: Field Partners vs. Direct"
   ]
  },
  {
   "cell_type": "code",
   "execution_count": null,
   "metadata": {},
   "outputs": [],
   "source": [
    "# Field Partners\n",
    "plt.figure(figsize=(16,8))\n",
    "sns.boxplot(x='COUNTRY_NAME', y='LOAN_AMOUNT', data=df[df['DISTRIBUTION_MODEL']=='field_partner'])\n",
    "plt.xticks(rotation='vertical')\n",
    "plt.ylim(0,10000);"
   ]
  },
  {
   "cell_type": "code",
   "execution_count": null,
   "metadata": {},
   "outputs": [],
   "source": [
    "# Direct\n",
    "plt.figure(figsize=(8,4))\n",
    "sns.boxplot(x='COUNTRY_NAME', y='LOAN_AMOUNT', data=df[df['DISTRIBUTION_MODEL']=='direct'])\n",
    "plt.xticks(rotation='vertical');\n",
    "plt.ylim(0,10000);"
   ]
  },
  {
   "cell_type": "code",
   "execution_count": null,
   "metadata": {},
   "outputs": [],
   "source": [
    "g_country = df.groupby('COUNTRY_NAME')\n",
    "g_country['LOAN_AMOUNT'].sum().sort_values(ascending=False).head(10)"
   ]
  },
  {
   "cell_type": "code",
   "execution_count": null,
   "metadata": {},
   "outputs": [],
   "source": [
    "df.sort_values?"
   ]
  },
  {
   "cell_type": "code",
   "execution_count": null,
   "metadata": {},
   "outputs": [],
   "source": [
    "import seaborn as sns\n",
    "corr = df[['LOAN_AMOUNT', 'LENDER_TERM', 'NUM_LENDERS_TOTAL', 'GROUP']].corr()\n",
    "sns.heatmap(corr, \n",
    "            xticklabels=corr.columns.values,\n",
    "            yticklabels=corr.columns.values,\n",
    "           cmap='Blues')"
   ]
  },
  {
   "cell_type": "code",
   "execution_count": null,
   "metadata": {},
   "outputs": [],
   "source": [
    "corr"
   ]
  },
  {
   "cell_type": "code",
   "execution_count": null,
   "metadata": {},
   "outputs": [],
   "source": [
    "df[male].describe().T"
   ]
  },
  {
   "cell_type": "code",
   "execution_count": null,
   "metadata": {},
   "outputs": [],
   "source": [
    "df[female].describe().transpose()"
   ]
  },
  {
   "cell_type": "code",
   "execution_count": null,
   "metadata": {},
   "outputs": [],
   "source": [
    "g = sns.lmplot(x=\"LOAN_AMOUNT\", y=\"NUM_LENDERS_TOTAL\", hue = 'BORROWER_GENDERS',\n",
    "               truncate=True, size=8, data=df[individual])\n",
    "g.set_axis_labels(\"Loan Size\", \"Number of Lenders\");"
   ]
  },
  {
   "cell_type": "code",
   "execution_count": null,
   "metadata": {},
   "outputs": [],
   "source": [
    "g = sns.lmplot(x=\"LOAN_AMOUNT\", y=\"NUM_LENDERS_TOTAL\", hue='GROUP',\n",
    "               truncate=True, size=5, data=df)\n",
    "g.set_axis_labels(\"Loan Size\", \"Number of Lenders\");"
   ]
  },
  {
   "cell_type": "code",
   "execution_count": null,
   "metadata": {},
   "outputs": [],
   "source": [
    "df2 = pd.read_csv('data/loans_lenders.csv')"
   ]
  },
  {
   "cell_type": "code",
   "execution_count": null,
   "metadata": {},
   "outputs": [],
   "source": [
    "df2.head()"
   ]
  },
  {
   "cell_type": "code",
   "execution_count": null,
   "metadata": {},
   "outputs": [],
   "source": [
    "df.head(1)"
   ]
  },
  {
   "cell_type": "code",
   "execution_count": null,
   "metadata": {},
   "outputs": [],
   "source": [
    "df_join = df.join(df2, on='LOAN_ID', how='left', lsuffix='LoanID')"
   ]
  },
  {
   "cell_type": "code",
   "execution_count": null,
   "metadata": {},
   "outputs": [],
   "source": [
    "df_join.LENDERS.isnull().sum()"
   ]
  },
  {
   "cell_type": "code",
   "execution_count": null,
   "metadata": {},
   "outputs": [],
   "source": [
    "d3 = pd.read_csv('data/lenders.csv')"
   ]
  },
  {
   "cell_type": "code",
   "execution_count": null,
   "metadata": {},
   "outputs": [],
   "source": [
    "d3.head()"
   ]
  },
  {
   "cell_type": "markdown",
   "metadata": {},
   "source": [
    "Other questions?"
   ]
  },
  {
   "cell_type": "code",
   "execution_count": null,
   "metadata": {},
   "outputs": [],
   "source": [
    "d3.COUNTRY_CODE.value_counts(dropna=False)"
   ]
  },
  {
   "cell_type": "code",
   "execution_count": null,
   "metadata": {},
   "outputs": [],
   "source": []
  },
  {
   "cell_type": "code",
   "execution_count": null,
   "metadata": {},
   "outputs": [],
   "source": []
  },
  {
   "cell_type": "code",
   "execution_count": null,
   "metadata": {},
   "outputs": [],
   "source": []
  },
  {
   "cell_type": "code",
   "execution_count": null,
   "metadata": {},
   "outputs": [],
   "source": []
  },
  {
   "cell_type": "code",
   "execution_count": null,
   "metadata": {},
   "outputs": [],
   "source": []
  },
  {
   "cell_type": "markdown",
   "metadata": {},
   "source": [
    "# Story: What factors help the loans get fully funded faster?"
   ]
  },
  {
   "cell_type": "markdown",
   "metadata": {},
   "source": [
    "## Step1. Distribtuion of the difference of post date and raised date"
   ]
  },
  {
   "cell_type": "code",
   "execution_count": null,
   "metadata": {
    "scrolled": true
   },
   "outputs": [],
   "source": [
    "df.head()"
   ]
  },
  {
   "cell_type": "code",
   "execution_count": null,
   "metadata": {},
   "outputs": [],
   "source": [
    "df_clean = df.loc[df.notnull()[\"diff_posted_raised\"],:]\n",
    "df_clean = df_clean[df_clean.diff_posted_raised >= 0]"
   ]
  },
  {
   "cell_type": "code",
   "execution_count": null,
   "metadata": {
    "scrolled": true
   },
   "outputs": [],
   "source": [
    "df_error = df_clean[df_clean.diff_posted_raised < 0]"
   ]
  },
  {
   "cell_type": "code",
   "execution_count": null,
   "metadata": {},
   "outputs": [],
   "source": [
    "df_clean_direct = df_clean[df_clean.DISTRIBUTION_MODEL=='direct']\n",
    "df_clean_partner = df_clean[df_clean.DISTRIBUTION_MODEL=='field_partner']"
   ]
  },
  {
   "cell_type": "code",
   "execution_count": null,
   "metadata": {},
   "outputs": [],
   "source": [
    "df_clean_partner.shape"
   ]
  },
  {
   "cell_type": "code",
   "execution_count": null,
   "metadata": {},
   "outputs": [],
   "source": [
    "sns.distplot(df_clean_partner.diff_posted_raised)\n",
    "plt.xlim(0, 100)"
   ]
  },
  {
   "cell_type": "code",
   "execution_count": null,
   "metadata": {},
   "outputs": [],
   "source": [
    "df_clean_partner[\"diff_posted_planned\"].hist(bins=60)"
   ]
  },
  {
   "cell_type": "code",
   "execution_count": null,
   "metadata": {
    "scrolled": false
   },
   "outputs": [],
   "source": [
    "df_clean.diff_posted_raised.describe()"
   ]
  },
  {
   "cell_type": "markdown",
   "metadata": {},
   "source": [
    "**Median days to get posted loan fully raised are 7.8 days.\n",
    "Mean is 12.6 days.**"
   ]
  },
  {
   "cell_type": "code",
   "execution_count": null,
   "metadata": {},
   "outputs": [],
   "source": [
    "df_clean_partner[\"diff_posted_planned\"].describe()"
   ]
  },
  {
   "cell_type": "markdown",
   "metadata": {},
   "source": [
    "**Some (?) loans have a planned fund raising winder longer than 30 days. \n",
    "That explains why some loans take more than 30 days to get fully funded.**"
   ]
  },
  {
   "cell_type": "code",
   "execution_count": null,
   "metadata": {},
   "outputs": [],
   "source": [
    "df_clean_partner[df_clean_partner.diff_posted_raised > df_clean_partner.diff_posted_planned+2]"
   ]
  },
  {
   "cell_type": "code",
   "execution_count": null,
   "metadata": {},
   "outputs": [],
   "source": [
    "df_clean_partner.STATUS.value_counts()"
   ]
  },
  {
   "cell_type": "markdown",
   "metadata": {},
   "source": [
    "## Step.2 Factors affect the speed for a loan to get fully funded"
   ]
  },
  {
   "cell_type": "code",
   "execution_count": null,
   "metadata": {},
   "outputs": [],
   "source": [
    "plt.scatter(df_clean_partner['LOAN_AMOUNT'],df_clean_partner['diff_posted_raised'])\n",
    "plt.xlim(0,55000)"
   ]
  },
  {
   "cell_type": "code",
   "execution_count": null,
   "metadata": {},
   "outputs": [],
   "source": [
    "#sns.lmplot(x=\"LOAN_AMOUNT\", y=\"diff_posted_raised\",\n",
    "#               truncate=True, size=5, data=df_clean_partner)"
   ]
  },
  {
   "cell_type": "code",
   "execution_count": null,
   "metadata": {},
   "outputs": [],
   "source": [
    "(df_clean_partner[(df_clean_partner.LOAN_AMOUNT)>60000]['LOAN_AMOUNT']).hist()"
   ]
  },
  {
   "cell_type": "code",
   "execution_count": null,
   "metadata": {},
   "outputs": [],
   "source": [
    "(df_clean_partner[(df_clean_partner.LOAN_AMOUNT)>20000]['LOAN_AMOUNT']).hist()"
   ]
  },
  {
   "cell_type": "code",
   "execution_count": null,
   "metadata": {},
   "outputs": [],
   "source": [
    "(df_clean_partner[(df_clean_partner.LOAN_AMOUNT)<2000]['LOAN_AMOUNT']).hist()"
   ]
  },
  {
   "cell_type": "code",
   "execution_count": null,
   "metadata": {},
   "outputs": [],
   "source": [
    "df_BKT1 = df_clean_partner[df_clean_partner.LOAN_AMOUNT <= 2000]"
   ]
  },
  {
   "cell_type": "code",
   "execution_count": null,
   "metadata": {},
   "outputs": [],
   "source": [
    "df_BKT2 = df_clean_partner[(df_clean_partner.LOAN_AMOUNT > 2000) & (df_clean_partner.LOAN_AMOUNT <= 10000)]"
   ]
  },
  {
   "cell_type": "code",
   "execution_count": null,
   "metadata": {},
   "outputs": [],
   "source": [
    "df_BKT3 = df_clean_partner[(df_clean_partner.LOAN_AMOUNT > 10000) & (df_clean_partner.LOAN_AMOUNT <= 50000)]"
   ]
  },
  {
   "cell_type": "code",
   "execution_count": null,
   "metadata": {},
   "outputs": [],
   "source": [
    "df_BKT4 = df_clean_partner[(df_clean_partner.LOAN_AMOUNT > 50000) & (df_clean_partner.LOAN_AMOUNT <= 500000)]"
   ]
  },
  {
   "cell_type": "code",
   "execution_count": null,
   "metadata": {},
   "outputs": [],
   "source": [
    "df_BKT1['LOAN_AMOUNT'].hist()"
   ]
  },
  {
   "cell_type": "code",
   "execution_count": null,
   "metadata": {},
   "outputs": [],
   "source": [
    "df_BKT1['LOAN_AMOUNT'].describe()"
   ]
  },
  {
   "cell_type": "code",
   "execution_count": null,
   "metadata": {},
   "outputs": [],
   "source": [
    "df_BKT2['LOAN_AMOUNT'].hist()"
   ]
  },
  {
   "cell_type": "code",
   "execution_count": null,
   "metadata": {},
   "outputs": [],
   "source": [
    "df_BKT2['LOAN_AMOUNT'].describe()"
   ]
  },
  {
   "cell_type": "code",
   "execution_count": null,
   "metadata": {},
   "outputs": [],
   "source": [
    "plt.scatter(df_BKT1['LOAN_AMOUNT'],df_BKT1['diff_posted_raised'])\n",
    "# plt.xlim(0,55000)"
   ]
  },
  {
   "cell_type": "code",
   "execution_count": null,
   "metadata": {},
   "outputs": [],
   "source": [
    "#plt.scatter(df_BKT1[df_BKT1['diff_posted_raised']<40]['LOAN_AMOUNT'],df_BKT1[df_BKT1['diff_posted_raised']<40]['diff_posted_raised'])\n"
   ]
  },
  {
   "cell_type": "code",
   "execution_count": null,
   "metadata": {},
   "outputs": [],
   "source": [
    "# df_BKT2['LOAN_AMOUNT'].describe()"
   ]
  },
  {
   "cell_type": "code",
   "execution_count": null,
   "metadata": {},
   "outputs": [],
   "source": [
    "df_BKT1_30=df_BKT1[df_BKT1['diff_posted_planned']<40]"
   ]
  },
  {
   "cell_type": "code",
   "execution_count": null,
   "metadata": {},
   "outputs": [],
   "source": [
    "df_BKT1_30.shape"
   ]
  },
  {
   "cell_type": "code",
   "execution_count": null,
   "metadata": {},
   "outputs": [],
   "source": [
    "plt.scatter(df_BKT1_30['diff_posted_raised'],df_BKT1_30['NUM_LENDERS_TOTAL'])"
   ]
  },
  {
   "cell_type": "code",
   "execution_count": null,
   "metadata": {},
   "outputs": [],
   "source": [
    "df_BKT1_40=df_BKT1[df_BKT1['diff_posted_planned']>=40]"
   ]
  },
  {
   "cell_type": "code",
   "execution_count": null,
   "metadata": {},
   "outputs": [],
   "source": [
    "df_BKT1_40.shape"
   ]
  },
  {
   "cell_type": "code",
   "execution_count": null,
   "metadata": {},
   "outputs": [],
   "source": [
    "plt.scatter(df_BKT1_40['diff_posted_raised'],df_BKT1_40['NUM_LENDERS_TOTAL'])"
   ]
  },
  {
   "cell_type": "code",
   "execution_count": null,
   "metadata": {},
   "outputs": [],
   "source": []
  },
  {
   "cell_type": "code",
   "execution_count": null,
   "metadata": {},
   "outputs": [],
   "source": [
    "bins = list(range(0,2200,200))\n",
    "df_BKT1['binned'] = pd.cut(df_BKT1['LOAN_AMOUNT'],bins)"
   ]
  },
  {
   "cell_type": "code",
   "execution_count": null,
   "metadata": {},
   "outputs": [],
   "source": [
    "bins_post_plan = [30,35,40,60,80,106]\n",
    "df_BKT1['bins_post_plan'] = pd.cut(df_BKT1['diff_posted_planned'],bins_post_plan)"
   ]
  },
  {
   "cell_type": "code",
   "execution_count": null,
   "metadata": {},
   "outputs": [],
   "source": [
    "df_BKT1.head()"
   ]
  },
  {
   "cell_type": "code",
   "execution_count": null,
   "metadata": {},
   "outputs": [],
   "source": [
    "df_BKT1.groupby('binned').agg({'diff_posted_raised':\"mean\"})"
   ]
  },
  {
   "cell_type": "code",
   "execution_count": null,
   "metadata": {},
   "outputs": [],
   "source": [
    "df_b1_analysis = df_BKT1.groupby(['binned',\"bins_post_plan\"]).agg({'diff_posted_raised':\"mean\"}).unstack()\n",
    "df_b1_analysis"
   ]
  },
  {
   "cell_type": "code",
   "execution_count": null,
   "metadata": {},
   "outputs": [],
   "source": [
    "# corr = df[['LOAN_AMOUNT', 'LENDER_TERM', 'NUM_LENDERS_TOTAL', 'GROUP']].corr()\n",
    "sns.heatmap(df_b1_analysis, \n",
    "            xticklabels=df_b1_analysis.columns.values,\n",
    "            yticklabels=df_b1_analysis.index.values,\n",
    "           cmap='Blues')"
   ]
  },
  {
   "cell_type": "code",
   "execution_count": null,
   "metadata": {},
   "outputs": [],
   "source": [
    "df_BKT1.groupby(['SECTOR_NAME','binned','bins_post_plan']).agg({'diff_posted_raised':\"mean\"}).unstack()"
   ]
  },
  {
   "cell_type": "code",
   "execution_count": null,
   "metadata": {},
   "outputs": [],
   "source": [
    "plt.figure(figsize=(12,10))\n",
    "sns.heatmap(df_BKT1.groupby(['SECTOR_NAME','bins_post_plan']).agg({'diff_posted_raised':\"mean\"}).unstack())"
   ]
  },
  {
   "cell_type": "code",
   "execution_count": null,
   "metadata": {},
   "outputs": [],
   "source": [
    "plt.figure(figsize=(12,10))\n",
    "sns.heatmap(df_BKT1.groupby(['SECTOR_NAME','binned']).agg({'diff_posted_raised':\"mean\"}).unstack())\n"
   ]
  },
  {
   "cell_type": "code",
   "execution_count": null,
   "metadata": {},
   "outputs": [],
   "source": [
    "plt.figure(figsize=(12,10))\n",
    "sns.heatmap(df_BKT1.groupby(['NUM_LENDERS_TOTAL','binned']).agg({'diff_posted_raised':\"mean\"}).unstack())"
   ]
  },
  {
   "cell_type": "code",
   "execution_count": null,
   "metadata": {},
   "outputs": [],
   "source": [
    "plt.figure(figsize=(12,10))\n",
    "sns.heatmap(df_BKT1.groupby(['COUNTRY_NAME','binned']).agg({'diff_posted_raised':\"mean\"}).unstack())"
   ]
  },
  {
   "cell_type": "code",
   "execution_count": null,
   "metadata": {},
   "outputs": [],
   "source": [
    "plt.figure(figsize=(12,10))\n",
    "sns.heatmap(df_BKT1[df_BKT1['GROUP']!=True].groupby(['BORROWER_GENDERS','binned']).agg({'diff_posted_raised':\"mean\"}).unstack())"
   ]
  },
  {
   "cell_type": "code",
   "execution_count": null,
   "metadata": {},
   "outputs": [],
   "source": [
    "plt.figure(figsize=(12,10))\n",
    "sns.heatmap(df_BKT1.groupby(['ORIGINAL_LANGUAGE','binned']).agg({'diff_posted_raised':\"mean\"}).unstack())"
   ]
  },
  {
   "cell_type": "code",
   "execution_count": null,
   "metadata": {},
   "outputs": [],
   "source": [
    "plt.figure(figsize=(12,10))\n",
    "sns.heatmap(df_BKT1[df_BKT1['GROUP']!=True].groupby(['SECTOR_NAME','BORROWER_GENDERS']).agg({'diff_posted_raised':\"median\"}).unstack())"
   ]
  },
  {
   "cell_type": "code",
   "execution_count": null,
   "metadata": {},
   "outputs": [],
   "source": [
    "df_BKT1[df_BKT1['GROUP']!=True].groupby(['SECTOR_NAME','BORROWER_GENDERS']).agg({'diff_posted_raised':\"median\"}).unstack()"
   ]
  },
  {
   "cell_type": "code",
   "execution_count": null,
   "metadata": {},
   "outputs": [],
   "source": []
  },
  {
   "cell_type": "code",
   "execution_count": null,
   "metadata": {},
   "outputs": [],
   "source": [
    "# H0: mu_group - mu_individual = 0\n",
    "# Ha: mu_group - mu_induvidual != 0\n",
    "\n",
    "# alpha = 0.05\n",
    "\n",
    "# T test\n",
    "t, p = sts.ttest_ind(df_BKT1[df_BKT1['BORROWER_GENDERS']=='male']['diff_posted_raised'], df_BKT1[df_BKT1['BORROWER_GENDERS']=='female']['diff_posted_raised'], equal_var=False)\n",
    "\n",
    "# p value\n",
    "print(\"p-value: {:2.2f}\".format(p))"
   ]
  },
  {
   "cell_type": "code",
   "execution_count": null,
   "metadata": {},
   "outputs": [],
   "source": [
    "# H0: mu_group - mu_individual = 0\n",
    "# Ha: mu_group - mu_induvidual != 0\n",
    "\n",
    "# alpha = 0.05\n",
    "\n",
    "# T test\n",
    "t, p = sts.ttest_ind(df_BKT1[df_BKT1['SECTOR_NAME']=='Arts']['diff_posted_raised'], df_BKT1[df_BKT1['SECTOR_NAME']=='Clothing']['diff_posted_raised'], equal_var=False)\n",
    "\n",
    "# p value\n",
    "print(\"p-value: {:2.2f}\".format(p))"
   ]
  },
  {
   "cell_type": "code",
   "execution_count": null,
   "metadata": {},
   "outputs": [],
   "source": [
    " # H0: mu_group - mu_individual = 0\n",
    "# Ha: mu_group - mu_induvidual != 0\n",
    "\n",
    "# alpha = 0.05\n",
    "\n",
    "# T test\n",
    "t, p = sts.ttest_ind(df_BKT1[df_BKT1['GROUP']==1]['diff_posted_raised'], df_BKT1[df_BKT1['GROUP']==0]['diff_posted_raised'], equal_var=False)\n",
    "\n",
    "# p value\n",
    "print(\"p-value: {:2.2f}\".format(p))"
   ]
  },
  {
   "cell_type": "code",
   "execution_count": null,
   "metadata": {
    "scrolled": true
   },
   "outputs": [],
   "source": [
    "df_BKT1.corr()"
   ]
  },
  {
   "cell_type": "code",
   "execution_count": null,
   "metadata": {},
   "outputs": [],
   "source": [
    "plt.figure(figsize=(12,10))\n",
    "sns.heatmap(df_BKT1.corr())"
   ]
  },
  {
   "cell_type": "markdown",
   "metadata": {},
   "source": [
    "## Other people's work\n",
    "\n",
    "\n",
    "### similiar findings\n",
    "- exclude direct, big companies \n",
    "\n",
    "\n",
    "### Scott's to calculte optimal bins for histgram\n",
    "\n",
    "\n",
    "\n",
    "\n",
    "### t-test & p-value for gender / sector / group | individual \n",
    "\n",
    "\n",
    "- more men published video than women (proportion t-test)\n",
    "\n",
    "- half of the countries \n",
    "\n",
    "\n",
    "\n"
   ]
  },
  {
   "cell_type": "markdown",
   "metadata": {},
   "source": [
    "\n",
    "\n",
    "we should filter by 'funded'\n",
    "\n",
    "## see the trend day by day "
   ]
  }
 ],
 "metadata": {
  "kernelspec": {
   "display_name": "Python 3",
   "language": "python",
   "name": "python3"
  },
  "language_info": {
   "codemirror_mode": {
    "name": "ipython",
    "version": 3
   },
   "file_extension": ".py",
   "mimetype": "text/x-python",
   "name": "python",
   "nbconvert_exporter": "python",
   "pygments_lexer": "ipython3",
   "version": "3.6.4"
  }
 },
 "nbformat": 4,
 "nbformat_minor": 2
}
